{
 "metadata": {
  "language_info": {
   "codemirror_mode": {
    "name": "ipython",
    "version": 3
   },
   "file_extension": ".py",
   "mimetype": "text/x-python",
   "name": "python",
   "nbconvert_exporter": "python",
   "pygments_lexer": "ipython3",
   "version": "3.8.3-final"
  },
  "orig_nbformat": 2,
  "kernelspec": {
   "name": "python3",
   "display_name": "Python 3",
   "language": "python"
  }
 },
 "nbformat": 4,
 "nbformat_minor": 2,
 "cells": [
  {
   "cell_type": "code",
   "execution_count": 3,
   "metadata": {},
   "outputs": [
    {
     "output_type": "stream",
     "name": "stdout",
     "text": [
      "107\n"
     ]
    }
   ],
   "source": [
    "import json\n",
    "with open('data.json', 'rb') as infile:\n",
    "    data = json.load(infile)\n",
    "\n",
    "data_list = data['events_data']\n",
    "\n",
    "print(len(data_list))"
   ]
  },
  {
   "cell_type": "code",
   "execution_count": 4,
   "metadata": {},
   "outputs": [
    {
     "output_type": "stream",
     "name": "stdout",
     "text": [
      "Counter({'page': 74, 'datepicker': 15, 'table': 10, 'report': 8})\n"
     ]
    }
   ],
   "source": [
    "import collections\n",
    "counter = collections.Counter()\n",
    "\n",
    "categories = []\n",
    "for item in data_list:\n",
    "    category = item['category']\n",
    "    categories.append(category)\n",
    "\n",
    "for category in categories:\n",
    "    counter[category] += 1\n",
    "print(counter)"
   ]
  },
  {
   "cell_type": "code",
   "execution_count": 5,
   "metadata": {},
   "outputs": [
    {
     "output_type": "stream",
     "name": "stdout",
     "text": [
      "[27115, 27115, 27115, 27115, 60459, 60459, 60459, 60459, 58113, 58113]\n"
     ]
    }
   ],
   "source": [
    "table_clients = []\n",
    "for item in data_list:\n",
    "    client_id = item['client_id']\n",
    "    category = item['category']\n",
    "    if category == 'table':\n",
    "        table_clients.append(client_id)\n",
    "print (table_clients)"
   ]
  },
  {
   "cell_type": "code",
   "execution_count": 6,
   "metadata": {},
   "outputs": [
    {
     "output_type": "stream",
     "name": "stdout",
     "text": [
      "Counter({27115: 4, 60459: 4, 58113: 2})\n"
     ]
    }
   ],
   "source": [
    "table_counter = collections.Counter()\n",
    "for table_client in table_clients:\n",
    "    table_counter[table_client] += 1\n",
    "print(table_counter)"
   ]
  },
  {
   "cell_type": "code",
   "execution_count": 9,
   "metadata": {},
   "outputs": [
    {
     "output_type": "stream",
     "name": "stdout",
     "text": [
      "51\n"
     ]
    }
   ],
   "source": [
    "clients = []\n",
    "for item in data_list:\n",
    "    client_id = item['client_id']\n",
    "    if (client_id not in clients):\n",
    "        clients.append(client_id)\n",
    "print(len(clients))"
   ]
  },
  {
   "cell_type": "code",
   "execution_count": 14,
   "metadata": {},
   "outputs": [
    {
     "output_type": "stream",
     "name": "stdout",
     "text": [
      "[62526, 61944, 27115, 62017, 63120, 59883, 2913, 62940, 63149, 45391, 18923, 63019, 15759, 62007, 62941, 51009, 62236, 44682, 39709, 60459, 62144, 52492, 25301, 33645, 62089, 26705, 1103, 62439, 44196, 62602, 50149, 57009, 57207, 32792, 27323, 24500, 58330, 61245, 19799, 56544, 23207, 48128, 58113, 57613, 61244, 53666, 53018, 41737, 61078, 20820, 49700]\n"
     ]
    }
   ],
   "source": [
    "# client_counter = collections.Counter()\n",
    "# for client in clients:\n",
    "#     client_counter[client] += 1\n",
    "# print(clients)\n",
    "\n"
   ]
  },
  {
   "cell_type": "code",
   "execution_count": 18,
   "metadata": {},
   "outputs": [
    {
     "output_type": "stream",
     "name": "stdout",
     "text": [
      "Counter({'page': 74, 60459: 24, 'datepicker': 15, 'table': 10, 62602: 9, 'report': 8})\n"
     ]
    }
   ],
   "source": [
    "for action in data_list:\n",
    "    if (action['client_id'] == 60459):\n",
    "        counter[60459] += 1\n",
    "    elif(action['client_id'] == 62602 and action['category'] == 'page'):\n",
    "        counter[62602] += 1\n",
    "    \n",
    "\n",
    "print(counter)"
   ]
  },
  {
   "cell_type": "code",
   "execution_count": 20,
   "metadata": {},
   "outputs": [
    {
     "output_type": "stream",
     "name": "stdout",
     "text": [
      "[60459, 62602, 58113]\n"
     ]
    }
   ],
   "source": [
    "report_clients = []\n",
    "for action in data_list:\n",
    "    if (action['category'] == 'report' and action['client_id'] not in report_clients):\n",
    "        report_clients.append(action['client_id'])\n",
    "\n",
    "print(report_clients)"
   ]
  },
  {
   "cell_type": "code",
   "execution_count": null,
   "metadata": {},
   "outputs": [],
   "source": []
  }
 ]
}