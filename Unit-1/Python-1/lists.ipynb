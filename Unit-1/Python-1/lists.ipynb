{
 "metadata": {
  "language_info": {
   "codemirror_mode": {
    "name": "ipython",
    "version": 3
   },
   "file_extension": ".py",
   "mimetype": "text/x-python",
   "name": "python",
   "nbconvert_exporter": "python",
   "pygments_lexer": "ipython3",
   "version": "3.8.3-final"
  },
  "orig_nbformat": 2,
  "kernelspec": {
   "name": "python3",
   "display_name": "Python 3",
   "language": "python"
  }
 },
 "nbformat": 4,
 "nbformat_minor": 2,
 "cells": [
  {
   "cell_type": "code",
   "execution_count": 6,
   "metadata": {},
   "outputs": [
    {
     "output_type": "stream",
     "name": "stdout",
     "text": [
      "0 Александр\n1 Константин\n2 Мария\n3 Диана\n4 Алексей\n5 Максим\n6 Светлана\n7 Арина\n8 Серафим\n9 Doomer\n10 Павел\n11 Виктория\n12 Елена\n13 Галина\n14 Вячеслав\n"
     ]
    }
   ],
   "source": [
    " best = ['Александр', 'Константин', 'Мария', 'Диана', 'Алексей', 'Максим', 'Светлана', 'Арина', 'Серафим','Doomer','Павел', 'Виктория', 'Елена', 'Галина', 'Вячеслав']\n",
    "for i, val in enumerate(best):\n",
    "    print(i, val)"
   ]
  },
  {
   "cell_type": "code",
   "execution_count": null,
   "metadata": {},
   "outputs": [],
   "source": []
  }
 ]
}