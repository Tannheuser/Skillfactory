{
 "metadata": {
  "language_info": {
   "codemirror_mode": {
    "name": "ipython",
    "version": 3
   },
   "file_extension": ".py",
   "mimetype": "text/x-python",
   "name": "python",
   "nbconvert_exporter": "python",
   "pygments_lexer": "ipython3",
   "version": "3.8.5"
  },
  "orig_nbformat": 2,
  "kernelspec": {
   "name": "python385jvsc74a57bd0e8f2c86635c9ab7286046e43d6fd467c91b8f687ae811d251410815d88d5a03d",
   "display_name": "Python 3.8.5 64-bit ('base': conda)"
  }
 },
 "nbformat": 4,
 "nbformat_minor": 2,
 "cells": [
  {
   "cell_type": "code",
   "execution_count": 2,
   "metadata": {},
   "outputs": [],
   "source": [
    "import pandas as pd\n",
    "\n",
    "df = pd.read_csv('data_sf.csv')"
   ]
  },
  {
   "cell_type": "code",
   "execution_count": 14,
   "metadata": {},
   "outputs": [
    {
     "output_type": "execute_result",
     "data": {
      "text/plain": [
       "2.5246153846153847"
      ]
     },
     "metadata": {},
     "execution_count": 14
    }
   ],
   "source": [
    "# 6.13 1 Number of players with different positions in each club with 0 as empty value\n",
    "# mean value of GK in clubs\n",
    "\n",
    "pivot = df.pivot_table(values=['Name'],\n",
    "index=['Position'],\n",
    "columns=['Club'],\n",
    "aggfunc='count',\n",
    "fill_value=0)\n",
    "pivot.loc['GK'].mean()"
   ]
  },
  {
   "cell_type": "code",
   "execution_count": 20,
   "metadata": {},
   "outputs": [
    {
     "output_type": "execute_result",
     "data": {
      "text/plain": [
       "1    211\n",
       "2    149\n",
       "0    136\n",
       "3     89\n",
       "4     39\n",
       "5     21\n",
       "6      5\n",
       "Name: CM, dtype: int64"
      ]
     },
     "metadata": {},
     "execution_count": 20
    }
   ],
   "source": [
    "# 6.13 2 How many clubs does not contain CM Position info\n",
    "\n",
    "pivot.loc['CM'].value_counts()"
   ]
  },
  {
   "cell_type": "code",
   "execution_count": 5,
   "metadata": {},
   "outputs": [
    {
     "output_type": "execute_result",
     "data": {
      "text/plain": [
       "                            Wage                                             \\\n",
       "Club         SSV Jahn Regensburg 1. FC Heidenheim 1846 1. FC Kaiserslautern   \n",
       "Nationality                                                                   \n",
       "Afghanistan                    0                     0                    0   \n",
       "Albania                        0                     0                    0   \n",
       "Algeria                        0                     0                    0   \n",
       "Andorra                        0                     0                    0   \n",
       "Angola                         0                     0                    0   \n",
       "...                          ...                   ...                  ...   \n",
       "Uzbekistan                     0                     0                    0   \n",
       "Venezuela                      0                     0                    0   \n",
       "Wales                          0                     0                    0   \n",
       "Zambia                         0                     0                    0   \n",
       "Zimbabwe                       0                     0                    0   \n",
       "\n",
       "                                                                          \\\n",
       "Club        1. FC Köln 1. FC Magdeburg 1. FC Nürnberg 1. FC Union Berlin   \n",
       "Nationality                                                                \n",
       "Afghanistan          0               0              0                  0   \n",
       "Albania              0               0              0                  0   \n",
       "Algeria              0               0              0                  0   \n",
       "Andorra              0               0              0                  0   \n",
       "Angola               0               0              0                  0   \n",
       "...                ...             ...            ...                ...   \n",
       "Uzbekistan           0               0              0                  0   \n",
       "Venezuela            0               0              0                  0   \n",
       "Wales                0               0              0                  0   \n",
       "Zambia               0               0              0                  0   \n",
       "Zimbabwe             0               0              0                  0   \n",
       "\n",
       "                                                   ...                    \\\n",
       "Club        1. FSV Mainz 05 AC Ajaccio AC Horsens  ... Wycombe Wanderers   \n",
       "Nationality                                        ...                     \n",
       "Afghanistan               0          0          0  ...                 0   \n",
       "Albania                   0       2000          0  ...                 0   \n",
       "Algeria                   0          0          0  ...                 0   \n",
       "Andorra                   0          0          0  ...                 0   \n",
       "Angola                    0          0          0  ...                 0   \n",
       "...                     ...        ...        ...  ...               ...   \n",
       "Uzbekistan                0          0          0  ...                 0   \n",
       "Venezuela                 0          0          0  ...                 0   \n",
       "Wales                     0          0          0  ...              4000   \n",
       "Zambia                    0          0          0  ...                 0   \n",
       "Zimbabwe                  0          0          0  ...                 0   \n",
       "\n",
       "                                                                             \\\n",
       "Club        Yeni Malatyaspor Yeovil Town Yokohama F. Marinos Zagłębie Lubin   \n",
       "Nationality                                                                   \n",
       "Afghanistan                0           0                   0              0   \n",
       "Albania                    0           0                   0              0   \n",
       "Algeria                    0        1000                   0              0   \n",
       "Andorra                    0           0                   0              0   \n",
       "Angola                     0           0                   0              0   \n",
       "...                      ...         ...                 ...            ...   \n",
       "Uzbekistan                 0           0                   0              0   \n",
       "Venezuela                  0           0                   0              0   \n",
       "Wales                      0        2000                   0              0   \n",
       "Zambia                     0           0                   0              0   \n",
       "Zimbabwe                   0           0                   0              0   \n",
       "\n",
       "                                                                        \\\n",
       "Club        Zagłębie Sosnowiec Çaykur Rizespor Örebro SK Östersunds FK   \n",
       "Nationality                                                              \n",
       "Afghanistan                  0               0         0             0   \n",
       "Albania                      0               0      1000             0   \n",
       "Algeria                      0               0         0             0   \n",
       "Andorra                      0               0         0             0   \n",
       "Angola                    1000               0         0             0   \n",
       "...                        ...             ...       ...           ...   \n",
       "Uzbekistan                   0               0         0             0   \n",
       "Venezuela                    0               0         0             0   \n",
       "Wales                        0               0         0             0   \n",
       "Zambia                       0               0         0             0   \n",
       "Zimbabwe                     0               0         0             0   \n",
       "\n",
       "                           \n",
       "Club        Śląsk Wrocław  \n",
       "Nationality                \n",
       "Afghanistan             0  \n",
       "Albania                 0  \n",
       "Algeria                 0  \n",
       "Andorra                 0  \n",
       "Angola                  0  \n",
       "...                   ...  \n",
       "Uzbekistan              0  \n",
       "Venezuela               0  \n",
       "Wales                   0  \n",
       "Zambia                  0  \n",
       "Zimbabwe                0  \n",
       "\n",
       "[156 rows x 650 columns]"
      ],
      "text/html": "<div>\n<style scoped>\n    .dataframe tbody tr th:only-of-type {\n        vertical-align: middle;\n    }\n\n    .dataframe tbody tr th {\n        vertical-align: top;\n    }\n\n    .dataframe thead tr th {\n        text-align: left;\n    }\n\n    .dataframe thead tr:last-of-type th {\n        text-align: right;\n    }\n</style>\n<table border=\"1\" class=\"dataframe\">\n  <thead>\n    <tr>\n      <th></th>\n      <th colspan=\"21\" halign=\"left\">Wage</th>\n    </tr>\n    <tr>\n      <th>Club</th>\n      <th>SSV Jahn Regensburg</th>\n      <th>1. FC Heidenheim 1846</th>\n      <th>1. FC Kaiserslautern</th>\n      <th>1. FC Köln</th>\n      <th>1. FC Magdeburg</th>\n      <th>1. FC Nürnberg</th>\n      <th>1. FC Union Berlin</th>\n      <th>1. FSV Mainz 05</th>\n      <th>AC Ajaccio</th>\n      <th>AC Horsens</th>\n      <th>...</th>\n      <th>Wycombe Wanderers</th>\n      <th>Yeni Malatyaspor</th>\n      <th>Yeovil Town</th>\n      <th>Yokohama F. Marinos</th>\n      <th>Zagłębie Lubin</th>\n      <th>Zagłębie Sosnowiec</th>\n      <th>Çaykur Rizespor</th>\n      <th>Örebro SK</th>\n      <th>Östersunds FK</th>\n      <th>Śląsk Wrocław</th>\n    </tr>\n    <tr>\n      <th>Nationality</th>\n      <th></th>\n      <th></th>\n      <th></th>\n      <th></th>\n      <th></th>\n      <th></th>\n      <th></th>\n      <th></th>\n      <th></th>\n      <th></th>\n      <th></th>\n      <th></th>\n      <th></th>\n      <th></th>\n      <th></th>\n      <th></th>\n      <th></th>\n      <th></th>\n      <th></th>\n      <th></th>\n      <th></th>\n    </tr>\n  </thead>\n  <tbody>\n    <tr>\n      <th>Afghanistan</th>\n      <td>0</td>\n      <td>0</td>\n      <td>0</td>\n      <td>0</td>\n      <td>0</td>\n      <td>0</td>\n      <td>0</td>\n      <td>0</td>\n      <td>0</td>\n      <td>0</td>\n      <td>...</td>\n      <td>0</td>\n      <td>0</td>\n      <td>0</td>\n      <td>0</td>\n      <td>0</td>\n      <td>0</td>\n      <td>0</td>\n      <td>0</td>\n      <td>0</td>\n      <td>0</td>\n    </tr>\n    <tr>\n      <th>Albania</th>\n      <td>0</td>\n      <td>0</td>\n      <td>0</td>\n      <td>0</td>\n      <td>0</td>\n      <td>0</td>\n      <td>0</td>\n      <td>0</td>\n      <td>2000</td>\n      <td>0</td>\n      <td>...</td>\n      <td>0</td>\n      <td>0</td>\n      <td>0</td>\n      <td>0</td>\n      <td>0</td>\n      <td>0</td>\n      <td>0</td>\n      <td>1000</td>\n      <td>0</td>\n      <td>0</td>\n    </tr>\n    <tr>\n      <th>Algeria</th>\n      <td>0</td>\n      <td>0</td>\n      <td>0</td>\n      <td>0</td>\n      <td>0</td>\n      <td>0</td>\n      <td>0</td>\n      <td>0</td>\n      <td>0</td>\n      <td>0</td>\n      <td>...</td>\n      <td>0</td>\n      <td>0</td>\n      <td>1000</td>\n      <td>0</td>\n      <td>0</td>\n      <td>0</td>\n      <td>0</td>\n      <td>0</td>\n      <td>0</td>\n      <td>0</td>\n    </tr>\n    <tr>\n      <th>Andorra</th>\n      <td>0</td>\n      <td>0</td>\n      <td>0</td>\n      <td>0</td>\n      <td>0</td>\n      <td>0</td>\n      <td>0</td>\n      <td>0</td>\n      <td>0</td>\n      <td>0</td>\n      <td>...</td>\n      <td>0</td>\n      <td>0</td>\n      <td>0</td>\n      <td>0</td>\n      <td>0</td>\n      <td>0</td>\n      <td>0</td>\n      <td>0</td>\n      <td>0</td>\n      <td>0</td>\n    </tr>\n    <tr>\n      <th>Angola</th>\n      <td>0</td>\n      <td>0</td>\n      <td>0</td>\n      <td>0</td>\n      <td>0</td>\n      <td>0</td>\n      <td>0</td>\n      <td>0</td>\n      <td>0</td>\n      <td>0</td>\n      <td>...</td>\n      <td>0</td>\n      <td>0</td>\n      <td>0</td>\n      <td>0</td>\n      <td>0</td>\n      <td>1000</td>\n      <td>0</td>\n      <td>0</td>\n      <td>0</td>\n      <td>0</td>\n    </tr>\n    <tr>\n      <th>...</th>\n      <td>...</td>\n      <td>...</td>\n      <td>...</td>\n      <td>...</td>\n      <td>...</td>\n      <td>...</td>\n      <td>...</td>\n      <td>...</td>\n      <td>...</td>\n      <td>...</td>\n      <td>...</td>\n      <td>...</td>\n      <td>...</td>\n      <td>...</td>\n      <td>...</td>\n      <td>...</td>\n      <td>...</td>\n      <td>...</td>\n      <td>...</td>\n      <td>...</td>\n      <td>...</td>\n    </tr>\n    <tr>\n      <th>Uzbekistan</th>\n      <td>0</td>\n      <td>0</td>\n      <td>0</td>\n      <td>0</td>\n      <td>0</td>\n      <td>0</td>\n      <td>0</td>\n      <td>0</td>\n      <td>0</td>\n      <td>0</td>\n      <td>...</td>\n      <td>0</td>\n      <td>0</td>\n      <td>0</td>\n      <td>0</td>\n      <td>0</td>\n      <td>0</td>\n      <td>0</td>\n      <td>0</td>\n      <td>0</td>\n      <td>0</td>\n    </tr>\n    <tr>\n      <th>Venezuela</th>\n      <td>0</td>\n      <td>0</td>\n      <td>0</td>\n      <td>0</td>\n      <td>0</td>\n      <td>0</td>\n      <td>0</td>\n      <td>0</td>\n      <td>0</td>\n      <td>0</td>\n      <td>...</td>\n      <td>0</td>\n      <td>0</td>\n      <td>0</td>\n      <td>0</td>\n      <td>0</td>\n      <td>0</td>\n      <td>0</td>\n      <td>0</td>\n      <td>0</td>\n      <td>0</td>\n    </tr>\n    <tr>\n      <th>Wales</th>\n      <td>0</td>\n      <td>0</td>\n      <td>0</td>\n      <td>0</td>\n      <td>0</td>\n      <td>0</td>\n      <td>0</td>\n      <td>0</td>\n      <td>0</td>\n      <td>0</td>\n      <td>...</td>\n      <td>4000</td>\n      <td>0</td>\n      <td>2000</td>\n      <td>0</td>\n      <td>0</td>\n      <td>0</td>\n      <td>0</td>\n      <td>0</td>\n      <td>0</td>\n      <td>0</td>\n    </tr>\n    <tr>\n      <th>Zambia</th>\n      <td>0</td>\n      <td>0</td>\n      <td>0</td>\n      <td>0</td>\n      <td>0</td>\n      <td>0</td>\n      <td>0</td>\n      <td>0</td>\n      <td>0</td>\n      <td>0</td>\n      <td>...</td>\n      <td>0</td>\n      <td>0</td>\n      <td>0</td>\n      <td>0</td>\n      <td>0</td>\n      <td>0</td>\n      <td>0</td>\n      <td>0</td>\n      <td>0</td>\n      <td>0</td>\n    </tr>\n    <tr>\n      <th>Zimbabwe</th>\n      <td>0</td>\n      <td>0</td>\n      <td>0</td>\n      <td>0</td>\n      <td>0</td>\n      <td>0</td>\n      <td>0</td>\n      <td>0</td>\n      <td>0</td>\n      <td>0</td>\n      <td>...</td>\n      <td>0</td>\n      <td>0</td>\n      <td>0</td>\n      <td>0</td>\n      <td>0</td>\n      <td>0</td>\n      <td>0</td>\n      <td>0</td>\n      <td>0</td>\n      <td>0</td>\n    </tr>\n  </tbody>\n</table>\n<p>156 rows × 650 columns</p>\n</div>"
     },
     "metadata": {},
     "execution_count": 5
    }
   ],
   "source": [
    "# 6.14 1 Wage of Russian players in AS Monaco\n",
    "\n",
    "wages = df.pivot_table(values=['Wage'],\n",
    "index=['Nationality'],\n",
    "columns=['Club'],\n",
    "aggfunc='sum',\n",
    "fill_value=0)\n",
    "# wages.loc['Russia']['Wage']['AS Monaco']\n",
    "wages"
   ]
  },
  {
   "cell_type": "code",
   "execution_count": 47,
   "metadata": {},
   "outputs": [
    {
     "output_type": "execute_result",
     "data": {
      "text/plain": [
       "             Position\n",
       "SprintSpeed  RS          94.0\n",
       "             RM          94.0\n",
       "             LM          94.0\n",
       "             LS          93.0\n",
       "             RB          93.0\n",
       "             LB          93.0\n",
       "             CF          91.0\n",
       "             LW          91.0\n",
       "             ST          91.0\n",
       "             RDM         91.0\n",
       "             RW          91.0\n",
       "             RCM         90.0\n",
       "             CAM         89.0\n",
       "             LF          88.0\n",
       "             RCB         88.0\n",
       "             LCB         88.0\n",
       "             RWB         86.0\n",
       "             RF          86.0\n",
       "             CM          86.0\n",
       "             LWB         86.0\n",
       "             LAM         85.0\n",
       "             LCM         84.0\n",
       "             CDM         83.0\n",
       "             LDM         79.0\n",
       "             RAM         78.0\n",
       "             CB          78.0\n",
       "             GK          62.0\n",
       "dtype: float64"
      ]
     },
     "metadata": {},
     "execution_count": 47
    }
   ],
   "source": [
    "# 6.14 2 Mean speed of players in clubs. Positions with max speed.\n",
    "\n",
    "speed = df.pivot_table(values=['SprintSpeed'],\n",
    "index=['Club'],\n",
    "columns=['Position'],\n",
    "aggfunc='mean',\n",
    "fill_value=0)\n",
    "speed.max().sort_values(ascending=False)"
   ]
  },
  {
   "cell_type": "code",
   "execution_count": 40,
   "metadata": {},
   "outputs": [
    {
     "output_type": "execute_result",
     "data": {
      "text/plain": [
       "             Club                 \n",
       "SprintSpeed  Vitória                  91.000000\n",
       "             Sydney FC                88.000000\n",
       "             CD Lugo                  87.000000\n",
       "             Brøndby IF               84.666667\n",
       "             Leicester City           84.500000\n",
       "                                        ...    \n",
       "             Málaga CF                 0.000000\n",
       "             PFC CSKA Moscow           0.000000\n",
       "             Stade Rennais FC          0.000000\n",
       "             Standard de Liège         0.000000\n",
       "             Sporting de Charleroi     0.000000\n",
       "Name: ST, Length: 650, dtype: float64"
      ]
     },
     "metadata": {},
     "execution_count": 40
    }
   ],
   "source": [
    "# 6.14 3 ST with max speed\n",
    "\n",
    "speed.loc['ST'].sort_values(ascending=False)"
   ]
  },
  {
   "cell_type": "code",
   "execution_count": null,
   "metadata": {},
   "outputs": [],
   "source": []
  }
 ]
}