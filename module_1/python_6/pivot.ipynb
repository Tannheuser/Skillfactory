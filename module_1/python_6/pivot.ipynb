{
 "metadata": {
  "language_info": {
   "codemirror_mode": {
    "name": "ipython",
    "version": 3
   },
   "file_extension": ".py",
   "mimetype": "text/x-python",
   "name": "python",
   "nbconvert_exporter": "python",
   "pygments_lexer": "ipython3",
   "version": "3.8.3-final"
  },
  "orig_nbformat": 2,
  "kernelspec": {
   "name": "python3",
   "display_name": "Python 3",
   "language": "python"
  }
 },
 "nbformat": 4,
 "nbformat_minor": 2,
 "cells": [
  {
   "cell_type": "code",
   "execution_count": 1,
   "metadata": {},
   "outputs": [],
   "source": [
    "import pandas as pd\n",
    "\n",
    "df = pd.read_csv('data_sf.csv')"
   ]
  },
  {
   "cell_type": "code",
   "execution_count": 14,
   "metadata": {},
   "outputs": [
    {
     "output_type": "execute_result",
     "data": {
      "text/plain": [
       "2.5246153846153847"
      ]
     },
     "metadata": {},
     "execution_count": 14
    }
   ],
   "source": [
    "# 6.13 1 Number of players with different positions in each club with 0 as empty value\n",
    "# mean value of GK in clubs\n",
    "\n",
    "pivot = df.pivot_table(values=['Name'],\n",
    "index=['Position'],\n",
    "columns=['Club'],\n",
    "aggfunc='count',\n",
    "fill_value=0)\n",
    "pivot.loc['GK'].mean()"
   ]
  },
  {
   "cell_type": "code",
   "execution_count": 20,
   "metadata": {},
   "outputs": [
    {
     "output_type": "execute_result",
     "data": {
      "text/plain": [
       "1    211\n",
       "2    149\n",
       "0    136\n",
       "3     89\n",
       "4     39\n",
       "5     21\n",
       "6      5\n",
       "Name: CM, dtype: int64"
      ]
     },
     "metadata": {},
     "execution_count": 20
    }
   ],
   "source": [
    "# 6.13 2 How many clubs does not contain CM Position info\n",
    "\n",
    "pivot.loc['CM'].value_counts()"
   ]
  },
  {
   "cell_type": "code",
   "execution_count": 27,
   "metadata": {},
   "outputs": [
    {
     "output_type": "execute_result",
     "data": {
      "text/plain": [
       "61000"
      ]
     },
     "metadata": {},
     "execution_count": 27
    }
   ],
   "source": [
    "# 6.14 1 Wage of Russian players in AS Monaco\n",
    "\n",
    "wages = df.pivot_table(values=['Wage'],\n",
    "index=['Nationality'],\n",
    "columns=['Club'],\n",
    "aggfunc='sum',\n",
    "fill_value=0)\n",
    "wages.loc['Russia']['Wage']['AS Monaco']"
   ]
  },
  {
   "cell_type": "code",
   "execution_count": 47,
   "metadata": {},
   "outputs": [
    {
     "output_type": "execute_result",
     "data": {
      "text/plain": [
       "             Position\n",
       "SprintSpeed  RS          94.0\n",
       "             RM          94.0\n",
       "             LM          94.0\n",
       "             LS          93.0\n",
       "             RB          93.0\n",
       "             LB          93.0\n",
       "             CF          91.0\n",
       "             LW          91.0\n",
       "             ST          91.0\n",
       "             RDM         91.0\n",
       "             RW          91.0\n",
       "             RCM         90.0\n",
       "             CAM         89.0\n",
       "             LF          88.0\n",
       "             RCB         88.0\n",
       "             LCB         88.0\n",
       "             RWB         86.0\n",
       "             RF          86.0\n",
       "             CM          86.0\n",
       "             LWB         86.0\n",
       "             LAM         85.0\n",
       "             LCM         84.0\n",
       "             CDM         83.0\n",
       "             LDM         79.0\n",
       "             RAM         78.0\n",
       "             CB          78.0\n",
       "             GK          62.0\n",
       "dtype: float64"
      ]
     },
     "metadata": {},
     "execution_count": 47
    }
   ],
   "source": [
    "# 6.14 2 Mean speed of players in clubs. Positions with max speed.\n",
    "\n",
    "speed = df.pivot_table(values=['SprintSpeed'],\n",
    "index=['Club'],\n",
    "columns=['Position'],\n",
    "aggfunc='mean',\n",
    "fill_value=0)\n",
    "speed.max().sort_values(ascending=False)"
   ]
  },
  {
   "cell_type": "code",
   "execution_count": 40,
   "metadata": {},
   "outputs": [
    {
     "output_type": "execute_result",
     "data": {
      "text/plain": [
       "             Club                 \n",
       "SprintSpeed  Vitória                  91.000000\n",
       "             Sydney FC                88.000000\n",
       "             CD Lugo                  87.000000\n",
       "             Brøndby IF               84.666667\n",
       "             Leicester City           84.500000\n",
       "                                        ...    \n",
       "             Málaga CF                 0.000000\n",
       "             PFC CSKA Moscow           0.000000\n",
       "             Stade Rennais FC          0.000000\n",
       "             Standard de Liège         0.000000\n",
       "             Sporting de Charleroi     0.000000\n",
       "Name: ST, Length: 650, dtype: float64"
      ]
     },
     "metadata": {},
     "execution_count": 40
    }
   ],
   "source": [
    "# 6.14 3 ST with max speed\n",
    "\n",
    "speed.loc['ST'].sort_values(ascending=False)"
   ]
  },
  {
   "cell_type": "code",
   "execution_count": null,
   "metadata": {},
   "outputs": [],
   "source": []
  }
 ]
}