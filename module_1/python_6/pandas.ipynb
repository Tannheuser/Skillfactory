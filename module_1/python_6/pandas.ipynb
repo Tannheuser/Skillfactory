{
 "metadata": {
  "language_info": {
   "codemirror_mode": {
    "name": "ipython",
    "version": 3
   },
   "file_extension": ".py",
   "mimetype": "text/x-python",
   "name": "python",
   "nbconvert_exporter": "python",
   "pygments_lexer": "ipython3",
   "version": "3.8.3-final"
  },
  "orig_nbformat": 2,
  "kernelspec": {
   "name": "python3",
   "display_name": "Python 3",
   "language": "python"
  }
 },
 "nbformat": 4,
 "nbformat_minor": 2,
 "cells": [
  {
   "cell_type": "code",
   "execution_count": null,
   "metadata": {},
   "outputs": [],
   "source": []
  },
  {
   "cell_type": "code",
   "execution_count": 4,
   "metadata": {},
   "outputs": [
    {
     "output_type": "execute_result",
     "data": {
      "text/plain": [
       "                 Name  Age Nationality                 Club      Value  \\\n",
       "0            L. Messi   31   Argentina         FC Barcelona  110500000   \n",
       "1   Cristiano Ronaldo   33    Portugal             Juventus   77000000   \n",
       "2           Neymar Jr   26      Brazil  Paris Saint-Germain  118500000   \n",
       "3              De Gea   27       Spain    Manchester United   72000000   \n",
       "4        K. De Bruyne   27     Belgium      Manchester City  102000000   \n",
       "5           E. Hazard   27     Belgium              Chelsea   93000000   \n",
       "6           L. Modrić   32     Croatia          Real Madrid   67000000   \n",
       "7           L. Suárez   31     Uruguay         FC Barcelona   80000000   \n",
       "8        Sergio Ramos   32       Spain          Real Madrid   51000000   \n",
       "9            J. Oblak   25    Slovenia      Atlético Madrid   68000000   \n",
       "10     R. Lewandowski   29      Poland    FC Bayern München   77000000   \n",
       "11           T. Kroos   28     Germany          Real Madrid   76500000   \n",
       "12           D. Godín   32     Uruguay      Atlético Madrid   44000000   \n",
       "13        David Silva   32       Spain      Manchester City   60000000   \n",
       "14           N. Kanté   27      France              Chelsea   63000000   \n",
       "15          P. Dybala   24   Argentina             Juventus   89000000   \n",
       "16            H. Kane   24     England    Tottenham Hotspur   83500000   \n",
       "17       A. Griezmann   27      France      Atlético Madrid   78000000   \n",
       "18      M. ter Stegen   26     Germany         FC Barcelona   58000000   \n",
       "19        T. Courtois   26     Belgium          Real Madrid   53500000   \n",
       "20    Sergio Busquets   29       Spain         FC Barcelona   51500000   \n",
       "21          E. Cavani   31     Uruguay  Paris Saint-Germain   60000000   \n",
       "22           M. Neuer   32     Germany    FC Bayern München   38000000   \n",
       "23          S. Agüero   30   Argentina      Manchester City   64500000   \n",
       "24       G. Chiellini   33       Italy             Juventus   27000000   \n",
       "\n",
       "      Wage Position  \n",
       "0   565000       RF  \n",
       "1   405000       ST  \n",
       "2   290000       LW  \n",
       "3   260000       GK  \n",
       "4   355000      RCM  \n",
       "5   340000       LF  \n",
       "6   420000      RCM  \n",
       "7   455000       RS  \n",
       "8   380000      RCB  \n",
       "9    94000       GK  \n",
       "10  205000       ST  \n",
       "11  355000      LCM  \n",
       "12  125000       CB  \n",
       "13  285000      LCM  \n",
       "14  225000      LDM  \n",
       "15  205000       LF  \n",
       "16  205000       ST  \n",
       "17  145000      CAM  \n",
       "18  240000       GK  \n",
       "19  240000       GK  \n",
       "20  315000      CDM  \n",
       "21  200000       LS  \n",
       "22  130000       GK  \n",
       "23  300000       ST  \n",
       "24  215000      LCB  "
      ],
      "text/html": "<div>\n<style scoped>\n    .dataframe tbody tr th:only-of-type {\n        vertical-align: middle;\n    }\n\n    .dataframe tbody tr th {\n        vertical-align: top;\n    }\n\n    .dataframe thead th {\n        text-align: right;\n    }\n</style>\n<table border=\"1\" class=\"dataframe\">\n  <thead>\n    <tr style=\"text-align: right;\">\n      <th></th>\n      <th>Name</th>\n      <th>Age</th>\n      <th>Nationality</th>\n      <th>Club</th>\n      <th>Value</th>\n      <th>Wage</th>\n      <th>Position</th>\n    </tr>\n  </thead>\n  <tbody>\n    <tr>\n      <th>0</th>\n      <td>L. Messi</td>\n      <td>31</td>\n      <td>Argentina</td>\n      <td>FC Barcelona</td>\n      <td>110500000</td>\n      <td>565000</td>\n      <td>RF</td>\n    </tr>\n    <tr>\n      <th>1</th>\n      <td>Cristiano Ronaldo</td>\n      <td>33</td>\n      <td>Portugal</td>\n      <td>Juventus</td>\n      <td>77000000</td>\n      <td>405000</td>\n      <td>ST</td>\n    </tr>\n    <tr>\n      <th>2</th>\n      <td>Neymar Jr</td>\n      <td>26</td>\n      <td>Brazil</td>\n      <td>Paris Saint-Germain</td>\n      <td>118500000</td>\n      <td>290000</td>\n      <td>LW</td>\n    </tr>\n    <tr>\n      <th>3</th>\n      <td>De Gea</td>\n      <td>27</td>\n      <td>Spain</td>\n      <td>Manchester United</td>\n      <td>72000000</td>\n      <td>260000</td>\n      <td>GK</td>\n    </tr>\n    <tr>\n      <th>4</th>\n      <td>K. De Bruyne</td>\n      <td>27</td>\n      <td>Belgium</td>\n      <td>Manchester City</td>\n      <td>102000000</td>\n      <td>355000</td>\n      <td>RCM</td>\n    </tr>\n    <tr>\n      <th>5</th>\n      <td>E. Hazard</td>\n      <td>27</td>\n      <td>Belgium</td>\n      <td>Chelsea</td>\n      <td>93000000</td>\n      <td>340000</td>\n      <td>LF</td>\n    </tr>\n    <tr>\n      <th>6</th>\n      <td>L. Modrić</td>\n      <td>32</td>\n      <td>Croatia</td>\n      <td>Real Madrid</td>\n      <td>67000000</td>\n      <td>420000</td>\n      <td>RCM</td>\n    </tr>\n    <tr>\n      <th>7</th>\n      <td>L. Suárez</td>\n      <td>31</td>\n      <td>Uruguay</td>\n      <td>FC Barcelona</td>\n      <td>80000000</td>\n      <td>455000</td>\n      <td>RS</td>\n    </tr>\n    <tr>\n      <th>8</th>\n      <td>Sergio Ramos</td>\n      <td>32</td>\n      <td>Spain</td>\n      <td>Real Madrid</td>\n      <td>51000000</td>\n      <td>380000</td>\n      <td>RCB</td>\n    </tr>\n    <tr>\n      <th>9</th>\n      <td>J. Oblak</td>\n      <td>25</td>\n      <td>Slovenia</td>\n      <td>Atlético Madrid</td>\n      <td>68000000</td>\n      <td>94000</td>\n      <td>GK</td>\n    </tr>\n    <tr>\n      <th>10</th>\n      <td>R. Lewandowski</td>\n      <td>29</td>\n      <td>Poland</td>\n      <td>FC Bayern München</td>\n      <td>77000000</td>\n      <td>205000</td>\n      <td>ST</td>\n    </tr>\n    <tr>\n      <th>11</th>\n      <td>T. Kroos</td>\n      <td>28</td>\n      <td>Germany</td>\n      <td>Real Madrid</td>\n      <td>76500000</td>\n      <td>355000</td>\n      <td>LCM</td>\n    </tr>\n    <tr>\n      <th>12</th>\n      <td>D. Godín</td>\n      <td>32</td>\n      <td>Uruguay</td>\n      <td>Atlético Madrid</td>\n      <td>44000000</td>\n      <td>125000</td>\n      <td>CB</td>\n    </tr>\n    <tr>\n      <th>13</th>\n      <td>David Silva</td>\n      <td>32</td>\n      <td>Spain</td>\n      <td>Manchester City</td>\n      <td>60000000</td>\n      <td>285000</td>\n      <td>LCM</td>\n    </tr>\n    <tr>\n      <th>14</th>\n      <td>N. Kanté</td>\n      <td>27</td>\n      <td>France</td>\n      <td>Chelsea</td>\n      <td>63000000</td>\n      <td>225000</td>\n      <td>LDM</td>\n    </tr>\n    <tr>\n      <th>15</th>\n      <td>P. Dybala</td>\n      <td>24</td>\n      <td>Argentina</td>\n      <td>Juventus</td>\n      <td>89000000</td>\n      <td>205000</td>\n      <td>LF</td>\n    </tr>\n    <tr>\n      <th>16</th>\n      <td>H. Kane</td>\n      <td>24</td>\n      <td>England</td>\n      <td>Tottenham Hotspur</td>\n      <td>83500000</td>\n      <td>205000</td>\n      <td>ST</td>\n    </tr>\n    <tr>\n      <th>17</th>\n      <td>A. Griezmann</td>\n      <td>27</td>\n      <td>France</td>\n      <td>Atlético Madrid</td>\n      <td>78000000</td>\n      <td>145000</td>\n      <td>CAM</td>\n    </tr>\n    <tr>\n      <th>18</th>\n      <td>M. ter Stegen</td>\n      <td>26</td>\n      <td>Germany</td>\n      <td>FC Barcelona</td>\n      <td>58000000</td>\n      <td>240000</td>\n      <td>GK</td>\n    </tr>\n    <tr>\n      <th>19</th>\n      <td>T. Courtois</td>\n      <td>26</td>\n      <td>Belgium</td>\n      <td>Real Madrid</td>\n      <td>53500000</td>\n      <td>240000</td>\n      <td>GK</td>\n    </tr>\n    <tr>\n      <th>20</th>\n      <td>Sergio Busquets</td>\n      <td>29</td>\n      <td>Spain</td>\n      <td>FC Barcelona</td>\n      <td>51500000</td>\n      <td>315000</td>\n      <td>CDM</td>\n    </tr>\n    <tr>\n      <th>21</th>\n      <td>E. Cavani</td>\n      <td>31</td>\n      <td>Uruguay</td>\n      <td>Paris Saint-Germain</td>\n      <td>60000000</td>\n      <td>200000</td>\n      <td>LS</td>\n    </tr>\n    <tr>\n      <th>22</th>\n      <td>M. Neuer</td>\n      <td>32</td>\n      <td>Germany</td>\n      <td>FC Bayern München</td>\n      <td>38000000</td>\n      <td>130000</td>\n      <td>GK</td>\n    </tr>\n    <tr>\n      <th>23</th>\n      <td>S. Agüero</td>\n      <td>30</td>\n      <td>Argentina</td>\n      <td>Manchester City</td>\n      <td>64500000</td>\n      <td>300000</td>\n      <td>ST</td>\n    </tr>\n    <tr>\n      <th>24</th>\n      <td>G. Chiellini</td>\n      <td>33</td>\n      <td>Italy</td>\n      <td>Juventus</td>\n      <td>27000000</td>\n      <td>215000</td>\n      <td>LCB</td>\n    </tr>\n  </tbody>\n</table>\n</div>"
     },
     "metadata": {},
     "execution_count": 4
    }
   ],
   "source": [
    "# 6\n",
    "import pandas as pd\n",
    "\n",
    "football = pd.read_csv('data_sf.csv')\n",
    "\n",
    "small_df = football[football.columns[1:8]].head(25)\n",
    "small_df\n"
   ]
  },
  {
   "cell_type": "code",
   "execution_count": 5,
   "metadata": {},
   "outputs": [
    {
     "output_type": "execute_result",
     "data": {
      "text/plain": [
       "Spain        4\n",
       "Belgium      3\n",
       "Germany      3\n",
       "Argentina    3\n",
       "Uruguay      3\n",
       "France       2\n",
       "Poland       1\n",
       "Slovenia     1\n",
       "Portugal     1\n",
       "Croatia      1\n",
       "Brazil       1\n",
       "England      1\n",
       "Italy        1\n",
       "Name: Nationality, dtype: int64"
      ]
     },
     "metadata": {},
     "execution_count": 5
    }
   ],
   "source": [
    "# 6.3 Nationalities\n",
    "\n",
    "nationalities = small_df['Nationality'].value_counts()\n",
    "nationalities"
   ]
  },
  {
   "cell_type": "code",
   "execution_count": 16,
   "metadata": {},
   "outputs": [
    {
     "output_type": "display_data",
     "data": {
      "text/plain": "V-Varen Nagasaki     30\nShonan Bellmare      30\nVissel Kobe          29\nPadova               29\nFC Emmen             29\n                     ..\nCruzeiro              8\nGD Chaves             7\nDinamo Zagreb         7\nVitória Guimarães     7\nAtlético Mineiro      6\nName: Club, Length: 650, dtype: int64"
     },
     "metadata": {}
    }
   ],
   "source": [
    "# 6.3 1 count of football clubs\n",
    "\n",
    "clubs = football['Club'].value_counts()\n",
    "display(clubs)"
   ]
  },
  {
   "cell_type": "code",
   "execution_count": 17,
   "metadata": {},
   "outputs": [
    {
     "output_type": "execute_result",
     "data": {
      "text/plain": [
       "V-Varen Nagasaki    30\n",
       "Shonan Bellmare     30\n",
       "Name: Club, dtype: int64"
      ]
     },
     "metadata": {},
     "execution_count": 17
    }
   ],
   "source": [
    "# 6.3 2 football clubs with max players\n",
    "\n",
    "clubs.loc[clubs == clubs.max()]"
   ]
  },
  {
   "cell_type": "code",
   "execution_count": 23,
   "metadata": {},
   "outputs": [
    {
     "output_type": "stream",
     "name": "stdout",
     "text": [
      "Atlético Mineiro\n"
     ]
    },
    {
     "output_type": "execute_result",
     "data": {
      "text/plain": [
       "6"
      ]
     },
     "metadata": {},
     "execution_count": 23
    }
   ],
   "source": [
    "# 6.3 3 football clubs with min players\n",
    "# how many players of this club presented in dataset\n",
    "\n",
    "club = clubs.loc[clubs == clubs.min()].index[0]\n",
    "print(club)\n",
    "len(football[football.Club == club])"
   ]
  },
  {
   "cell_type": "code",
   "execution_count": 26,
   "metadata": {},
   "outputs": [
    {
     "output_type": "execute_result",
     "data": {
      "text/plain": [
       "GK    0.127239\n",
       "ST    0.117237\n",
       "CB    0.108785\n",
       "Name: Position, dtype: float64"
      ]
     },
     "metadata": {},
     "execution_count": 26
    }
   ],
   "source": [
    "# 6.4 1 Positions more than 10% of dataset\n",
    "\n",
    "positions = football['Position'].value_counts(normalize=True)\n",
    "positions.loc[positions > 0.1]"
   ]
  },
  {
   "cell_type": "code",
   "execution_count": 27,
   "metadata": {},
   "outputs": [
    {
     "output_type": "execute_result",
     "data": {
      "text/plain": [
       "LS     0.009382\n",
       "RS     0.008839\n",
       "RWB    0.005428\n",
       "LWB    0.004652\n",
       "CF     0.003954\n",
       "LF     0.000620\n",
       "RF     0.000465\n",
       "LAM    0.000465\n",
       "RAM    0.000388\n",
       "Name: Position, dtype: float64"
      ]
     },
     "metadata": {},
     "execution_count": 27
    }
   ],
   "source": [
    "# 6.4 2 Positions less than 1% of dataset \n",
    "positions.loc[positions < 0.01]"
   ]
  },
  {
   "cell_type": "code",
   "execution_count": 30,
   "metadata": {},
   "outputs": [
    {
     "output_type": "execute_result",
     "data": {
      "text/plain": [
       "(21.2, 39.4]     4859\n",
       "(39.4, 57.6]     3957\n",
       "(57.6, 75.8]     2108\n",
       "(2.908, 21.2]    1760\n",
       "(75.8, 94.0]      213\n",
       "Name: FKAccuracy, dtype: int64"
      ]
     },
     "metadata": {},
     "execution_count": 30
    }
   ],
   "source": [
    "# 6.4 3-4 Players accuracy range\n",
    "\n",
    "football['FKAccuracy'].value_counts(bins=5)"
   ]
  },
  {
   "cell_type": "code",
   "execution_count": 35,
   "metadata": {},
   "outputs": [
    {
     "output_type": "execute_result",
     "data": {
      "text/plain": [
       "4859"
      ]
     },
     "metadata": {},
     "execution_count": 35
    }
   ],
   "source": [
    "# 6.4 3-4 Accuracy of most players\n",
    "\n",
    "football['FKAccuracy'].value_counts(bins=5).max()\n"
   ]
  },
  {
   "cell_type": "code",
   "execution_count": 42,
   "metadata": {},
   "outputs": [
    {
     "output_type": "execute_result",
     "data": {
      "text/plain": [
       "(620.999, 95750.0]      0.970194\n",
       "(95750.0, 190500.0]     0.016393\n",
       "(190500.0, 285250.0]    0.008942\n",
       "(285250.0, 380000.0]    0.004471\n",
       "Name: Wage, dtype: float64"
      ]
     },
     "metadata": {},
     "execution_count": 42
    }
   ],
   "source": [
    "# 6.6 1 % of Spain players with Wage < 25%\n",
    "\n",
    "football[football.Nationality == 'Spain'].Wage.value_counts(bins=4, normalize=True)"
   ]
  },
  {
   "cell_type": "code",
   "execution_count": 43,
   "metadata": {},
   "outputs": [
    {
     "output_type": "execute_result",
     "data": {
      "text/plain": [
       "13"
      ]
     },
     "metadata": {},
     "execution_count": 43
    }
   ],
   "source": [
    "# 6.6 2 Unique nationalities in Manchester United club\n",
    "\n",
    "football[football.Club == 'Manchester United'].Nationality.nunique()"
   ]
  },
  {
   "cell_type": "code",
   "execution_count": 57,
   "metadata": {},
   "outputs": [
    {
     "output_type": "execute_result",
     "data": {
      "text/plain": [
       "64      Alex Sandro\n",
       "65    Douglas Costa\n",
       "Name: Name, dtype: object"
      ]
     },
     "metadata": {},
     "execution_count": 57
    }
   ],
   "source": [
    "# 6.6 3 Brazil players from Juventus\n",
    "\n",
    "football[(football.Club == 'Juventus') & (football.Nationality == 'Brazil')].Name"
   ]
  },
  {
   "cell_type": "code",
   "execution_count": 58,
   "metadata": {},
   "outputs": [
    {
     "output_type": "execute_result",
     "data": {
      "text/plain": [
       "Club Atlético Huracán          4\n",
       "Hokkaido Consadole Sapporo     4\n",
       "Club Atlético Talleres         3\n",
       "Club Atlético Tigre            3\n",
       "Gimnasia y Esgrima La Plata    3\n",
       "                              ..\n",
       "Colorado Rapids                1\n",
       "SV Wehen Wiesbaden             1\n",
       "Sligo Rovers                   1\n",
       "Shamrock Rovers                1\n",
       "Heart of Midlothian            1\n",
       "Name: Club, Length: 212, dtype: int64"
      ]
     },
     "metadata": {},
     "execution_count": 58
    }
   ],
   "source": [
    "# 6.6 4 Club with max amount of players older than 35\n",
    "\n",
    "football[(football.Age > 35)].Club.value_counts()"
   ]
  },
  {
   "cell_type": "code",
   "execution_count": 59,
   "metadata": {},
   "outputs": [
    {
     "output_type": "execute_result",
     "data": {
      "text/plain": [
       "(22.25, 28.5]      200\n",
       "(15.974, 22.25]    197\n",
       "(28.5, 34.75]      128\n",
       "(34.75, 41.0]       49\n",
       "Name: Age, dtype: int64"
      ]
     },
     "metadata": {},
     "execution_count": 59
    }
   ],
   "source": [
    "# 6.6 5 How many Argentina players aged between 34,75 and 41 \n",
    "\n",
    "football[football.Nationality == 'Argentina'].Age.value_counts(bins=4)"
   ]
  },
  {
   "cell_type": "code",
   "execution_count": 61,
   "metadata": {},
   "outputs": [
    {
     "output_type": "execute_result",
     "data": {
      "text/plain": [
       "21    0.117735\n",
       "22    0.095380\n",
       "20    0.077496\n",
       "23    0.071535\n",
       "25    0.064083\n",
       "27    0.062593\n",
       "24    0.059613\n",
       "28    0.053651\n",
       "26    0.053651\n",
       "29    0.047690\n",
       "19    0.047690\n",
       "18    0.038748\n",
       "30    0.038748\n",
       "31    0.032787\n",
       "32    0.032787\n",
       "33    0.031297\n",
       "34    0.022355\n",
       "17    0.013413\n",
       "35    0.011923\n",
       "36    0.010432\n",
       "37    0.008942\n",
       "39    0.002981\n",
       "16    0.002981\n",
       "38    0.001490\n",
       "Name: Age, dtype: float64"
      ]
     },
     "metadata": {},
     "execution_count": 61
    }
   ],
   "source": [
    "# 6.6 6 % of Spain players 21 y.o.\n",
    "\n",
    "football[football.Nationality == 'Spain'].Age.value_counts(normalize=True)"
   ]
  },
  {
   "cell_type": "code",
   "execution_count": 63,
   "metadata": {},
   "outputs": [
    {
     "output_type": "execute_result",
     "data": {
      "text/plain": [
       "Position\n",
       "ST     11873000\n",
       "GK      8784000\n",
       "CB      7476000\n",
       "CM      6194000\n",
       "LB      6096000\n",
       "CAM     5500000\n",
       "LM      5440000\n",
       "RM      5098000\n",
       "RB      5034000\n",
       "CDM     4921000\n",
       "RCB     4711000\n",
       "LCB     3989000\n",
       "RW      3276000\n",
       "RCM     3241000\n",
       "LCM     3145000\n",
       "LW      2945000\n",
       "LS      1866000\n",
       "RDM     1557000\n",
       "RS      1537000\n",
       "LDM     1516000\n",
       "RF       714000\n",
       "LF       601000\n",
       "RWB      420000\n",
       "LAM      366000\n",
       "LWB      347000\n",
       "CF       248000\n",
       "RAM       59000\n",
       "Name: Wage, dtype: int64"
      ]
     },
     "metadata": {},
     "execution_count": 63
    }
   ],
   "source": [
    "# 6.7 1 Positions and wages grouping\n",
    "\n",
    "football.groupby(['Position'])['Wage'].sum().sort_values(ascending=False)"
   ]
  },
  {
   "cell_type": "code",
   "execution_count": 66,
   "metadata": {},
   "outputs": [
    {
     "output_type": "execute_result",
     "data": {
      "text/plain": [
       "                   Wage         Value\n",
       "Position                             \n",
       "LF         75125.000000  2.736250e+07\n",
       "RF        119000.000000  2.636583e+07\n",
       "LAM        61000.000000  1.324583e+07\n",
       "RAM        11800.000000  8.345000e+06\n",
       "LS         15421.487603  5.848430e+06\n",
       "LCM        13497.854077  4.318090e+06\n",
       "RCM        13504.166667  4.217604e+06\n",
       "RS         13482.456140  3.645833e+06\n",
       "LW         12169.421488  3.603099e+06\n",
       "RW         13822.784810  3.495738e+06\n",
       "LDM        10243.243243  3.369459e+06\n",
       "RCB        11270.334928  3.009055e+06\n",
       "CAM         8688.783570  2.963199e+06\n",
       "RDM        11282.608696  2.692717e+06\n",
       "LCB         9753.056235  2.636516e+06\n",
       "LM          7472.527473  2.466174e+06\n",
       "ST          7852.513228  2.157252e+06\n",
       "RM          6655.352480  2.138734e+06\n",
       "LWB         5783.333333  1.931333e+06\n",
       "CF          4862.745098  1.848627e+06\n",
       "CDM         7121.562952  1.658900e+06\n",
       "CM          5805.060918  1.617465e+06\n",
       "RWB         6000.000000  1.555571e+06\n",
       "GK          5352.833638  1.502502e+06\n",
       "LB          6083.832335  1.429032e+06\n",
       "CB          5328.581611  1.321251e+06\n",
       "RB          5310.126582  1.248940e+06"
      ],
      "text/html": "<div>\n<style scoped>\n    .dataframe tbody tr th:only-of-type {\n        vertical-align: middle;\n    }\n\n    .dataframe tbody tr th {\n        vertical-align: top;\n    }\n\n    .dataframe thead th {\n        text-align: right;\n    }\n</style>\n<table border=\"1\" class=\"dataframe\">\n  <thead>\n    <tr style=\"text-align: right;\">\n      <th></th>\n      <th>Wage</th>\n      <th>Value</th>\n    </tr>\n    <tr>\n      <th>Position</th>\n      <th></th>\n      <th></th>\n    </tr>\n  </thead>\n  <tbody>\n    <tr>\n      <th>LF</th>\n      <td>75125.000000</td>\n      <td>2.736250e+07</td>\n    </tr>\n    <tr>\n      <th>RF</th>\n      <td>119000.000000</td>\n      <td>2.636583e+07</td>\n    </tr>\n    <tr>\n      <th>LAM</th>\n      <td>61000.000000</td>\n      <td>1.324583e+07</td>\n    </tr>\n    <tr>\n      <th>RAM</th>\n      <td>11800.000000</td>\n      <td>8.345000e+06</td>\n    </tr>\n    <tr>\n      <th>LS</th>\n      <td>15421.487603</td>\n      <td>5.848430e+06</td>\n    </tr>\n    <tr>\n      <th>LCM</th>\n      <td>13497.854077</td>\n      <td>4.318090e+06</td>\n    </tr>\n    <tr>\n      <th>RCM</th>\n      <td>13504.166667</td>\n      <td>4.217604e+06</td>\n    </tr>\n    <tr>\n      <th>RS</th>\n      <td>13482.456140</td>\n      <td>3.645833e+06</td>\n    </tr>\n    <tr>\n      <th>LW</th>\n      <td>12169.421488</td>\n      <td>3.603099e+06</td>\n    </tr>\n    <tr>\n      <th>RW</th>\n      <td>13822.784810</td>\n      <td>3.495738e+06</td>\n    </tr>\n    <tr>\n      <th>LDM</th>\n      <td>10243.243243</td>\n      <td>3.369459e+06</td>\n    </tr>\n    <tr>\n      <th>RCB</th>\n      <td>11270.334928</td>\n      <td>3.009055e+06</td>\n    </tr>\n    <tr>\n      <th>CAM</th>\n      <td>8688.783570</td>\n      <td>2.963199e+06</td>\n    </tr>\n    <tr>\n      <th>RDM</th>\n      <td>11282.608696</td>\n      <td>2.692717e+06</td>\n    </tr>\n    <tr>\n      <th>LCB</th>\n      <td>9753.056235</td>\n      <td>2.636516e+06</td>\n    </tr>\n    <tr>\n      <th>LM</th>\n      <td>7472.527473</td>\n      <td>2.466174e+06</td>\n    </tr>\n    <tr>\n      <th>ST</th>\n      <td>7852.513228</td>\n      <td>2.157252e+06</td>\n    </tr>\n    <tr>\n      <th>RM</th>\n      <td>6655.352480</td>\n      <td>2.138734e+06</td>\n    </tr>\n    <tr>\n      <th>LWB</th>\n      <td>5783.333333</td>\n      <td>1.931333e+06</td>\n    </tr>\n    <tr>\n      <th>CF</th>\n      <td>4862.745098</td>\n      <td>1.848627e+06</td>\n    </tr>\n    <tr>\n      <th>CDM</th>\n      <td>7121.562952</td>\n      <td>1.658900e+06</td>\n    </tr>\n    <tr>\n      <th>CM</th>\n      <td>5805.060918</td>\n      <td>1.617465e+06</td>\n    </tr>\n    <tr>\n      <th>RWB</th>\n      <td>6000.000000</td>\n      <td>1.555571e+06</td>\n    </tr>\n    <tr>\n      <th>GK</th>\n      <td>5352.833638</td>\n      <td>1.502502e+06</td>\n    </tr>\n    <tr>\n      <th>LB</th>\n      <td>6083.832335</td>\n      <td>1.429032e+06</td>\n    </tr>\n    <tr>\n      <th>CB</th>\n      <td>5328.581611</td>\n      <td>1.321251e+06</td>\n    </tr>\n    <tr>\n      <th>RB</th>\n      <td>5310.126582</td>\n      <td>1.248940e+06</td>\n    </tr>\n  </tbody>\n</table>\n</div>"
     },
     "metadata": {},
     "execution_count": 66
    }
   ],
   "source": [
    "# 6.8 1 Mean wage and value grouping for each position\n",
    "\n",
    "football.groupby(['Position'])['Wage', 'Value'].mean().sort_values(['Value'], ascending=False)"
   ]
  },
  {
   "cell_type": "code",
   "execution_count": 88,
   "metadata": {},
   "outputs": [
    {
     "output_type": "execute_result",
     "data": {
      "text/plain": [
       "Mean      52\n",
       "Median    52\n",
       "dtype: int64"
      ]
     },
     "metadata": {},
     "execution_count": 88
    }
   ],
   "source": [
    "# 6.9 1 Clubs where mean wage equals to median wage\n",
    "\n",
    "wages = football.groupby(['Club'])['Wage'].agg(['mean', 'median'])\n",
    "wages.columns = ['Mean', 'Median']\n",
    "wages[wages.Mean == wages.Median].count()"
   ]
  },
  {
   "cell_type": "code",
   "execution_count": 99,
   "metadata": {},
   "outputs": [
    {
     "output_type": "execute_result",
     "data": {
      "text/plain": [
       "                           Mean  Median\n",
       "Club                                   \n",
       "Cruzeiro                13000.0   13000\n",
       "Göztepe SK               7000.0    7000\n",
       "Brøndby IF               6000.0    6000\n",
       "Sunderland               4000.0    4000\n",
       "CD Feirense              4000.0    4000\n",
       "1. FC Magdeburg          4000.0    4000\n",
       "Northampton Town         2500.0    2500\n",
       "Stade Brestois 29        2000.0    2000\n",
       "Jeonnam Dragons          2000.0    2000\n",
       "Pohang Steelers          2000.0    2000\n",
       "AJ Auxerre               2000.0    2000\n",
       "Grimsby Town             2000.0    2000\n",
       "Heracles Almelo          2000.0    2000\n",
       "Philadelphia Union       2000.0    2000\n",
       "Kashiwa Reysol           2000.0    2000\n",
       "CD Tondela               2000.0    2000\n",
       "Benevento                2000.0    2000\n",
       "FC Metz                  1500.0    1500\n",
       "PAOK                     1000.0    1000\n",
       "Orlando Pirates          1000.0    1000\n",
       "Panathinaikos FC         1000.0    1000\n",
       "Patriotas Boyacá FC      1000.0    1000\n",
       "PFC CSKA Moscow          1000.0    1000\n",
       "Shakhtar Donetsk         1000.0    1000\n",
       "SK Slavia Praha          1000.0    1000\n",
       "Shamrock Rovers          1000.0    1000\n",
       "Sligo Rovers             1000.0    1000\n",
       "Sparta Praha             1000.0    1000\n",
       "Spartak Moscow           1000.0    1000\n",
       "St. Patrick's Athletic   1000.0    1000\n",
       "Trelleborgs FF           1000.0    1000\n",
       "Olympiacos CFP           1000.0    1000\n",
       "Jaguares de Córdoba      1000.0    1000\n",
       "Lokomotiv Moscow         1000.0    1000\n",
       "Dynamo Kyiv              1000.0    1000\n",
       "Bohemian FC              1000.0    1000\n",
       "Boyacá Chicó FC          1000.0    1000\n",
       "Bray Wanderers           1000.0    1000\n",
       "Cork City                1000.0    1000\n",
       "Deportivo Pasto          1000.0    1000\n",
       "Dinamo Zagreb            1000.0    1000\n",
       "Dundalk                  1000.0    1000\n",
       "Envigado FC              1000.0    1000\n",
       "Limerick FC              1000.0    1000\n",
       "FC Energie Cottbus       1000.0    1000\n",
       "HJK Helsinki             1000.0    1000\n",
       "IF Brommapojkarna        1000.0    1000\n",
       "IK Sirius                1000.0    1000\n",
       "Itagüí Leones FC         1000.0    1000\n",
       "AEK Athens               1000.0    1000\n",
       "Kaizer Chiefs            1000.0    1000\n",
       "Viktoria Plzeň           1000.0    1000"
      ],
      "text/html": "<div>\n<style scoped>\n    .dataframe tbody tr th:only-of-type {\n        vertical-align: middle;\n    }\n\n    .dataframe tbody tr th {\n        vertical-align: top;\n    }\n\n    .dataframe thead th {\n        text-align: right;\n    }\n</style>\n<table border=\"1\" class=\"dataframe\">\n  <thead>\n    <tr style=\"text-align: right;\">\n      <th></th>\n      <th>Mean</th>\n      <th>Median</th>\n    </tr>\n    <tr>\n      <th>Club</th>\n      <th></th>\n      <th></th>\n    </tr>\n  </thead>\n  <tbody>\n    <tr>\n      <th>Cruzeiro</th>\n      <td>13000.0</td>\n      <td>13000</td>\n    </tr>\n    <tr>\n      <th>Göztepe SK</th>\n      <td>7000.0</td>\n      <td>7000</td>\n    </tr>\n    <tr>\n      <th>Brøndby IF</th>\n      <td>6000.0</td>\n      <td>6000</td>\n    </tr>\n    <tr>\n      <th>Sunderland</th>\n      <td>4000.0</td>\n      <td>4000</td>\n    </tr>\n    <tr>\n      <th>CD Feirense</th>\n      <td>4000.0</td>\n      <td>4000</td>\n    </tr>\n    <tr>\n      <th>1. FC Magdeburg</th>\n      <td>4000.0</td>\n      <td>4000</td>\n    </tr>\n    <tr>\n      <th>Northampton Town</th>\n      <td>2500.0</td>\n      <td>2500</td>\n    </tr>\n    <tr>\n      <th>Stade Brestois 29</th>\n      <td>2000.0</td>\n      <td>2000</td>\n    </tr>\n    <tr>\n      <th>Jeonnam Dragons</th>\n      <td>2000.0</td>\n      <td>2000</td>\n    </tr>\n    <tr>\n      <th>Pohang Steelers</th>\n      <td>2000.0</td>\n      <td>2000</td>\n    </tr>\n    <tr>\n      <th>AJ Auxerre</th>\n      <td>2000.0</td>\n      <td>2000</td>\n    </tr>\n    <tr>\n      <th>Grimsby Town</th>\n      <td>2000.0</td>\n      <td>2000</td>\n    </tr>\n    <tr>\n      <th>Heracles Almelo</th>\n      <td>2000.0</td>\n      <td>2000</td>\n    </tr>\n    <tr>\n      <th>Philadelphia Union</th>\n      <td>2000.0</td>\n      <td>2000</td>\n    </tr>\n    <tr>\n      <th>Kashiwa Reysol</th>\n      <td>2000.0</td>\n      <td>2000</td>\n    </tr>\n    <tr>\n      <th>CD Tondela</th>\n      <td>2000.0</td>\n      <td>2000</td>\n    </tr>\n    <tr>\n      <th>Benevento</th>\n      <td>2000.0</td>\n      <td>2000</td>\n    </tr>\n    <tr>\n      <th>FC Metz</th>\n      <td>1500.0</td>\n      <td>1500</td>\n    </tr>\n    <tr>\n      <th>PAOK</th>\n      <td>1000.0</td>\n      <td>1000</td>\n    </tr>\n    <tr>\n      <th>Orlando Pirates</th>\n      <td>1000.0</td>\n      <td>1000</td>\n    </tr>\n    <tr>\n      <th>Panathinaikos FC</th>\n      <td>1000.0</td>\n      <td>1000</td>\n    </tr>\n    <tr>\n      <th>Patriotas Boyacá FC</th>\n      <td>1000.0</td>\n      <td>1000</td>\n    </tr>\n    <tr>\n      <th>PFC CSKA Moscow</th>\n      <td>1000.0</td>\n      <td>1000</td>\n    </tr>\n    <tr>\n      <th>Shakhtar Donetsk</th>\n      <td>1000.0</td>\n      <td>1000</td>\n    </tr>\n    <tr>\n      <th>SK Slavia Praha</th>\n      <td>1000.0</td>\n      <td>1000</td>\n    </tr>\n    <tr>\n      <th>Shamrock Rovers</th>\n      <td>1000.0</td>\n      <td>1000</td>\n    </tr>\n    <tr>\n      <th>Sligo Rovers</th>\n      <td>1000.0</td>\n      <td>1000</td>\n    </tr>\n    <tr>\n      <th>Sparta Praha</th>\n      <td>1000.0</td>\n      <td>1000</td>\n    </tr>\n    <tr>\n      <th>Spartak Moscow</th>\n      <td>1000.0</td>\n      <td>1000</td>\n    </tr>\n    <tr>\n      <th>St. Patrick's Athletic</th>\n      <td>1000.0</td>\n      <td>1000</td>\n    </tr>\n    <tr>\n      <th>Trelleborgs FF</th>\n      <td>1000.0</td>\n      <td>1000</td>\n    </tr>\n    <tr>\n      <th>Olympiacos CFP</th>\n      <td>1000.0</td>\n      <td>1000</td>\n    </tr>\n    <tr>\n      <th>Jaguares de Córdoba</th>\n      <td>1000.0</td>\n      <td>1000</td>\n    </tr>\n    <tr>\n      <th>Lokomotiv Moscow</th>\n      <td>1000.0</td>\n      <td>1000</td>\n    </tr>\n    <tr>\n      <th>Dynamo Kyiv</th>\n      <td>1000.0</td>\n      <td>1000</td>\n    </tr>\n    <tr>\n      <th>Bohemian FC</th>\n      <td>1000.0</td>\n      <td>1000</td>\n    </tr>\n    <tr>\n      <th>Boyacá Chicó FC</th>\n      <td>1000.0</td>\n      <td>1000</td>\n    </tr>\n    <tr>\n      <th>Bray Wanderers</th>\n      <td>1000.0</td>\n      <td>1000</td>\n    </tr>\n    <tr>\n      <th>Cork City</th>\n      <td>1000.0</td>\n      <td>1000</td>\n    </tr>\n    <tr>\n      <th>Deportivo Pasto</th>\n      <td>1000.0</td>\n      <td>1000</td>\n    </tr>\n    <tr>\n      <th>Dinamo Zagreb</th>\n      <td>1000.0</td>\n      <td>1000</td>\n    </tr>\n    <tr>\n      <th>Dundalk</th>\n      <td>1000.0</td>\n      <td>1000</td>\n    </tr>\n    <tr>\n      <th>Envigado FC</th>\n      <td>1000.0</td>\n      <td>1000</td>\n    </tr>\n    <tr>\n      <th>Limerick FC</th>\n      <td>1000.0</td>\n      <td>1000</td>\n    </tr>\n    <tr>\n      <th>FC Energie Cottbus</th>\n      <td>1000.0</td>\n      <td>1000</td>\n    </tr>\n    <tr>\n      <th>HJK Helsinki</th>\n      <td>1000.0</td>\n      <td>1000</td>\n    </tr>\n    <tr>\n      <th>IF Brommapojkarna</th>\n      <td>1000.0</td>\n      <td>1000</td>\n    </tr>\n    <tr>\n      <th>IK Sirius</th>\n      <td>1000.0</td>\n      <td>1000</td>\n    </tr>\n    <tr>\n      <th>Itagüí Leones FC</th>\n      <td>1000.0</td>\n      <td>1000</td>\n    </tr>\n    <tr>\n      <th>AEK Athens</th>\n      <td>1000.0</td>\n      <td>1000</td>\n    </tr>\n    <tr>\n      <th>Kaizer Chiefs</th>\n      <td>1000.0</td>\n      <td>1000</td>\n    </tr>\n    <tr>\n      <th>Viktoria Plzeň</th>\n      <td>1000.0</td>\n      <td>1000</td>\n    </tr>\n  </tbody>\n</table>\n</div>"
     },
     "metadata": {},
     "execution_count": 99
    }
   ],
   "source": [
    "# 6.9 2 Max mean wage and club name\n",
    "\n",
    "wages[(wages.Mean == wages.Median)].sort_values(['Mean'], ascending=False)"
   ]
  },
  {
   "cell_type": "code",
   "execution_count": null,
   "metadata": {},
   "outputs": [],
   "source": []
  }
 ]
}