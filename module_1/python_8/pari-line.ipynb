{
 "metadata": {
  "language_info": {
   "codemirror_mode": {
    "name": "ipython",
    "version": 3
   },
   "file_extension": ".py",
   "mimetype": "text/x-python",
   "name": "python",
   "nbconvert_exporter": "python",
   "pygments_lexer": "ipython3",
   "version": "3.8.5-final"
  },
  "orig_nbformat": 2,
  "kernelspec": {
   "name": "python3",
   "display_name": "Python 3",
   "language": "python"
  }
 },
 "nbformat": 4,
 "nbformat_minor": 2,
 "cells": [
  {
   "cell_type": "code",
   "execution_count": 3,
   "metadata": {},
   "outputs": [
    {
     "output_type": "execute_result",
     "data": {
      "text/plain": [
       "                                  0                     1   2   3\n",
       "0  Запись пользователя № - user_919  [2019-01-01 14:06:51 NaN NaN\n",
       "1  Запись пользователя № - user_973  [2019-01-01 14:51:16 NaN NaN\n",
       "2  Запись пользователя № - user_903  [2019-01-01 16:31:16 NaN NaN\n",
       "3  Запись пользователя № - user_954  [2019-01-01 17:17:51 NaN NaN\n",
       "4  Запись пользователя № - user_954  [2019-01-01 21:31:18 NaN NaN"
      ],
      "text/html": "<div>\n<style scoped>\n    .dataframe tbody tr th:only-of-type {\n        vertical-align: middle;\n    }\n\n    .dataframe tbody tr th {\n        vertical-align: top;\n    }\n\n    .dataframe thead th {\n        text-align: right;\n    }\n</style>\n<table border=\"1\" class=\"dataframe\">\n  <thead>\n    <tr style=\"text-align: right;\">\n      <th></th>\n      <th>0</th>\n      <th>1</th>\n      <th>2</th>\n      <th>3</th>\n    </tr>\n  </thead>\n  <tbody>\n    <tr>\n      <th>0</th>\n      <td>Запись пользователя № - user_919</td>\n      <td>[2019-01-01 14:06:51</td>\n      <td>NaN</td>\n      <td>NaN</td>\n    </tr>\n    <tr>\n      <th>1</th>\n      <td>Запись пользователя № - user_973</td>\n      <td>[2019-01-01 14:51:16</td>\n      <td>NaN</td>\n      <td>NaN</td>\n    </tr>\n    <tr>\n      <th>2</th>\n      <td>Запись пользователя № - user_903</td>\n      <td>[2019-01-01 16:31:16</td>\n      <td>NaN</td>\n      <td>NaN</td>\n    </tr>\n    <tr>\n      <th>3</th>\n      <td>Запись пользователя № - user_954</td>\n      <td>[2019-01-01 17:17:51</td>\n      <td>NaN</td>\n      <td>NaN</td>\n    </tr>\n    <tr>\n      <th>4</th>\n      <td>Запись пользователя № - user_954</td>\n      <td>[2019-01-01 21:31:18</td>\n      <td>NaN</td>\n      <td>NaN</td>\n    </tr>\n  </tbody>\n</table>\n</div>"
     },
     "metadata": {},
     "execution_count": 3
    }
   ],
   "source": [
    "import pandas as pd\n",
    "\n",
    "log = pd.read_csv('log.csv', header = None)\n",
    "log.head()"
   ]
  },
  {
   "cell_type": "code",
   "execution_count": 6,
   "metadata": {},
   "outputs": [
    {
     "output_type": "execute_result",
     "data": {
      "text/plain": [
       "['name', 'city', 'age', 'profession']"
      ]
     },
     "metadata": {},
     "execution_count": 6
    }
   ],
   "source": [
    "# 8.5 1/2\n",
    "\n",
    "df = pd.read_csv('sample.csv')\n",
    "columns = df.columns\n",
    "df.columns = [column.lower() for column in columns]"
   ]
  },
  {
   "cell_type": "code",
   "execution_count": 8,
   "metadata": {},
   "outputs": [
    {
     "output_type": "execute_result",
     "data": {
      "text/plain": [
       "                            user_id                  time  bet  win\n",
       "0  Запись пользователя № - user_919  [2019-01-01 14:06:51  NaN  NaN\n",
       "1  Запись пользователя № - user_973  [2019-01-01 14:51:16  NaN  NaN\n",
       "2  Запись пользователя № - user_903  [2019-01-01 16:31:16  NaN  NaN\n",
       "3  Запись пользователя № - user_954  [2019-01-01 17:17:51  NaN  NaN\n",
       "4  Запись пользователя № - user_954  [2019-01-01 21:31:18  NaN  NaN"
      ],
      "text/html": "<div>\n<style scoped>\n    .dataframe tbody tr th:only-of-type {\n        vertical-align: middle;\n    }\n\n    .dataframe tbody tr th {\n        vertical-align: top;\n    }\n\n    .dataframe thead th {\n        text-align: right;\n    }\n</style>\n<table border=\"1\" class=\"dataframe\">\n  <thead>\n    <tr style=\"text-align: right;\">\n      <th></th>\n      <th>user_id</th>\n      <th>time</th>\n      <th>bet</th>\n      <th>win</th>\n    </tr>\n  </thead>\n  <tbody>\n    <tr>\n      <th>0</th>\n      <td>Запись пользователя № - user_919</td>\n      <td>[2019-01-01 14:06:51</td>\n      <td>NaN</td>\n      <td>NaN</td>\n    </tr>\n    <tr>\n      <th>1</th>\n      <td>Запись пользователя № - user_973</td>\n      <td>[2019-01-01 14:51:16</td>\n      <td>NaN</td>\n      <td>NaN</td>\n    </tr>\n    <tr>\n      <th>2</th>\n      <td>Запись пользователя № - user_903</td>\n      <td>[2019-01-01 16:31:16</td>\n      <td>NaN</td>\n      <td>NaN</td>\n    </tr>\n    <tr>\n      <th>3</th>\n      <td>Запись пользователя № - user_954</td>\n      <td>[2019-01-01 17:17:51</td>\n      <td>NaN</td>\n      <td>NaN</td>\n    </tr>\n    <tr>\n      <th>4</th>\n      <td>Запись пользователя № - user_954</td>\n      <td>[2019-01-01 21:31:18</td>\n      <td>NaN</td>\n      <td>NaN</td>\n    </tr>\n  </tbody>\n</table>\n</div>"
     },
     "metadata": {},
     "execution_count": 8
    }
   ],
   "source": [
    "# 8.5 3 \n",
    "\n",
    "log.columns = ['user_id', 'time', 'bet', 'win']\n",
    "log.head()"
   ]
  },
  {
   "cell_type": "code",
   "execution_count": 9,
   "metadata": {},
   "outputs": [
    {
     "output_type": "display_data",
     "data": {
      "text/plain": "      Юзверь                      мейл          Гео\n0   User_943       Accumanst@gmail.com       Ижевск\n1   User_908         Advismowr@mail.ru       Ижевск\n2   User_962           Anachso@ukr.net    Краснодар\n3   User_973          Antecia@inbox.ru        Пермь\n4   User_902        Balliaryva@ukr.net          NaN\n..       ...                       ...          ...\n95  User_959  UpdatesCurious@yahoo.com       Тюмень\n96  User_901        V2artierso@mail.ru  Арзангелтск\n97  User_970          Vashoterlo@bk.ru      Воронеж\n98  User_965       Visuareda@yahoo.com      Воронеж\n99  User_921              Aavast@ya.ru       Ижевск\n\n[100 rows x 3 columns]",
      "text/html": "<div>\n<style scoped>\n    .dataframe tbody tr th:only-of-type {\n        vertical-align: middle;\n    }\n\n    .dataframe tbody tr th {\n        vertical-align: top;\n    }\n\n    .dataframe thead th {\n        text-align: right;\n    }\n</style>\n<table border=\"1\" class=\"dataframe\">\n  <thead>\n    <tr style=\"text-align: right;\">\n      <th></th>\n      <th>Юзверь</th>\n      <th>мейл</th>\n      <th>Гео</th>\n    </tr>\n  </thead>\n  <tbody>\n    <tr>\n      <th>0</th>\n      <td>User_943</td>\n      <td>Accumanst@gmail.com</td>\n      <td>Ижевск</td>\n    </tr>\n    <tr>\n      <th>1</th>\n      <td>User_908</td>\n      <td>Advismowr@mail.ru</td>\n      <td>Ижевск</td>\n    </tr>\n    <tr>\n      <th>2</th>\n      <td>User_962</td>\n      <td>Anachso@ukr.net</td>\n      <td>Краснодар</td>\n    </tr>\n    <tr>\n      <th>3</th>\n      <td>User_973</td>\n      <td>Antecia@inbox.ru</td>\n      <td>Пермь</td>\n    </tr>\n    <tr>\n      <th>4</th>\n      <td>User_902</td>\n      <td>Balliaryva@ukr.net</td>\n      <td>NaN</td>\n    </tr>\n    <tr>\n      <th>...</th>\n      <td>...</td>\n      <td>...</td>\n      <td>...</td>\n    </tr>\n    <tr>\n      <th>95</th>\n      <td>User_959</td>\n      <td>UpdatesCurious@yahoo.com</td>\n      <td>Тюмень</td>\n    </tr>\n    <tr>\n      <th>96</th>\n      <td>User_901</td>\n      <td>V2artierso@mail.ru</td>\n      <td>Арзангелтск</td>\n    </tr>\n    <tr>\n      <th>97</th>\n      <td>User_970</td>\n      <td>Vashoterlo@bk.ru</td>\n      <td>Воронеж</td>\n    </tr>\n    <tr>\n      <th>98</th>\n      <td>User_965</td>\n      <td>Visuareda@yahoo.com</td>\n      <td>Воронеж</td>\n    </tr>\n    <tr>\n      <th>99</th>\n      <td>User_921</td>\n      <td>Aavast@ya.ru</td>\n      <td>Ижевск</td>\n    </tr>\n  </tbody>\n</table>\n<p>100 rows × 3 columns</p>\n</div>"
     },
     "metadata": {}
    }
   ],
   "source": [
    "# 8.6 1\n",
    "\n",
    "users = pd.read_csv('users.csv', sep='\\t', encoding='KOI8-R')\n",
    "display(users)"
   ]
  },
  {
   "cell_type": "code",
   "execution_count": 11,
   "metadata": {},
   "outputs": [
    {
     "output_type": "stream",
     "name": "stdout",
     "text": [
      "<class 'pandas.core.frame.DataFrame'>\nRangeIndex: 100 entries, 0 to 99\nData columns (total 3 columns):\n #   Column   Non-Null Count  Dtype \n---  ------   --------------  ----- \n 0   user_id  100 non-null    object\n 1   email    99 non-null     object\n 2   geo      97 non-null     object\ndtypes: object(3)\nmemory usage: 2.5+ KB\n"
     ]
    }
   ],
   "source": [
    "# 8.6 2\n",
    "\n",
    "users.columns = ['user_id', 'email', 'geo']\n",
    "users.info()"
   ]
  },
  {
   "cell_type": "code",
   "execution_count": 13,
   "metadata": {},
   "outputs": [
    {
     "output_type": "display_data",
     "data": {
      "text/plain": "            Name         City  Age Profession\n0         Иванов       Москва   25     Клинер\n1            NaN    Волгоград   31   Менеджер\n2         Иванов       Москва   25     Клинер\n3        sidorov  Владивосток   43   Менеджер\n4        _______        Курск   50   Водитель\n5       Кузнецов         Сочи   19    Рабочий\n6          Сажин       Сургут   29    Рабочий\n7   Котлеревский   Йошкар-Ола   32    Рабочий\n8     Завалишина    Чебоксары   36   Менеджер\n9         Левина          NaN   55    Рабочий\n10          Фикс         Рига   42    Рабочий",
      "text/html": "<div>\n<style scoped>\n    .dataframe tbody tr th:only-of-type {\n        vertical-align: middle;\n    }\n\n    .dataframe tbody tr th {\n        vertical-align: top;\n    }\n\n    .dataframe thead th {\n        text-align: right;\n    }\n</style>\n<table border=\"1\" class=\"dataframe\">\n  <thead>\n    <tr style=\"text-align: right;\">\n      <th></th>\n      <th>Name</th>\n      <th>City</th>\n      <th>Age</th>\n      <th>Profession</th>\n    </tr>\n  </thead>\n  <tbody>\n    <tr>\n      <th>0</th>\n      <td>Иванов</td>\n      <td>Москва</td>\n      <td>25</td>\n      <td>Клинер</td>\n    </tr>\n    <tr>\n      <th>1</th>\n      <td>NaN</td>\n      <td>Волгоград</td>\n      <td>31</td>\n      <td>Менеджер</td>\n    </tr>\n    <tr>\n      <th>2</th>\n      <td>Иванов</td>\n      <td>Москва</td>\n      <td>25</td>\n      <td>Клинер</td>\n    </tr>\n    <tr>\n      <th>3</th>\n      <td>sidorov</td>\n      <td>Владивосток</td>\n      <td>43</td>\n      <td>Менеджер</td>\n    </tr>\n    <tr>\n      <th>4</th>\n      <td>_______</td>\n      <td>Курск</td>\n      <td>50</td>\n      <td>Водитель</td>\n    </tr>\n    <tr>\n      <th>5</th>\n      <td>Кузнецов</td>\n      <td>Сочи</td>\n      <td>19</td>\n      <td>Рабочий</td>\n    </tr>\n    <tr>\n      <th>6</th>\n      <td>Сажин</td>\n      <td>Сургут</td>\n      <td>29</td>\n      <td>Рабочий</td>\n    </tr>\n    <tr>\n      <th>7</th>\n      <td>Котлеревский</td>\n      <td>Йошкар-Ола</td>\n      <td>32</td>\n      <td>Рабочий</td>\n    </tr>\n    <tr>\n      <th>8</th>\n      <td>Завалишина</td>\n      <td>Чебоксары</td>\n      <td>36</td>\n      <td>Менеджер</td>\n    </tr>\n    <tr>\n      <th>9</th>\n      <td>Левина</td>\n      <td>NaN</td>\n      <td>55</td>\n      <td>Рабочий</td>\n    </tr>\n    <tr>\n      <th>10</th>\n      <td>Фикс</td>\n      <td>Рига</td>\n      <td>42</td>\n      <td>Рабочий</td>\n    </tr>\n  </tbody>\n</table>\n</div>"
     },
     "metadata": {}
    }
   ],
   "source": [
    "# 8.7 1\n",
    "\n",
    "display(df)"
   ]
  },
  {
   "cell_type": "code",
   "execution_count": 18,
   "metadata": {},
   "outputs": [
    {
     "output_type": "execute_result",
     "data": {
      "text/plain": [
       "0      Запись пользователя № - user_919\n",
       "1      Запись пользователя № - user_973\n",
       "2      Запись пользователя № - user_903\n",
       "3      Запись пользователя № - user_954\n",
       "4      Запись пользователя № - user_954\n",
       "                     ...               \n",
       "995    Запись пользователя № - user_984\n",
       "996                              #error\n",
       "997                              #error\n",
       "998                              #error\n",
       "999                              #error\n",
       "Name: user_id, Length: 1000, dtype: object"
      ]
     },
     "metadata": {},
     "execution_count": 18
    }
   ],
   "source": [
    "# 8.7 3\n",
    "\n",
    "log.user_id"
   ]
  },
  {
   "cell_type": "code",
   "execution_count": 19,
   "metadata": {},
   "outputs": [],
   "source": [
    "# 8.8 1\n",
    "\n",
    "sample2 = df[df.Age < 30]"
   ]
  },
  {
   "cell_type": "code",
   "execution_count": 23,
   "metadata": {},
   "outputs": [
    {
     "output_type": "execute_result",
     "data": {
      "text/plain": [
       "138"
      ]
     },
     "metadata": {},
     "execution_count": 23
    }
   ],
   "source": [
    "# 8.8 2\n",
    "\n",
    "log_win = log[log.win > 0]\n",
    "win_count = len(log_win)\n",
    "win_count"
   ]
  },
  {
   "cell_type": "code",
   "execution_count": 27,
   "metadata": {},
   "outputs": [
    {
     "output_type": "execute_result",
     "data": {
      "text/plain": [
       "       Name    City  Age Profession\n",
       "5  Кузнецов    Сочи   19    Рабочий\n",
       "6     Сажин  Сургут   29    Рабочий"
      ],
      "text/html": "<div>\n<style scoped>\n    .dataframe tbody tr th:only-of-type {\n        vertical-align: middle;\n    }\n\n    .dataframe tbody tr th {\n        vertical-align: top;\n    }\n\n    .dataframe thead th {\n        text-align: right;\n    }\n</style>\n<table border=\"1\" class=\"dataframe\">\n  <thead>\n    <tr style=\"text-align: right;\">\n      <th></th>\n      <th>Name</th>\n      <th>City</th>\n      <th>Age</th>\n      <th>Profession</th>\n    </tr>\n  </thead>\n  <tbody>\n    <tr>\n      <th>5</th>\n      <td>Кузнецов</td>\n      <td>Сочи</td>\n      <td>19</td>\n      <td>Рабочий</td>\n    </tr>\n    <tr>\n      <th>6</th>\n      <td>Сажин</td>\n      <td>Сургут</td>\n      <td>29</td>\n      <td>Рабочий</td>\n    </tr>\n  </tbody>\n</table>\n</div>"
     },
     "metadata": {},
     "execution_count": 27
    }
   ],
   "source": [
    "# 8.8 3\n",
    "\n",
    "sample = pd.read_csv('sample.csv')\n",
    "sample2 = sample[(sample.Age < 30) & (sample.Profession == 'Рабочий')]\n",
    "sample2"
   ]
  },
  {
   "cell_type": "code",
   "execution_count": 28,
   "metadata": {},
   "outputs": [
    {
     "output_type": "execute_result",
     "data": {
      "text/plain": [
       "                              user_id                  time     bet     win\n",
       "151  Запись пользователя № - user_982  [2019-01-16 21:54:22   100.0  4749.0\n",
       "189  Запись пользователя № - user_964  [2019-01-21 18:34:44   200.0  4667.0\n",
       "205  Запись пользователя № - user_931   [2019-01-22 5:26:59   300.0  4319.0\n",
       "232  Запись пользователя № - user_998   [2019-01-25 8:57:20   500.0  5069.0\n",
       "265  Запись пользователя № - user_998  [2019-01-29 10:37:55   500.0  6294.0\n",
       "..                                ...                   ...     ...     ...\n",
       "962  Запись пользователя № - user_976  [2019-04-19 14:18:45   400.0  5997.0\n",
       "965  Запись пользователя № - user_900  [2019-04-19 19:31:48   900.0  6767.0\n",
       "967  Запись пользователя № - user_975  [2019-04-19 22:25:15  1000.0  6108.0\n",
       "981                            #error                   NaN   800.0  7035.0\n",
       "991  Запись пользователя № - user_965  [2019-04-20 12:55:41   800.0  6927.0\n",
       "\n",
       "[113 rows x 4 columns]"
      ],
      "text/html": "<div>\n<style scoped>\n    .dataframe tbody tr th:only-of-type {\n        vertical-align: middle;\n    }\n\n    .dataframe tbody tr th {\n        vertical-align: top;\n    }\n\n    .dataframe thead th {\n        text-align: right;\n    }\n</style>\n<table border=\"1\" class=\"dataframe\">\n  <thead>\n    <tr style=\"text-align: right;\">\n      <th></th>\n      <th>user_id</th>\n      <th>time</th>\n      <th>bet</th>\n      <th>win</th>\n    </tr>\n  </thead>\n  <tbody>\n    <tr>\n      <th>151</th>\n      <td>Запись пользователя № - user_982</td>\n      <td>[2019-01-16 21:54:22</td>\n      <td>100.0</td>\n      <td>4749.0</td>\n    </tr>\n    <tr>\n      <th>189</th>\n      <td>Запись пользователя № - user_964</td>\n      <td>[2019-01-21 18:34:44</td>\n      <td>200.0</td>\n      <td>4667.0</td>\n    </tr>\n    <tr>\n      <th>205</th>\n      <td>Запись пользователя № - user_931</td>\n      <td>[2019-01-22 5:26:59</td>\n      <td>300.0</td>\n      <td>4319.0</td>\n    </tr>\n    <tr>\n      <th>232</th>\n      <td>Запись пользователя № - user_998</td>\n      <td>[2019-01-25 8:57:20</td>\n      <td>500.0</td>\n      <td>5069.0</td>\n    </tr>\n    <tr>\n      <th>265</th>\n      <td>Запись пользователя № - user_998</td>\n      <td>[2019-01-29 10:37:55</td>\n      <td>500.0</td>\n      <td>6294.0</td>\n    </tr>\n    <tr>\n      <th>...</th>\n      <td>...</td>\n      <td>...</td>\n      <td>...</td>\n      <td>...</td>\n    </tr>\n    <tr>\n      <th>962</th>\n      <td>Запись пользователя № - user_976</td>\n      <td>[2019-04-19 14:18:45</td>\n      <td>400.0</td>\n      <td>5997.0</td>\n    </tr>\n    <tr>\n      <th>965</th>\n      <td>Запись пользователя № - user_900</td>\n      <td>[2019-04-19 19:31:48</td>\n      <td>900.0</td>\n      <td>6767.0</td>\n    </tr>\n    <tr>\n      <th>967</th>\n      <td>Запись пользователя № - user_975</td>\n      <td>[2019-04-19 22:25:15</td>\n      <td>1000.0</td>\n      <td>6108.0</td>\n    </tr>\n    <tr>\n      <th>981</th>\n      <td>#error</td>\n      <td>NaN</td>\n      <td>800.0</td>\n      <td>7035.0</td>\n    </tr>\n    <tr>\n      <th>991</th>\n      <td>Запись пользователя № - user_965</td>\n      <td>[2019-04-20 12:55:41</td>\n      <td>800.0</td>\n      <td>6927.0</td>\n    </tr>\n  </tbody>\n</table>\n<p>113 rows × 4 columns</p>\n</div>"
     },
     "metadata": {},
     "execution_count": 28
    }
   ],
   "source": [
    "# 8.9 1\n",
    "\n",
    "log2 = log.query('bet < 2000 & win > 0')\n",
    "log2"
   ]
  },
  {
   "cell_type": "code",
   "execution_count": null,
   "metadata": {},
   "outputs": [],
   "source": []
  }
 ]
}