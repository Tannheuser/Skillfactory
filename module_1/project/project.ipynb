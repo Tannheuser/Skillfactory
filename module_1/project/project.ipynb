{
  "cells": [
    {
      "cell_type": "code",
      "source": [
        "import pandas as pd\n",
        "\n",
        "data = pd.read_csv('movie_bd_v5.csv', parse_dates=['release_date']) # импортируем данные из файла и сразу конвертируем даты"
      ],
      "execution_count": 2,
      "outputs": [],
      "metadata": {}
    },
    {
      "cell_type": "markdown",
      "source": [
        "## 0. Анализ источника данных"
      ],
      "metadata": {}
    },
    {
      "cell_type": "code",
      "source": [
        "data.info()"
      ],
      "execution_count": 3,
      "outputs": [
        {
          "output_type": "stream",
          "name": "stdout",
          "text": [
            "<class 'pandas.core.frame.DataFrame'>\nRangeIndex: 1889 entries, 0 to 1888\nData columns (total 14 columns):\n #   Column                Non-Null Count  Dtype         \n---  ------                --------------  -----         \n 0   imdb_id               1889 non-null   object        \n 1   budget                1889 non-null   int64         \n 2   revenue               1889 non-null   int64         \n 3   original_title        1889 non-null   object        \n 4   cast                  1889 non-null   object        \n 5   director              1889 non-null   object        \n 6   tagline               1889 non-null   object        \n 7   overview              1889 non-null   object        \n 8   runtime               1889 non-null   int64         \n 9   genres                1889 non-null   object        \n 10  production_companies  1889 non-null   object        \n 11  release_date          1889 non-null   datetime64[ns]\n 12  vote_average          1889 non-null   float64       \n 13  release_year          1889 non-null   int64         \ndtypes: datetime64[ns](1), float64(1), int64(4), object(8)\nmemory usage: 206.7+ KB\n"
          ]
        }
      ],
      "metadata": {}
    },
    {
      "cell_type": "code",
      "source": [
        "data.describe()"
      ],
      "execution_count": 4,
      "outputs": [
        {
          "output_type": "execute_result",
          "data": {
            "text/plain": [
              "             budget       revenue      runtime  vote_average  release_year\n",
              "count  1.889000e+03  1.889000e+03  1889.000000   1889.000000   1889.000000\n",
              "mean   5.431083e+07  1.553653e+08   109.658549      6.140762   2007.860773\n",
              "std    4.858721e+07  2.146698e+08    18.017041      0.764763      4.468841\n",
              "min    5.000000e+06  2.033165e+06    63.000000      3.300000   2000.000000\n",
              "25%    2.000000e+07  3.456058e+07    97.000000      5.600000   2004.000000\n",
              "50%    3.800000e+07  8.361541e+07   107.000000      6.100000   2008.000000\n",
              "75%    7.200000e+07  1.782626e+08   120.000000      6.600000   2012.000000\n",
              "max    3.800000e+08  2.781506e+09   214.000000      8.100000   2015.000000"
            ],
            "text/html": "<div>\n<style scoped>\n    .dataframe tbody tr th:only-of-type {\n        vertical-align: middle;\n    }\n\n    .dataframe tbody tr th {\n        vertical-align: top;\n    }\n\n    .dataframe thead th {\n        text-align: right;\n    }\n</style>\n<table border=\"1\" class=\"dataframe\">\n  <thead>\n    <tr style=\"text-align: right;\">\n      <th></th>\n      <th>budget</th>\n      <th>revenue</th>\n      <th>runtime</th>\n      <th>vote_average</th>\n      <th>release_year</th>\n    </tr>\n  </thead>\n  <tbody>\n    <tr>\n      <th>count</th>\n      <td>1.889000e+03</td>\n      <td>1.889000e+03</td>\n      <td>1889.000000</td>\n      <td>1889.000000</td>\n      <td>1889.000000</td>\n    </tr>\n    <tr>\n      <th>mean</th>\n      <td>5.431083e+07</td>\n      <td>1.553653e+08</td>\n      <td>109.658549</td>\n      <td>6.140762</td>\n      <td>2007.860773</td>\n    </tr>\n    <tr>\n      <th>std</th>\n      <td>4.858721e+07</td>\n      <td>2.146698e+08</td>\n      <td>18.017041</td>\n      <td>0.764763</td>\n      <td>4.468841</td>\n    </tr>\n    <tr>\n      <th>min</th>\n      <td>5.000000e+06</td>\n      <td>2.033165e+06</td>\n      <td>63.000000</td>\n      <td>3.300000</td>\n      <td>2000.000000</td>\n    </tr>\n    <tr>\n      <th>25%</th>\n      <td>2.000000e+07</td>\n      <td>3.456058e+07</td>\n      <td>97.000000</td>\n      <td>5.600000</td>\n      <td>2004.000000</td>\n    </tr>\n    <tr>\n      <th>50%</th>\n      <td>3.800000e+07</td>\n      <td>8.361541e+07</td>\n      <td>107.000000</td>\n      <td>6.100000</td>\n      <td>2008.000000</td>\n    </tr>\n    <tr>\n      <th>75%</th>\n      <td>7.200000e+07</td>\n      <td>1.782626e+08</td>\n      <td>120.000000</td>\n      <td>6.600000</td>\n      <td>2012.000000</td>\n    </tr>\n    <tr>\n      <th>max</th>\n      <td>3.800000e+08</td>\n      <td>2.781506e+09</td>\n      <td>214.000000</td>\n      <td>8.100000</td>\n      <td>2015.000000</td>\n    </tr>\n  </tbody>\n</table>\n</div>"
          },
          "metadata": {},
          "execution_count": 4
        }
      ],
      "metadata": {}
    },
    {
      "cell_type": "code",
      "source": [
        "data.head()"
      ],
      "execution_count": 5,
      "outputs": [
        {
          "output_type": "execute_result",
          "data": {
            "text/plain": [
              "     imdb_id     budget     revenue                original_title  \\\n",
              "0  tt0369610  150000000  1513528810                Jurassic World   \n",
              "1  tt1392190  150000000   378436354            Mad Max: Fury Road   \n",
              "2  tt2908446  110000000   295238201                     Insurgent   \n",
              "3  tt2488496  200000000  2068178225  Star Wars: The Force Awakens   \n",
              "4  tt2820852  190000000  1506249360                     Furious 7   \n",
              "\n",
              "                                                cast          director  \\\n",
              "0  Chris Pratt|Bryce Dallas Howard|Irrfan Khan|Vi...   Colin Trevorrow   \n",
              "1  Tom Hardy|Charlize Theron|Hugh Keays-Byrne|Nic...     George Miller   \n",
              "2  Shailene Woodley|Theo James|Kate Winslet|Ansel...  Robert Schwentke   \n",
              "3  Harrison Ford|Mark Hamill|Carrie Fisher|Adam D...       J.J. Abrams   \n",
              "4  Vin Diesel|Paul Walker|Jason Statham|Michelle ...         James Wan   \n",
              "\n",
              "                         tagline  \\\n",
              "0              The park is open.   \n",
              "1             What a Lovely Day.   \n",
              "2     One Choice Can Destroy You   \n",
              "3  Every generation has a story.   \n",
              "4            Vengeance Hits Home   \n",
              "\n",
              "                                            overview  runtime  \\\n",
              "0  Twenty-two years after the events of Jurassic ...      124   \n",
              "1  An apocalyptic story set in the furthest reach...      120   \n",
              "2  Beatrice Prior must confront her inner demons ...      119   \n",
              "3  Thirty years after defeating the Galactic Empi...      136   \n",
              "4  Deckard Shaw seeks revenge against Dominic Tor...      137   \n",
              "\n",
              "                                      genres  \\\n",
              "0  Action|Adventure|Science Fiction|Thriller   \n",
              "1  Action|Adventure|Science Fiction|Thriller   \n",
              "2         Adventure|Science Fiction|Thriller   \n",
              "3   Action|Adventure|Science Fiction|Fantasy   \n",
              "4                      Action|Crime|Thriller   \n",
              "\n",
              "                                production_companies release_date  \\\n",
              "0  Universal Studios|Amblin Entertainment|Legenda...   2015-06-09   \n",
              "1  Village Roadshow Pictures|Kennedy Miller Produ...   2015-05-13   \n",
              "2  Summit Entertainment|Mandeville Films|Red Wago...   2015-03-18   \n",
              "3          Lucasfilm|Truenorth Productions|Bad Robot   2015-12-15   \n",
              "4  Universal Pictures|Original Film|Media Rights ...   2015-04-01   \n",
              "\n",
              "   vote_average  release_year  \n",
              "0           6.5          2015  \n",
              "1           7.1          2015  \n",
              "2           6.3          2015  \n",
              "3           7.5          2015  \n",
              "4           7.3          2015  "
            ],
            "text/html": "<div>\n<style scoped>\n    .dataframe tbody tr th:only-of-type {\n        vertical-align: middle;\n    }\n\n    .dataframe tbody tr th {\n        vertical-align: top;\n    }\n\n    .dataframe thead th {\n        text-align: right;\n    }\n</style>\n<table border=\"1\" class=\"dataframe\">\n  <thead>\n    <tr style=\"text-align: right;\">\n      <th></th>\n      <th>imdb_id</th>\n      <th>budget</th>\n      <th>revenue</th>\n      <th>original_title</th>\n      <th>cast</th>\n      <th>director</th>\n      <th>tagline</th>\n      <th>overview</th>\n      <th>runtime</th>\n      <th>genres</th>\n      <th>production_companies</th>\n      <th>release_date</th>\n      <th>vote_average</th>\n      <th>release_year</th>\n    </tr>\n  </thead>\n  <tbody>\n    <tr>\n      <th>0</th>\n      <td>tt0369610</td>\n      <td>150000000</td>\n      <td>1513528810</td>\n      <td>Jurassic World</td>\n      <td>Chris Pratt|Bryce Dallas Howard|Irrfan Khan|Vi...</td>\n      <td>Colin Trevorrow</td>\n      <td>The park is open.</td>\n      <td>Twenty-two years after the events of Jurassic ...</td>\n      <td>124</td>\n      <td>Action|Adventure|Science Fiction|Thriller</td>\n      <td>Universal Studios|Amblin Entertainment|Legenda...</td>\n      <td>2015-06-09</td>\n      <td>6.5</td>\n      <td>2015</td>\n    </tr>\n    <tr>\n      <th>1</th>\n      <td>tt1392190</td>\n      <td>150000000</td>\n      <td>378436354</td>\n      <td>Mad Max: Fury Road</td>\n      <td>Tom Hardy|Charlize Theron|Hugh Keays-Byrne|Nic...</td>\n      <td>George Miller</td>\n      <td>What a Lovely Day.</td>\n      <td>An apocalyptic story set in the furthest reach...</td>\n      <td>120</td>\n      <td>Action|Adventure|Science Fiction|Thriller</td>\n      <td>Village Roadshow Pictures|Kennedy Miller Produ...</td>\n      <td>2015-05-13</td>\n      <td>7.1</td>\n      <td>2015</td>\n    </tr>\n    <tr>\n      <th>2</th>\n      <td>tt2908446</td>\n      <td>110000000</td>\n      <td>295238201</td>\n      <td>Insurgent</td>\n      <td>Shailene Woodley|Theo James|Kate Winslet|Ansel...</td>\n      <td>Robert Schwentke</td>\n      <td>One Choice Can Destroy You</td>\n      <td>Beatrice Prior must confront her inner demons ...</td>\n      <td>119</td>\n      <td>Adventure|Science Fiction|Thriller</td>\n      <td>Summit Entertainment|Mandeville Films|Red Wago...</td>\n      <td>2015-03-18</td>\n      <td>6.3</td>\n      <td>2015</td>\n    </tr>\n    <tr>\n      <th>3</th>\n      <td>tt2488496</td>\n      <td>200000000</td>\n      <td>2068178225</td>\n      <td>Star Wars: The Force Awakens</td>\n      <td>Harrison Ford|Mark Hamill|Carrie Fisher|Adam D...</td>\n      <td>J.J. Abrams</td>\n      <td>Every generation has a story.</td>\n      <td>Thirty years after defeating the Galactic Empi...</td>\n      <td>136</td>\n      <td>Action|Adventure|Science Fiction|Fantasy</td>\n      <td>Lucasfilm|Truenorth Productions|Bad Robot</td>\n      <td>2015-12-15</td>\n      <td>7.5</td>\n      <td>2015</td>\n    </tr>\n    <tr>\n      <th>4</th>\n      <td>tt2820852</td>\n      <td>190000000</td>\n      <td>1506249360</td>\n      <td>Furious 7</td>\n      <td>Vin Diesel|Paul Walker|Jason Statham|Michelle ...</td>\n      <td>James Wan</td>\n      <td>Vengeance Hits Home</td>\n      <td>Deckard Shaw seeks revenge against Dominic Tor...</td>\n      <td>137</td>\n      <td>Action|Crime|Thriller</td>\n      <td>Universal Pictures|Original Film|Media Rights ...</td>\n      <td>2015-04-01</td>\n      <td>7.3</td>\n      <td>2015</td>\n    </tr>\n  </tbody>\n</table>\n</div>"
          },
          "metadata": {},
          "execution_count": 5
        }
      ],
      "metadata": {}
    },
    {
      "cell_type": "markdown",
      "source": [
        "## Вспомогательные функции"
      ],
      "metadata": {}
    },
    {
      "cell_type": "code",
      "source": [
        "def get_by_max_value(df, column):\n",
        "    \"\"\"Возвращает фильм с максимальным значением для Series (колонки)\"\"\"\n",
        "    \n",
        "    return df.query('{0} == {1}'.format(column, df[column].max()))\n",
        "\n",
        "\n",
        "def get_by_min_value(df, column):\n",
        "    \"\"\"Возвращает фильм с минимальным значением для Series (колонки)\"\"\"\n",
        "    \n",
        "    return df.query('{0} == {1}'.format(column, df[column].min()))\n",
        "\n",
        "\n",
        "def get_movies_by_years(df, years):\n",
        "    \"\"\"Возвращает фильмы, выпущенные в прокат в определенном году (годах)\"\"\"\n",
        "\n",
        "    return df.query('release_year in @years')\n",
        "    \n",
        "\n",
        "def get_exploded_data(df, column, separator='|'):\n",
        "    \"\"\"Возвращает копию датасета с разбивкой строковых данных из определенного столбца\"\"\"\n",
        "\n",
        "    exploded_df = df.copy()\n",
        "    exploded_df[column] = exploded_df[column].str.split(separator)\n",
        "\n",
        "    return exploded_df.explode(column)"
      ],
      "execution_count": 49,
      "outputs": [],
      "metadata": {}
    },
    {
      "cell_type": "markdown",
      "source": [
        "## Предобработка"
      ],
      "metadata": {}
    },
    {
      "cell_type": "code",
      "source": [
        "answers = {} # создадим словарь для ответов\n",
        "\n",
        "data['profit'] = data.apply(lambda row: row.revenue - row.budget, axis=1) # добавим колонку с прибыльностью фильма\n",
        "data['release_month'] = data.release_date.dt.month # добавим колонку с месяцем выпуска фильмов"
      ],
      "execution_count": 8,
      "outputs": [],
      "metadata": {}
    },
    {
      "cell_type": "markdown",
      "source": [
        "## 1. У какого фильма из списка самый большой бюджет?"
      ],
      "metadata": {}
    },
    {
      "cell_type": "code",
      "source": [
        "answers['1'] = data[data.budget == data.budget.max()].original_title.item()"
      ],
      "execution_count": 32,
      "outputs": [],
      "metadata": {}
    },
    {
      "cell_type": "markdown",
      "source": [
        "#### Вариант 2"
      ],
      "metadata": {}
    },
    {
      "cell_type": "code",
      "source": [
        "answers['1'] = get_by_max_value(data, 'budget').original_title.item()"
      ],
      "execution_count": 33,
      "outputs": [
        {
          "output_type": "execute_result",
          "data": {
            "text/plain": [
              "'Pirates of the Caribbean: On Stranger Tides'"
            ]
          },
          "metadata": {},
          "execution_count": 33
        }
      ],
      "metadata": {}
    },
    {
      "cell_type": "markdown",
      "source": [
        "## 2. Какой из фильмов самый длительный (в минутах)?"
      ],
      "metadata": {}
    },
    {
      "cell_type": "code",
      "source": [
        "answers['2'] = get_by_max_value(data, 'runtime').original_title.item()"
      ],
      "execution_count": 34,
      "outputs": [],
      "metadata": {}
    },
    {
      "cell_type": "markdown",
      "source": [
        "## 3. Какой из фильмов самый короткий (в минутах)?"
      ],
      "metadata": {}
    },
    {
      "cell_type": "code",
      "source": [
        "answers['3']  = data.query('runtime == @data.runtime.min()').original_title.item()"
      ],
      "execution_count": 35,
      "outputs": [],
      "metadata": {}
    },
    {
      "cell_type": "markdown",
      "source": [
        "#### Вариант 2"
      ],
      "metadata": {}
    },
    {
      "cell_type": "code",
      "source": [
        "answers['3'] = get_by_min_value(data, 'runtime').original_title.item()"
      ],
      "execution_count": 36,
      "outputs": [],
      "metadata": {}
    },
    {
      "cell_type": "markdown",
      "source": [
        "## 4. Какова средняя длительность фильмов?"
      ],
      "metadata": {}
    },
    {
      "cell_type": "code",
      "source": [
        "answers['4'] = round(data.runtime.mean())"
      ],
      "execution_count": 17,
      "outputs": [],
      "metadata": {}
    },
    {
      "cell_type": "markdown",
      "source": [
        "## 5. Каково медианное значение длительности фильмов?"
      ],
      "metadata": {}
    },
    {
      "cell_type": "code",
      "source": [
        "answers['5'] = round(data.runtime.median())"
      ],
      "execution_count": 18,
      "outputs": [],
      "metadata": {}
    },
    {
      "cell_type": "markdown",
      "source": [
        "## 6. Какой фильм самый прибыльный?"
      ],
      "metadata": {}
    },
    {
      "cell_type": "code",
      "source": [
        "answers['6'] = get_by_max_value(data, 'profit').original_title.item()"
      ],
      "execution_count": 37,
      "outputs": [],
      "metadata": {}
    },
    {
      "cell_type": "markdown",
      "source": [
        "## 7. Какой фильм самый убыточный?"
      ],
      "metadata": {}
    },
    {
      "cell_type": "code",
      "source": [
        "answers['7'] = get_by_min_value(data, 'profit').original_title.item()"
      ],
      "execution_count": 38,
      "outputs": [],
      "metadata": {}
    },
    {
      "cell_type": "markdown",
      "source": [
        "## 8. У скольких фильмов из датасета объем сборов оказался выше бюджета?"
      ],
      "metadata": {}
    },
    {
      "cell_type": "code",
      "source": [
        "answers['8'] = len(data.query('revenue > budget'))"
      ],
      "execution_count": 21,
      "outputs": [],
      "metadata": {}
    },
    {
      "cell_type": "markdown",
      "source": [
        "## 9. Какой фильм оказался самым кассовым в 2008 году?"
      ],
      "metadata": {}
    },
    {
      "cell_type": "code",
      "source": [
        "movies_2008 = get_movies_by_years(data, [2008])\n",
        "answers['9'] = get_by_max_value(movies_2008, 'revenue').original_title.item()"
      ],
      "execution_count": 39,
      "outputs": [],
      "metadata": {}
    },
    {
      "cell_type": "markdown",
      "source": [
        "## 10. Самый убыточный фильм за период с 2012 по 2014 годы (включительно)?"
      ],
      "metadata": {}
    },
    {
      "cell_type": "code",
      "source": [
        "period_movies = get_movies_by_years(data, range(2012, 2015))\n",
        "answers['10'] = get_by_min_value(period_movies, 'profit').original_title.item()"
      ],
      "execution_count": 40,
      "outputs": [],
      "metadata": {}
    },
    {
      "cell_type": "markdown",
      "source": [
        "## 11. Какого жанра фильмов больше всего?"
      ],
      "metadata": {}
    },
    {
      "cell_type": "code",
      "source": [
        "movies_by_genre = get_exploded_data(data, 'genres')\n",
        "answers['11'] = movies_by_genre.genres.value_counts().index[0]"
      ],
      "execution_count": 44,
      "outputs": [],
      "metadata": {}
    },
    {
      "cell_type": "markdown",
      "source": [
        "## 12. Фильмы какого жанра чаще всего становятся прибыльными?"
      ],
      "metadata": {}
    },
    {
      "cell_type": "code",
      "source": [
        "profit_movies = data.query('revenue > budget')\n",
        "movies_by_genre = get_exploded_data(profit_movies, 'genres')\n",
        "answers['12'] = movies_by_genre.value_counts('genres').index[0]"
      ],
      "execution_count": 48,
      "outputs": [],
      "metadata": {}
    },
    {
      "cell_type": "markdown",
      "source": [
        "## 13. У какого режиссёра самые большие суммарные кассовые сборы?"
      ],
      "metadata": {}
    },
    {
      "cell_type": "code",
      "source": [
        "movies_by_director = get_exploded_data(data, 'director')\n",
        "answers['13'] = movies_by_director.groupby(['director'])['revenue'].sum().sort_values(ascending=False).index[0]"
      ],
      "execution_count": 47,
      "outputs": [],
      "metadata": {}
    },
    {
      "cell_type": "markdown",
      "source": [
        "## 14. Какой режиссер снял больше всего фильмов в стиле Action?"
      ],
      "metadata": {}
    },
    {
      "cell_type": "code",
      "source": [
        "movies_by_genre = get_exploded_data(data, 'genres')\n",
        "action_directors = movies_by_genre[movies_by_genre.genres == 'Action'].director\n",
        "answers['14'] = action_directors.str.split('|').explode().value_counts().index[0]"
      ],
      "execution_count": 50,
      "outputs": [],
      "metadata": {}
    },
    {
      "cell_type": "markdown",
      "source": [
        "## 15. Фильмы с каким актером принесли самые высокие кассовые сборы в 2012 году?"
      ],
      "metadata": {}
    },
    {
      "cell_type": "code",
      "source": [
        "movies_2012 = get_movies_by_years(data, [2012])\n",
        "movies_by_actor = get_exploded_data(movies_2012, 'cast')\n",
        "answers['15'] = movies_by_actor.groupby(['cast'])['revenue'].sum().sort_values(ascending=False).index[0]"
      ],
      "execution_count": 51,
      "outputs": [],
      "metadata": {}
    },
    {
      "cell_type": "markdown",
      "source": [
        "## 16. Какой актер снялся в большем количестве высокобюджетных фильмов?\n",
        "#### Примечание: в фильмах, где бюджет выше среднего по данной выборке."
      ],
      "metadata": {}
    },
    {
      "cell_type": "code",
      "source": [
        "high_budget_movies = data[data.budget > data.budget.mean()]\n",
        "answers['16'] = get_exploded_data(high_budget_movies, 'cast').value_counts('cast').index[0]"
      ],
      "execution_count": 52,
      "outputs": [],
      "metadata": {}
    },
    {
      "cell_type": "markdown",
      "source": [
        "## 17. В фильмах какого жанра больше всего снимался Nicolas Cage?"
      ],
      "metadata": {}
    },
    {
      "cell_type": "code",
      "source": [
        "cage_movies = data[data.cast.str.contains('Nicolas Cage')]\n",
        "cage_movies_by_genre = get_exploded_data(cage_movies, 'genres')\n",
        "answers['17'] = cage_movies_by_genre.value_counts('genres').index[0]"
      ],
      "execution_count": 53,
      "outputs": [],
      "metadata": {}
    },
    {
      "cell_type": "markdown",
      "source": [
        "## 18. Самый убыточный фильм от Paramount Pictures?"
      ],
      "metadata": {}
    },
    {
      "cell_type": "code",
      "source": [
        "paramount_movies = data[data.production_companies.str.contains('Paramount Pictures')]\n",
        "answers['18'] = paramount_movies.query('profit == @paramount_movies.profit.min()').original_title.item()"
      ],
      "execution_count": 54,
      "outputs": [],
      "metadata": {}
    },
    {
      "cell_type": "markdown",
      "source": [
        "## 19. Какой год стал самым успешным по суммарным кассовым сборам?"
      ],
      "metadata": {}
    },
    {
      "cell_type": "code",
      "source": [
        "answers['19'] = data.groupby(['release_year'])['revenue'].sum().sort_values(ascending=False).index[0]"
      ],
      "execution_count": 55,
      "outputs": [],
      "metadata": {}
    },
    {
      "cell_type": "markdown",
      "source": [
        "## 20. Какой самый прибыльный год для студии Warner Bros?"
      ],
      "metadata": {}
    },
    {
      "cell_type": "code",
      "source": [
        "warner_movies = data[data.production_companies.str.contains('Warner Bros')]\n",
        "answers['20'] = warner_movies.groupby(['release_year'])['profit'].sum().sort_values(ascending=False).index[0]"
      ],
      "execution_count": 56,
      "outputs": [],
      "metadata": {}
    },
    {
      "cell_type": "markdown",
      "source": [
        "## 21. В каком месяце за все годы суммарно вышло больше всего фильмов?"
      ],
      "metadata": {}
    },
    {
      "cell_type": "code",
      "source": [
        "answers['21'] = data.release_month.value_counts().index[0]"
      ],
      "execution_count": 57,
      "outputs": [],
      "metadata": {}
    },
    {
      "cell_type": "markdown",
      "source": [
        "## 22. Сколько суммарно вышло фильмов летом (за июнь, июль, август)?"
      ],
      "metadata": {}
    },
    {
      "cell_type": "code",
      "source": [
        "answers['22'] = len(data.query('release_month in [6, 7, 8]').index)"
      ],
      "execution_count": 58,
      "outputs": [],
      "metadata": {}
    },
    {
      "cell_type": "markdown",
      "source": [
        "## 23. Для какого режиссера зима — самое продуктивное время года?"
      ],
      "metadata": {}
    },
    {
      "cell_type": "code",
      "source": [
        "winter_movies = data.query('release_month in [1, 2, 12]')\n",
        "winter_movies_by_director = get_exploded_data(winter_movies, 'director')\n",
        "answers['23'] = winter_movies_by_director.director.value_counts().index[0]"
      ],
      "execution_count": 59,
      "outputs": [],
      "metadata": {}
    },
    {
      "cell_type": "markdown",
      "source": [
        "## 24. Какая студия даёт самые длинные названия своим фильмам по количеству символов?"
      ],
      "metadata": {}
    },
    {
      "cell_type": "code",
      "source": [
        "titles_df = data.copy()[['production_companies', 'original_title']]\n",
        "titles_df['title_length'] = titles_df.original_title.str.len()\n",
        "titles_by_companies = get_exploded_data(titles_df, 'production_companies')\n",
        "answers['24'] = titles_by_companies.groupby('production_companies')['title_length'].mean().sort_values(ascending=False).index[0]"
      ],
      "execution_count": 60,
      "outputs": [],
      "metadata": {}
    },
    {
      "cell_type": "markdown",
      "source": [
        "## 25. Описания фильмов какой студии в среднем самые длинные по количеству слов?"
      ],
      "metadata": {}
    },
    {
      "cell_type": "code",
      "source": [
        "overview_df = data.copy()[['production_companies', 'overview']]\n",
        "overview_df['overview_length'] = overview_df.overview.apply(lambda x: len(x.split(' '))) # считаем количество слов в колонке с описанием\n",
        "overview_by_companies = get_exploded_data(overview_df, 'production_companies')\n",
        "answers['25'] = overview_by_companies.groupby('production_companies')['overview_length'].mean().sort_values(ascending=False).index[0]"
      ],
      "execution_count": 61,
      "outputs": [],
      "metadata": {}
    },
    {
      "cell_type": "markdown",
      "source": [
        "## 26. Какие фильмы входят в один процент лучших по рейтингу?"
      ],
      "metadata": {}
    },
    {
      "cell_type": "code",
      "source": [
        "answers['26'] = data[data.vote_average > data.vote_average.quantile(0.99)].original_title\n"
      ],
      "execution_count": 70,
      "outputs": [],
      "metadata": {}
    },
    {
      "cell_type": "markdown",
      "source": [
        "## 27. Какие актеры чаще всего снимаются в одном фильме вместе?"
      ],
      "metadata": {}
    },
    {
      "cell_type": "code",
      "source": [
        "from collections import Counter\n",
        "from itertools import combinations\n",
        "\n",
        "actor_pairs = Counter()\n",
        "\n",
        "for row in data.itertuples(name=None, index=False):\n",
        "    movie_actors = sorted(row[4].split('|'))\n",
        "\n",
        "    for pair in list(combinations(movie_actors, 2)):\n",
        "        actor_pairs[pair] += 1\n",
        "\n",
        "answers['27'] = actor_pairs.most_common(5)\n",
        "\n",
        "\n",
        "\n",
        "\n",
        "\n"
      ],
      "execution_count": 71,
      "outputs": [],
      "metadata": {}
    }
  ],
  "metadata": {
    "kernelspec": {
      "name": "python3",
      "display_name": "Python 3.8.5 64-bit ('base': conda)",
      "metadata": {
        "interpreter": {
          "hash": "e8f2c86635c9ab7286046e43d6fd467c91b8f687ae811d251410815d88d5a03d"
        }
      }
    }
  },
  "nbformat": 4,
  "nbformat_minor": 0
}