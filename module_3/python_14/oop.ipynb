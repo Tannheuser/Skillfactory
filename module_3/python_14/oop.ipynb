{
 "metadata": {
  "language_info": {
   "codemirror_mode": {
    "name": "ipython",
    "version": 3
   },
   "file_extension": ".py",
   "mimetype": "text/x-python",
   "name": "python",
   "nbconvert_exporter": "python",
   "pygments_lexer": "ipython3",
   "version": "3.8.5"
  },
  "orig_nbformat": 2,
  "kernelspec": {
   "name": "python385jvsc74a57bd0e8f2c86635c9ab7286046e43d6fd467c91b8f687ae811d251410815d88d5a03d",
   "display_name": "Python 3.8.5 64-bit ('base': conda)"
  }
 },
 "nbformat": 4,
 "nbformat_minor": 2,
 "cells": [
  {
   "cell_type": "code",
   "execution_count": 3,
   "metadata": {},
   "outputs": [],
   "source": [
    "# 14.6\n",
    "\n",
    "class DepartmentReport():  \n",
    "    def __init__(self, company_name):\n",
    "        self.revenues = []\n",
    "        self.company_name = company_name\n",
    "\n",
    "\n",
    "    def add_revenue(self, revenue):\n",
    "        self.revenues.append(revenue)\n",
    "\n",
    "\n",
    "    def average_revenue(self):\n",
    "        mean_revenue = round(sum(self.revenues) / len(self.revenues))\n",
    "        return 'Average department revenue for {}: {}'.format(self.company_name, mean_revenue)\n",
    "    \n",
    "department_report = DepartmentReport()\n"
   ]
  },
  {
   "cell_type": "code",
   "execution_count": 11,
   "metadata": {},
   "outputs": [],
   "source": [
    "# 14.9\n",
    "\n",
    "class User():\n",
    "    def __init__(self, email, password, balance):\n",
    "        self.email = email\n",
    "        self.password = password\n",
    "        self.balance = balance\n",
    "\n",
    "    def login(self, email, password):\n",
    "        return self.email == email and self.password == password\n",
    "\n",
    "    def update_balance(self, amount):\n",
    "        self.balance += amount\n"
   ]
  },
  {
   "cell_type": "code",
   "execution_count": 15,
   "metadata": {},
   "outputs": [],
   "source": [
    "# 14.10\n",
    "\n",
    "class IntDataFrame():\n",
    "    def __init__(self, numbers=[]):\n",
    "        self.numbers = list(map(lambda num: int(num), numbers))\n",
    "\n",
    "    def count(self):\n",
    "        return len([x for x in self.numbers if x != 0])\n",
    "\n",
    "    def unique(self):\n",
    "        return len(set(self.numbers))"
   ]
  },
  {
   "cell_type": "code",
   "execution_count": 48,
   "metadata": {},
   "outputs": [],
   "source": [
    "# 14.11 \n",
    "\n",
    "class OwnLogger():\n",
    "    def __init__(self):\n",
    "        self.logs = {\n",
    "            'info': [],\n",
    "            'warning': [],\n",
    "            'error': [],\n",
    "            'last': None\n",
    "        }\n",
    "\n",
    "    def log(self, message, level):\n",
    "        self.logs[level].append(message)\n",
    "        self.logs['last'] = message\n",
    "\n",
    "    def show_last(self, level='all'):\n",
    "        if (level == 'all'):\n",
    "            return self.logs['last']\n",
    "        else:\n",
    "            return self.logs[level][-1] if len(self.logs[level]) else None\n"
   ]
  },
  {
   "cell_type": "code",
   "execution_count": 49,
   "metadata": {},
   "outputs": [],
   "source": [
    "\n",
    "\n"
   ]
  },
  {
   "cell_type": "code",
   "execution_count": 50,
   "metadata": {},
   "outputs": [
    {
     "output_type": "execute_result",
     "data": {
      "text/plain": [
       "'Connection lost'"
      ]
     },
     "metadata": {},
     "execution_count": 50
    }
   ],
   "source": [
    "\n"
   ]
  },
  {
   "cell_type": "code",
   "execution_count": 51,
   "metadata": {},
   "outputs": [
    {
     "output_type": "execute_result",
     "data": {
      "text/plain": [
       "'System started'"
      ]
     },
     "metadata": {},
     "execution_count": 51
    }
   ],
   "source": []
  },
  {
   "cell_type": "code",
   "execution_count": null,
   "metadata": {},
   "outputs": [],
   "source": []
  }
 ]
}