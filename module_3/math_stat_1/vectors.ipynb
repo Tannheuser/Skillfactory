{
 "metadata": {
  "language_info": {
   "codemirror_mode": {
    "name": "ipython",
    "version": 3
   },
   "file_extension": ".py",
   "mimetype": "text/x-python",
   "name": "python",
   "nbconvert_exporter": "python",
   "pygments_lexer": "ipython3",
   "version": "3.8.5-final"
  },
  "orig_nbformat": 2,
  "kernelspec": {
   "name": "python3",
   "display_name": "Python 3.8.5 64-bit ('base': conda)",
   "metadata": {
    "interpreter": {
     "hash": "e134e05457d34029b6460cd73bbf1ed73f339b5b6d98c95be70b69eba114fe95"
    }
   }
  }
 },
 "nbformat": 4,
 "nbformat_minor": 2,
 "cells": [
  {
   "cell_type": "code",
   "execution_count": 1,
   "metadata": {},
   "outputs": [],
   "source": [
    "import numpy as np\n",
    "apartment = np.array([59.50, 31.40, 19, 22, 60550, 2])"
   ]
  },
  {
   "cell_type": "code",
   "execution_count": 2,
   "metadata": {},
   "outputs": [
    {
     "output_type": "execute_result",
     "data": {
      "text/plain": [
       "array([1.90000000e+01, 2.20000000e+01, 6.05500000e+04, 2.00000000e+00,\n",
       "       5.27731092e-01])"
      ]
     },
     "metadata": {},
     "execution_count": 2
    }
   ],
   "source": [
    "share_living_space = apartment[1]/apartment[0]\n",
    "apartment = np.delete(apartment, [0, 1])\n",
    "apartment = np.append(apartment, share_living_space)\n",
    "apartment"
   ]
  },
  {
   "cell_type": "code",
   "execution_count": 4,
   "metadata": {},
   "outputs": [
    {
     "output_type": "execute_result",
     "data": {
      "text/plain": [
       "0.53"
      ]
     },
     "metadata": {},
     "execution_count": 4
    }
   ],
   "source": [
    "# 1.2.1\n",
    "round(apartment[-1], 2)"
   ]
  },
  {
   "cell_type": "code",
   "execution_count": 6,
   "metadata": {},
   "outputs": [
    {
     "output_type": "execute_result",
     "data": {
      "text/plain": [
       "(5,)"
      ]
     },
     "metadata": {},
     "execution_count": 6
    }
   ],
   "source": [
    "# 1.2.2\n",
    "apartment.shape"
   ]
  },
  {
   "cell_type": "code",
   "execution_count": 9,
   "metadata": {},
   "outputs": [
    {
     "output_type": "execute_result",
     "data": {
      "text/plain": [
       "array([394., 496., 400.])"
      ]
     },
     "metadata": {},
     "execution_count": 9
    }
   ],
   "source": [
    "# 1.3.3\n",
    "alexey_income = np.array([120, 150, 90])\n",
    "wife_income = np.array([130, 130, 130])\n",
    "mil_eur_income = np.array([2, 3, 2.5])\n",
    "exchange_rate = 72\n",
    "\n",
    "mil_rub_income = mil_eur_income * exchange_rate\n",
    "mil_rub_income\n",
    "overall_income = alexey_income + wife_income + mil_rub_income\n",
    "overall_income"
   ]
  },
  {
   "cell_type": "code",
   "execution_count": 10,
   "metadata": {},
   "outputs": [
    {
     "output_type": "execute_result",
     "data": {
      "text/plain": [
       "array([7, 7])"
      ]
     },
     "metadata": {},
     "execution_count": 10
    }
   ],
   "source": [
    "# 1.4.1\n",
    "v1 = np.array([4,5])\n",
    "v2 = np.array([2,1])\n",
    "v3 = np.array([1,0])\n",
    "result = v1*2+v2*(-3)+v3*5\n",
    "result"
   ]
  },
  {
   "cell_type": "code",
   "execution_count": 12,
   "metadata": {},
   "outputs": [
    {
     "output_type": "execute_result",
     "data": {
      "text/plain": [
       "array([-200, 1200,  200,  600])"
      ]
     },
     "metadata": {},
     "execution_count": 12
    }
   ],
   "source": [
    "# 1.4.2\n",
    "\n",
    "income = 400\n",
    "expences = -200\n",
    "build = np.array([3, 4, 5, 9])\n",
    "sold = np.array([1, 5, 3, 6])\n",
    "result = build*expences+sold*income\n",
    "result"
   ]
  },
  {
   "cell_type": "code",
   "execution_count": 16,
   "metadata": {},
   "outputs": [
    {
     "output_type": "execute_result",
     "data": {
      "text/plain": [
       "7.280109889280518"
      ]
     },
     "metadata": {},
     "execution_count": 16
    }
   ],
   "source": [
    "53**0.5"
   ]
  },
  {
   "cell_type": "code",
   "execution_count": null,
   "metadata": {},
   "outputs": [],
   "source": []
  }
 ]
}