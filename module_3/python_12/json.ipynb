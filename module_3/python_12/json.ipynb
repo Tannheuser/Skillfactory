{
 "metadata": {
  "language_info": {
   "codemirror_mode": {
    "name": "ipython",
    "version": 3
   },
   "file_extension": ".py",
   "mimetype": "text/x-python",
   "name": "python",
   "nbconvert_exporter": "python",
   "pygments_lexer": "ipython3",
   "version": "3.8.5-final"
  },
  "orig_nbformat": 2,
  "kernelspec": {
   "name": "python385jvsc74a57bd0e8f2c86635c9ab7286046e43d6fd467c91b8f687ae811d251410815d88d5a03d",
   "display_name": "Python 3.8.5 64-bit ('base': conda)"
  }
 },
 "nbformat": 4,
 "nbformat_minor": 2,
 "cells": [
  {
   "cell_type": "code",
   "execution_count": 3,
   "metadata": {},
   "outputs": [],
   "source": [
    "import json  \n",
    "from pprint import pprint \n",
    "\n",
    "with open('recipes.json') as f:\n",
    "   recipes = json.load(f)"
   ]
  },
  {
   "cell_type": "code",
   "execution_count": 5,
   "metadata": {
    "tags": []
   },
   "outputs": [
    {
     "output_type": "execute_result",
     "data": {
      "text/plain": [
       "'british'"
      ]
     },
     "metadata": {},
     "execution_count": 5
    }
   ],
   "source": [
    "# 12.2 1\n",
    "\n",
    "recipes[-1]['cuisine']"
   ]
  },
  {
   "cell_type": "code",
   "execution_count": 11,
   "metadata": {},
   "outputs": [
    {
     "output_type": "execute_result",
     "data": {
      "text/plain": [
       "17"
      ]
     },
     "metadata": {},
     "execution_count": 11
    }
   ],
   "source": [
    "# 12.2 2\n",
    "\n",
    "len(recipes[-1]['ingredients'])"
   ]
  },
  {
   "cell_type": "code",
   "execution_count": 13,
   "metadata": {},
   "outputs": [
    {
     "output_type": "stream",
     "name": "stdout",
     "text": [
      "['tomato sauce', 'shredded carrots', 'spinach', 'part-skim mozzarella cheese', 'italian seasoning', 'english muffins, split and toasted', 'chopped onion', 'vegetable oil cooking spray', 'chopped green bell pepper']\n"
     ]
    }
   ],
   "source": [
    "# 12.2 3\n",
    "\n",
    "for recipe in recipes:  \n",
    "   if recipe['id'] == 17636:  \n",
    "        print(recipe['ingredients'])\n",
    "        break   "
   ]
  },
  {
   "cell_type": "code",
   "execution_count": 14,
   "metadata": {},
   "outputs": [
    {
     "output_type": "stream",
     "name": "stdout",
     "text": [
      "14\n"
     ]
    }
   ],
   "source": [
    "# 12.2 4\n",
    "\n",
    "for recipe in recipes:  \n",
    "   if recipe['id'] == 42013:  \n",
    "        print(len(recipe['ingredients']))\n",
    "        break "
   ]
  },
  {
   "cell_type": "code",
   "execution_count": 15,
   "metadata": {},
   "outputs": [
    {
     "output_type": "stream",
     "name": "stdout",
     "text": [
      "['eggs', 'russet potatoes', 'mexican chorizo', 'black beans', 'salsa', 'canola oil', 'colby cheese', 'black olives', 'sour cream', 'avocado', 'half & half', 'goat cheese']\n"
     ]
    }
   ],
   "source": [
    "# 12.2 4\n",
    "\n",
    "for recipe in recipes:  \n",
    "   if recipe['id'] == 23629:  \n",
    "        print(recipe['ingredients'])\n",
    "        break "
   ]
  },
  {
   "cell_type": "code",
   "execution_count": 16,
   "metadata": {},
   "outputs": [
    {
     "output_type": "execute_result",
     "data": {
      "text/plain": [
       "1318"
      ]
     },
     "metadata": {},
     "execution_count": 16
    }
   ],
   "source": [
    "# 12.3 1\n",
    "\n",
    "ingredients = set()\n",
    "\n",
    "for recipe in recipes:\n",
    "   for ingredient in recipe['ingredients']:\n",
    "        ingredients.add(ingredient)\n",
    "len(ingredients)"
   ]
  },
  {
   "cell_type": "code",
   "execution_count": 22,
   "metadata": {},
   "outputs": [
    {
     "output_type": "execute_result",
     "data": {
      "text/plain": [
       "406"
      ]
     },
     "metadata": {},
     "execution_count": 22
    }
   ],
   "source": [
    "# 12.3 2\n",
    "\n",
    "italian_ingredients = set()\n",
    "\n",
    "for recipe in recipes:\n",
    "    if recipe['cuisine'] == 'italian':\n",
    "        for ingredient in recipe['ingredients']:\n",
    "            italian_ingredients.add(ingredient)\n",
    "\n",
    "len(italian_ingredients)"
   ]
  },
  {
   "cell_type": "code",
   "execution_count": 26,
   "metadata": {},
   "outputs": [
    {
     "output_type": "stream",
     "name": "stdout",
     "text": [
      "['boiled eggs', 'buttermilk', 'cucumber', 'dill', 'grits', 'mozzarella cheese', 'onions', 'red beets', 'salt', 'sugar', 'water']\n"
     ]
    }
   ],
   "source": [
    "# 12.3 3\n",
    "\n",
    "russian_ingredients = set()\n",
    "\n",
    "for recipe in recipes:\n",
    "    if recipe['cuisine'] == 'russian':\n",
    "        for ingredient in recipe['ingredients']:\n",
    "            russian_ingredients.add(ingredient)\n",
    "\n",
    "print(sorted(russian_ingredients))"
   ]
  },
  {
   "cell_type": "code",
   "execution_count": 5,
   "metadata": {},
   "outputs": [],
   "source": [
    "ingredients = set()\n",
    "food = {}\n",
    "\n",
    "for recipe in recipes:\n",
    "    for ingredient in recipe['ingredients']:\n",
    "        ingredients.add(ingredient)\n",
    "\n",
    "        if not(ingredient in food):\n",
    "            food[ingredient] = 0\n",
    "        else:\n",
    "            food[ingredient] += 1\n",
    "\n",
    " \n",
    "        \n",
    "   "
   ]
  },
  {
   "cell_type": "code",
   "execution_count": 42,
   "metadata": {
    "tags": []
   },
   "outputs": [
    {
     "output_type": "stream",
     "name": "stdout",
     "text": [
      "garlic\nsalt\n"
     ]
    }
   ],
   "source": [
    "# 12.3 4\n",
    "\n",
    "limit = len(recipes) / 5\n",
    "\n",
    "for key, value in food.items():\n",
    "    if (value >= limit):\n",
    "        print(key)\n"
   ]
  },
  {
   "cell_type": "code",
   "execution_count": 43,
   "metadata": {},
   "outputs": [
    {
     "output_type": "stream",
     "name": "stdout",
     "text": [
      "garlic 106\nsalt 216\n"
     ]
    }
   ],
   "source": [
    "# 12.3 5\n",
    "\n",
    "for key, value in food.items():\n",
    "    if (value >= limit):\n",
    "        print(key, value)\n"
   ]
  },
  {
   "cell_type": "code",
   "execution_count": 46,
   "metadata": {},
   "outputs": [
    {
     "output_type": "execute_result",
     "data": {
      "text/plain": [
       "215"
      ]
     },
     "metadata": {},
     "execution_count": 46
    }
   ],
   "source": [
    "# 12.3 6\n",
    "\n",
    "count = 0\n",
    "\n",
    "for key, value in food.items():\n",
    "    if (value == 1):\n",
    "        count += 1\n",
    "\n",
    "count"
   ]
  },
  {
   "cell_type": "code",
   "execution_count": 6,
   "metadata": {},
   "outputs": [],
   "source": [
    "# 12.4 6\n",
    "import pandas as pd\n",
    "\n",
    "def find_item(cell):\n",
    "    if item in cell:\n",
    "        return 1\n",
    "    return 0\n",
    "\n",
    "df = pd.DataFrame(recipes)\n",
    "\n",
    "for item in ingredients:\n",
    "    df[item] = df['ingredients'].apply(find_item)\n",
    "\n",
    "df['ingredients'] = df['ingredients'].apply(len)"
   ]
  },
  {
   "cell_type": "code",
   "execution_count": 7,
   "metadata": {},
   "outputs": [
    {
     "output_type": "execute_result",
     "data": {
      "text/plain": [
       "      id      cuisine  ingredients  cayenne pepper  fava beans  pepperoni  \\\n",
       "0  10259        greek            9               0           0          0   \n",
       "1  25693  southern_us           11               0           0          0   \n",
       "2  20130     filipino           12               0           0          0   \n",
       "3  22213       indian            4               0           0          0   \n",
       "4  13162       indian           20               1           0          0   \n",
       "\n",
       "   chili flakes  taco sauce  cooked ham  low sodium chicken broth  ...  \\\n",
       "0             0           0           0                         0  ...   \n",
       "1             0           0           0                         0  ...   \n",
       "2             0           0           0                         0  ...   \n",
       "3             0           0           0                         0  ...   \n",
       "4             0           0           0                         0  ...   \n",
       "\n",
       "   canned corn  roasted garlic  yellow corn meal  celery  crushed garlic  \\\n",
       "0            0               0                 0       0               0   \n",
       "1            0               0                 1       0               0   \n",
       "2            0               0                 0       0               0   \n",
       "3            0               0                 0       0               0   \n",
       "4            0               0                 0       0               0   \n",
       "\n",
       "   thai basil  saffron threads  low-fat milk  sake  chinese chives  \n",
       "0           0                0             0     0               0  \n",
       "1           0                0             0     0               0  \n",
       "2           0                0             0     0               0  \n",
       "3           0                0             0     0               0  \n",
       "4           0                0             0     0               0  \n",
       "\n",
       "[5 rows x 1321 columns]"
      ],
      "text/html": "<div>\n<style scoped>\n    .dataframe tbody tr th:only-of-type {\n        vertical-align: middle;\n    }\n\n    .dataframe tbody tr th {\n        vertical-align: top;\n    }\n\n    .dataframe thead th {\n        text-align: right;\n    }\n</style>\n<table border=\"1\" class=\"dataframe\">\n  <thead>\n    <tr style=\"text-align: right;\">\n      <th></th>\n      <th>id</th>\n      <th>cuisine</th>\n      <th>ingredients</th>\n      <th>cayenne pepper</th>\n      <th>fava beans</th>\n      <th>pepperoni</th>\n      <th>chili flakes</th>\n      <th>taco sauce</th>\n      <th>cooked ham</th>\n      <th>low sodium chicken broth</th>\n      <th>...</th>\n      <th>canned corn</th>\n      <th>roasted garlic</th>\n      <th>yellow corn meal</th>\n      <th>celery</th>\n      <th>crushed garlic</th>\n      <th>thai basil</th>\n      <th>saffron threads</th>\n      <th>low-fat milk</th>\n      <th>sake</th>\n      <th>chinese chives</th>\n    </tr>\n  </thead>\n  <tbody>\n    <tr>\n      <th>0</th>\n      <td>10259</td>\n      <td>greek</td>\n      <td>9</td>\n      <td>0</td>\n      <td>0</td>\n      <td>0</td>\n      <td>0</td>\n      <td>0</td>\n      <td>0</td>\n      <td>0</td>\n      <td>...</td>\n      <td>0</td>\n      <td>0</td>\n      <td>0</td>\n      <td>0</td>\n      <td>0</td>\n      <td>0</td>\n      <td>0</td>\n      <td>0</td>\n      <td>0</td>\n      <td>0</td>\n    </tr>\n    <tr>\n      <th>1</th>\n      <td>25693</td>\n      <td>southern_us</td>\n      <td>11</td>\n      <td>0</td>\n      <td>0</td>\n      <td>0</td>\n      <td>0</td>\n      <td>0</td>\n      <td>0</td>\n      <td>0</td>\n      <td>...</td>\n      <td>0</td>\n      <td>0</td>\n      <td>1</td>\n      <td>0</td>\n      <td>0</td>\n      <td>0</td>\n      <td>0</td>\n      <td>0</td>\n      <td>0</td>\n      <td>0</td>\n    </tr>\n    <tr>\n      <th>2</th>\n      <td>20130</td>\n      <td>filipino</td>\n      <td>12</td>\n      <td>0</td>\n      <td>0</td>\n      <td>0</td>\n      <td>0</td>\n      <td>0</td>\n      <td>0</td>\n      <td>0</td>\n      <td>...</td>\n      <td>0</td>\n      <td>0</td>\n      <td>0</td>\n      <td>0</td>\n      <td>0</td>\n      <td>0</td>\n      <td>0</td>\n      <td>0</td>\n      <td>0</td>\n      <td>0</td>\n    </tr>\n    <tr>\n      <th>3</th>\n      <td>22213</td>\n      <td>indian</td>\n      <td>4</td>\n      <td>0</td>\n      <td>0</td>\n      <td>0</td>\n      <td>0</td>\n      <td>0</td>\n      <td>0</td>\n      <td>0</td>\n      <td>...</td>\n      <td>0</td>\n      <td>0</td>\n      <td>0</td>\n      <td>0</td>\n      <td>0</td>\n      <td>0</td>\n      <td>0</td>\n      <td>0</td>\n      <td>0</td>\n      <td>0</td>\n    </tr>\n    <tr>\n      <th>4</th>\n      <td>13162</td>\n      <td>indian</td>\n      <td>20</td>\n      <td>1</td>\n      <td>0</td>\n      <td>0</td>\n      <td>0</td>\n      <td>0</td>\n      <td>0</td>\n      <td>0</td>\n      <td>...</td>\n      <td>0</td>\n      <td>0</td>\n      <td>0</td>\n      <td>0</td>\n      <td>0</td>\n      <td>0</td>\n      <td>0</td>\n      <td>0</td>\n      <td>0</td>\n      <td>0</td>\n    </tr>\n  </tbody>\n</table>\n<p>5 rows × 1321 columns</p>\n</div>"
     },
     "metadata": {},
     "execution_count": 7
    }
   ],
   "source": [
    "df.head()"
   ]
  },
  {
   "cell_type": "code",
   "execution_count": 8,
   "metadata": {},
   "outputs": [],
   "source": [
    "df.to_csv('recipes.csv', index = False)"
   ]
  },
  {
   "cell_type": "code",
   "execution_count": 13,
   "metadata": {},
   "outputs": [],
   "source": [
    "# 12.5 1\n",
    "\n",
    "df = pd.read_csv('recipes.csv')\n",
    "ids = df.id.to_list()"
   ]
  },
  {
   "cell_type": "code",
   "execution_count": 10,
   "metadata": {},
   "outputs": [
    {
     "output_type": "execute_result",
     "data": {
      "text/plain": [
       "      id      cuisine  ingredients  cayenne pepper  fava beans  pepperoni  \\\n",
       "0  10259        greek            9               0           0          0   \n",
       "1  25693  southern_us           11               0           0          0   \n",
       "2  20130     filipino           12               0           0          0   \n",
       "3  22213       indian            4               0           0          0   \n",
       "4  13162       indian           20               1           0          0   \n",
       "\n",
       "   chili flakes  taco sauce  cooked ham  low sodium chicken broth  ...  \\\n",
       "0             0           0           0                         0  ...   \n",
       "1             0           0           0                         0  ...   \n",
       "2             0           0           0                         0  ...   \n",
       "3             0           0           0                         0  ...   \n",
       "4             0           0           0                         0  ...   \n",
       "\n",
       "   canned corn  roasted garlic  yellow corn meal  celery  crushed garlic  \\\n",
       "0            0               0                 0       0               0   \n",
       "1            0               0                 1       0               0   \n",
       "2            0               0                 0       0               0   \n",
       "3            0               0                 0       0               0   \n",
       "4            0               0                 0       0               0   \n",
       "\n",
       "   thai basil  saffron threads  low-fat milk  sake  chinese chives  \n",
       "0           0                0             0     0               0  \n",
       "1           0                0             0     0               0  \n",
       "2           0                0             0     0               0  \n",
       "3           0                0             0     0               0  \n",
       "4           0                0             0     0               0  \n",
       "\n",
       "[5 rows x 1321 columns]"
      ],
      "text/html": "<div>\n<style scoped>\n    .dataframe tbody tr th:only-of-type {\n        vertical-align: middle;\n    }\n\n    .dataframe tbody tr th {\n        vertical-align: top;\n    }\n\n    .dataframe thead th {\n        text-align: right;\n    }\n</style>\n<table border=\"1\" class=\"dataframe\">\n  <thead>\n    <tr style=\"text-align: right;\">\n      <th></th>\n      <th>id</th>\n      <th>cuisine</th>\n      <th>ingredients</th>\n      <th>cayenne pepper</th>\n      <th>fava beans</th>\n      <th>pepperoni</th>\n      <th>chili flakes</th>\n      <th>taco sauce</th>\n      <th>cooked ham</th>\n      <th>low sodium chicken broth</th>\n      <th>...</th>\n      <th>canned corn</th>\n      <th>roasted garlic</th>\n      <th>yellow corn meal</th>\n      <th>celery</th>\n      <th>crushed garlic</th>\n      <th>thai basil</th>\n      <th>saffron threads</th>\n      <th>low-fat milk</th>\n      <th>sake</th>\n      <th>chinese chives</th>\n    </tr>\n  </thead>\n  <tbody>\n    <tr>\n      <th>0</th>\n      <td>10259</td>\n      <td>greek</td>\n      <td>9</td>\n      <td>0</td>\n      <td>0</td>\n      <td>0</td>\n      <td>0</td>\n      <td>0</td>\n      <td>0</td>\n      <td>0</td>\n      <td>...</td>\n      <td>0</td>\n      <td>0</td>\n      <td>0</td>\n      <td>0</td>\n      <td>0</td>\n      <td>0</td>\n      <td>0</td>\n      <td>0</td>\n      <td>0</td>\n      <td>0</td>\n    </tr>\n    <tr>\n      <th>1</th>\n      <td>25693</td>\n      <td>southern_us</td>\n      <td>11</td>\n      <td>0</td>\n      <td>0</td>\n      <td>0</td>\n      <td>0</td>\n      <td>0</td>\n      <td>0</td>\n      <td>0</td>\n      <td>...</td>\n      <td>0</td>\n      <td>0</td>\n      <td>1</td>\n      <td>0</td>\n      <td>0</td>\n      <td>0</td>\n      <td>0</td>\n      <td>0</td>\n      <td>0</td>\n      <td>0</td>\n    </tr>\n    <tr>\n      <th>2</th>\n      <td>20130</td>\n      <td>filipino</td>\n      <td>12</td>\n      <td>0</td>\n      <td>0</td>\n      <td>0</td>\n      <td>0</td>\n      <td>0</td>\n      <td>0</td>\n      <td>0</td>\n      <td>...</td>\n      <td>0</td>\n      <td>0</td>\n      <td>0</td>\n      <td>0</td>\n      <td>0</td>\n      <td>0</td>\n      <td>0</td>\n      <td>0</td>\n      <td>0</td>\n      <td>0</td>\n    </tr>\n    <tr>\n      <th>3</th>\n      <td>22213</td>\n      <td>indian</td>\n      <td>4</td>\n      <td>0</td>\n      <td>0</td>\n      <td>0</td>\n      <td>0</td>\n      <td>0</td>\n      <td>0</td>\n      <td>0</td>\n      <td>...</td>\n      <td>0</td>\n      <td>0</td>\n      <td>0</td>\n      <td>0</td>\n      <td>0</td>\n      <td>0</td>\n      <td>0</td>\n      <td>0</td>\n      <td>0</td>\n      <td>0</td>\n    </tr>\n    <tr>\n      <th>4</th>\n      <td>13162</td>\n      <td>indian</td>\n      <td>20</td>\n      <td>1</td>\n      <td>0</td>\n      <td>0</td>\n      <td>0</td>\n      <td>0</td>\n      <td>0</td>\n      <td>0</td>\n      <td>...</td>\n      <td>0</td>\n      <td>0</td>\n      <td>0</td>\n      <td>0</td>\n      <td>0</td>\n      <td>0</td>\n      <td>0</td>\n      <td>0</td>\n      <td>0</td>\n      <td>0</td>\n    </tr>\n  </tbody>\n</table>\n<p>5 rows × 1321 columns</p>\n</div>"
     },
     "metadata": {},
     "execution_count": 10
    }
   ],
   "source": []
  },
  {
   "cell_type": "code",
   "execution_count": 21,
   "metadata": {},
   "outputs": [],
   "source": [
    "# 12.5 2\n",
    "\n",
    "df = pd.read_csv('recipes.csv')\n",
    "ingredients = df.columns[3:].to_list()"
   ]
  },
  {
   "cell_type": "code",
   "execution_count": 22,
   "metadata": {},
   "outputs": [],
   "source": [
    "new_recipes = []\n",
    "ids = df.id.to_list()\n",
    "ingredients = df.columns[3:].to_list()"
   ]
  },
  {
   "cell_type": "code",
   "execution_count": 48,
   "metadata": {
    "tags": []
   },
   "outputs": [],
   "source": [
    "# 12.5 3\n",
    "\n",
    "def make_list(row):\n",
    "    current_ingredients = []\n",
    "\n",
    "    for ingredient in ingredients:\n",
    "        if(row[ingredient].iloc[0] > 0):\n",
    "            current_ingredients.append(ingredient)\n",
    "\n",
    "    return current_ingredients\n",
    "\n",
    "for current_id in ids:\n",
    "    cuisine = df[df['id'] == current_id]['cuisine'].iloc[0]\n",
    "    current_ingredients = make_list(df[df['id'] == current_id])\n",
    "    current_recipe = {'cuisine': cuisine, 'id': int(current_id), 'ingredients': current_ingredients}"
   ]
  },
  {
   "cell_type": "code",
   "execution_count": null,
   "metadata": {},
   "outputs": [],
   "source": [
    "new_recipes = json.dumps(new_recipes)\n",
    "with open(\"new_recipes.json\", \"w\") as write_file:\n",
    "    write_file.write(new_recipes)\n",
    "\n",
    "# with open(\"new_recipes.json\", \"w\") as write_file:\n",
    "#     json.dump(new_recipes, write_file)"
   ]
  }
 ]
}