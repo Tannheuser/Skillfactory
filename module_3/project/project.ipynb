{
 "cells": [
  {
   "cell_type": "code",
   "execution_count": 225,
   "metadata": {
    "collapsed": true
   },
   "outputs": [],
   "source": [
    "import pandas as pd\n",
    "\n",
    "df = pd.read_csv('main_task.csv')"
   ]
  },
  {
   "cell_type": "code",
   "execution_count": 238,
   "outputs": [
    {
     "data": {
      "text/plain": "0     194.0\n1      10.0\n2     688.0\n3       3.0\n4      84.0\n5       2.0\n6      50.0\n7       9.0\n8      84.0\n9      55.0\n10      6.0\n11     42.0\n12    286.0\n13     10.0\n14      7.0\n15     28.0\n16      3.0\n17      7.0\n18     12.0\n19     12.0\n20     27.0\n21    100.0\n22     52.0\n23    371.0\n24     18.0\n25      2.0\n26     11.0\n27      2.0\n28      4.0\n29     16.0\n30     16.0\n31     15.0\n32    159.0\n33      4.0\n34     69.0\n35     20.0\n36    104.0\n37      2.0\n38     10.0\n39      7.0\n40      9.0\n41    132.0\n42     73.0\n43     39.0\n44      7.0\n45      3.0\n46      4.0\n47    484.0\n48     41.0\n49    281.0\ndtype: float64"
     },
     "execution_count": 238,
     "metadata": {},
     "output_type": "execute_result"
    }
   ],
   "source": [
    "\n",
    "\n",
    "cities = df['City'].value_counts().index.values\n",
    "mean_city_reviews = {}\n",
    "\n",
    "for city in cities:\n",
    "    mean_city_reviews[city] = round(df.query('City == @city')['Number of Reviews'].mean())\n",
    "\n",
    "def get_reviews(row):\n",
    "    return mean_city_reviews[row['City']] if pd.isna(row['Number of Reviews']) else row['Number of Reviews']\n",
    "\n",
    "res = df.head(50).apply(lambda row: get_reviews(row), axis=1)\n",
    "res\n",
    "# mean_city_reviews['London']\n",
    "# df['Number of Reviews'].value_counts()"
   ],
   "metadata": {
    "collapsed": false,
    "pycharm": {
     "name": "#%%\n"
    }
   }
  },
  {
   "cell_type": "code",
   "execution_count": 203,
   "metadata": {
    "pycharm": {
     "name": "#%%\n"
    }
   },
   "outputs": [
    {
     "data": {
      "text/plain": "1228"
     },
     "execution_count": 203,
     "metadata": {},
     "output_type": "execute_result"
    }
   ],
   "source": [
    "\n"
   ]
  }
 ],
 "metadata": {
  "kernelspec": {
   "display_name": "Python 3",
   "language": "python",
   "name": "python3"
  },
  "language_info": {
   "codemirror_mode": {
    "name": "ipython",
    "version": 2
   },
   "file_extension": ".py",
   "mimetype": "text/x-python",
   "name": "python",
   "nbconvert_exporter": "python",
   "pygments_lexer": "ipython2",
   "version": "3.8.3-final"
  }
 },
 "nbformat": 4,
 "nbformat_minor": 0
}