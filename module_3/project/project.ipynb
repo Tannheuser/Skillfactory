{
 "cells": [
  {
   "cell_type": "code",
   "execution_count": 62,
   "metadata": {
    "collapsed": true
   },
   "outputs": [],
   "source": [
    "import pandas as pd\n",
    "import numpy as np\n",
    "from sklearn.model_selection import train_test_split\n",
    "\n",
    "from sklearn.ensemble import RandomForestRegressor # инструмент для создания и обучения модели\n",
    "from sklearn import metrics\n",
    "\n",
    "df = pd.read_csv('main_task.csv')"
   ]
  },
  {
   "cell_type": "code",
   "execution_count": 63,
   "metadata": {},
   "outputs": [
    {
     "output_type": "stream",
     "name": "stdout",
     "text": [
      "<class 'pandas.core.frame.DataFrame'>\nRangeIndex: 40000 entries, 0 to 39999\nData columns (total 10 columns):\n #   Column             Non-Null Count  Dtype  \n---  ------             --------------  -----  \n 0   Restaurant_id      40000 non-null  object \n 1   City               40000 non-null  object \n 2   Cuisine Style      30717 non-null  object \n 3   Ranking            40000 non-null  float64\n 4   Rating             40000 non-null  float64\n 5   Price Range        26114 non-null  object \n 6   Number of Reviews  37457 non-null  float64\n 7   Reviews            40000 non-null  object \n 8   URL_TA             40000 non-null  object \n 9   ID_TA              40000 non-null  object \ndtypes: float64(3), object(7)\nmemory usage: 3.1+ MB\n"
     ]
    }
   ],
   "source": [
    "df.info()"
   ]
  },
  {
   "cell_type": "code",
   "execution_count": 54,
   "metadata": {},
   "outputs": [],
   "source": [
    "# df['Cuisine Style'] = df['Cuisine Style'].fillna(\"['Dummy']\")\n",
    "# df['Cuisine Style'].value_counts()"
   ]
  },
  {
   "cell_type": "code",
   "execution_count": 66,
   "metadata": {},
   "outputs": [
    {
     "output_type": "execute_result",
     "data": {
      "text/plain": [
       "[[], []]                                                                                   6471\n",
       "[['Simply Excellent!', 'Modern!'], ['10/22/2017', '08/29/2017']]                              2\n",
       "[['Very good all around', 'Our first Madrid restaurant'], ['11/20/2017', '10/11/2017']]       2\n",
       "[['Nice restaurant in Madrid', 'Highly reccomended'], ['11/10/2017', '05/21/2017']]           2\n",
       "[['Happened to drop in', 'Right for a quick bite'], ['11/30/2016', '06/20/2015']]             2\n",
       "                                                                                           ... \n",
       "[['Indian food in Sweden', 'Classic Indian tastes'], ['10/03/2017', '02/21/2017']]            1\n",
       "[['Very Nice Restaurant'], ['11/22/2014']]                                                    1\n",
       "[['Dinner', 'As expected'], ['11/21/2017', '07/21/2017']]                                     1\n",
       "[['Tokyo LARGE Fusions!', 'Wow'], ['09/10/2017', '02/06/2017']]                               1\n",
       "[['Amazing Place', 'Four course feast!'], ['01/09/2018', '12/14/2017']]                       1\n",
       "Name: Reviews, Length: 33516, dtype: int64"
      ]
     },
     "metadata": {},
     "execution_count": 66
    }
   ],
   "source": [
    "df['Reviews'].value_counts()"
   ]
  },
  {
   "source": [
    "##### Удаляем столбцы Object"
   ],
   "cell_type": "markdown",
   "metadata": {}
  },
  {
   "cell_type": "code",
   "execution_count": 29,
   "outputs": [],
   "source": [
    "\n",
    "object_columns = []\n",
    "\n",
    "for c in df.columns:\n",
    "    if(df[c].dtype == 'object' and c != 'Restaurant_id'):\n",
    "        object_columns.append(c)\n",
    "\n",
    "df.drop(object_columns, axis=1, inplace=True)\n"
   ],
   "metadata": {
    "collapsed": false,
    "pycharm": {
     "name": "#%%\n"
    }
   }
  },
  {
   "source": [
    "#### Заполняем пропуски"
   ],
   "cell_type": "markdown",
   "metadata": {}
  },
  {
   "cell_type": "code",
   "execution_count": 30,
   "metadata": {},
   "outputs": [],
   "source": [
    "df['Number of Reviews'] = df['Number of Reviews'].fillna(df['Number of Reviews'].mean())"
   ]
  },
  {
   "cell_type": "code",
   "execution_count": 26,
   "metadata": {},
   "outputs": [
    {
     "output_type": "stream",
     "name": "stdout",
     "text": [
      "<class 'pandas.core.frame.DataFrame'>\nRangeIndex: 40000 entries, 0 to 39999\nData columns (total 3 columns):\n #   Column             Non-Null Count  Dtype  \n---  ------             --------------  -----  \n 0   Ranking            40000 non-null  float64\n 1   Rating             40000 non-null  float64\n 2   Number of Reviews  40000 non-null  float64\ndtypes: float64(3)\nmemory usage: 937.6 KB\n"
     ]
    }
   ],
   "source": [
    "df.info()"
   ]
  },
  {
   "cell_type": "markdown",
   "source": [
    "## 0. Анализ источника данных"
   ],
   "metadata": {
    "collapsed": false
   }
  },
  {
   "cell_type": "code",
   "execution_count": 31,
   "outputs": [],
   "source": [
    "X = df.drop(['Restaurant_id', 'Rating'], axis = 1)\n",
    "y = df['Rating']\n",
    "\n",
    "X_train, X_test, y_train, y_test = train_test_split(X, y, test_size=0.25)\n",
    "\n"
   ],
   "metadata": {
    "collapsed": false,
    "pycharm": {
     "name": "#%%\n"
    }
   }
  },
  {
   "cell_type": "code",
   "execution_count": 32,
   "outputs": [],
   "source": [
    "regr = RandomForestRegressor(n_estimators=100)\n",
    "\n",
    "# Обучаем модель на тестовом наборе данных\n",
    "regr.fit(X_train, y_train)\n",
    "\n",
    "# Используем обученную модель для предсказания рейтинга ресторанов в тестовой выборке.\n",
    "# Предсказанные значения записываем в переменную y_pred\n",
    "y_pred = regr.predict(X_test)"
   ],
   "metadata": {
    "collapsed": false,
    "pycharm": {
     "name": "#%%\n"
    }
   }
  },
  {
   "cell_type": "code",
   "execution_count": 33,
   "outputs": [
    {
     "output_type": "stream",
     "name": "stdout",
     "text": [
      "MAE: 0.4285477858044733\n"
     ]
    }
   ],
   "source": [
    "# Сравниваем предсказанные значения (y_pred) с реальными (y_test), и смотрим насколько они в среднем отличаются\n",
    "# Метрика называется Mean Absolute Error (MAE) и показывает среднее отклонение предсказанных значений от фактических.\n",
    "print('MAE:', metrics.mean_absolute_error(y_test, y_pred))\n"
   ],
   "metadata": {
    "collapsed": false,
    "pycharm": {
     "name": "#%%\n"
    }
   }
  }
 ],
 "metadata": {
  "kernelspec": {
   "display_name": "Python 3",
   "language": "python",
   "name": "python3"
  },
  "language_info": {
   "codemirror_mode": {
    "name": "ipython",
    "version": 2
   },
   "file_extension": ".py",
   "mimetype": "text/x-python",
   "name": "python",
   "nbconvert_exporter": "python",
   "pygments_lexer": "ipython2",
   "version": "3.8.3-final"
  }
 },
 "nbformat": 4,
 "nbformat_minor": 0
}