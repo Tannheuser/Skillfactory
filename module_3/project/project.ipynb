{
 "cells": [
  {
   "cell_type": "code",
   "execution_count": 277,
   "metadata": {
    "collapsed": true
   },
   "outputs": [
    {
     "name": "stdout",
     "output_type": "stream",
     "text": [
      "<class 'pandas.core.frame.DataFrame'>\n",
      "RangeIndex: 40000 entries, 0 to 39999\n",
      "Data columns (total 10 columns):\n",
      " #   Column             Non-Null Count  Dtype  \n",
      "---  ------             --------------  -----  \n",
      " 0   Restaurant_id      40000 non-null  object \n",
      " 1   City               40000 non-null  object \n",
      " 2   Cuisine Style      30717 non-null  object \n",
      " 3   Ranking            40000 non-null  float64\n",
      " 4   Rating             40000 non-null  float64\n",
      " 5   Price Range        26114 non-null  object \n",
      " 6   Number of Reviews  37457 non-null  float64\n",
      " 7   Reviews            40000 non-null  object \n",
      " 8   URL_TA             40000 non-null  object \n",
      " 9   ID_TA              40000 non-null  object \n",
      "dtypes: float64(3), object(7)\n",
      "memory usage: 3.1+ MB\n"
     ]
    }
   ],
   "source": [
    "import pandas as pd\n",
    "import ast\n",
    "\n",
    "df = pd.read_csv('main_task.csv')\n",
    "\n",
    "df.info()\n",
    "\n",
    "\n",
    "\n",
    "\n"
   ]
  },
  {
   "cell_type": "code",
   "execution_count": 276,
   "outputs": [
    {
     "data": {
      "text/plain": "id_871      18\nid_436      18\nid_227      18\nid_633      18\nid_430      17\n            ..\nid_5391      2\nid_5299      2\nid_7090      2\nid_8688      2\nid_12690     2\nName: Restaurant_id, Length: 7204, dtype: int64"
     },
     "execution_count": 276,
     "metadata": {},
     "output_type": "execute_result"
    }
   ],
   "source": [
    "# def rev_to_words(review):\n",
    "#     if review == '[[], []]':\n",
    "#         return ['-']\n",
    "#     else:\n",
    "#         for i in ['[[', ']]']:\n",
    "#             review = review.replace(i, '')\n",
    "#         review = review.split('], [')\n",
    "#         review = review[0]\n",
    "#         for i in ['\\'', ',']:\n",
    "#             review = review.replace(i, '')\n",
    "#         return re.sub(r\"[^a-zA-Z]+ \", \"\", review).lower().split(' ')"
   ],
   "metadata": {
    "collapsed": false,
    "pycharm": {
     "name": "#%%\n"
    }
   }
  },
  {
   "cell_type": "code",
   "execution_count": null,
   "outputs": [],
   "source": [],
   "metadata": {
    "collapsed": false,
    "pycharm": {
     "name": "#%%\n"
    }
   }
  },
  {
   "cell_type": "markdown",
   "source": [
    "#### Создаем dummy-признаки по ключевым словам в отзывах"
   ],
   "metadata": {
    "collapsed": false
   }
  },
  {
   "cell_type": "code",
   "execution_count": null,
   "outputs": [],
   "source": [
    "good_words = ['good', 'delicious', 'best', 'gem', 'quick', 'top', 'great',\n",
    "              'nice', 'lovely', 'cozy', 'cute', 'amazing', 'loved', 'friendly',\n",
    "              'tasty', 'like', 'pleasant', 'fantastic', 'recommended', 'perfect',\n",
    "              'outstanding', 'excellent', 'favourite', 'awesome', 'well',\n",
    "              'wonderful', 'beautiful', 'enjoyable', 'super', 'reasonable',\n",
    "              'affordable', 'welcoming', 'fine', 'fast', 'fabulous', 'favorite',\n",
    "              'love', 'brilliant', 'pretty', 'interesting', 'charming', 'happy']\n",
    "\n",
    "bad_words = ['pricey', 'slow', 'disappointing', 'expensive', 'worst', 'awful',\n",
    "             'bad', 'terrible', 'rude', 'overpriced', 'avoid', 'horrible']\n"
   ],
   "metadata": {
    "collapsed": false,
    "pycharm": {
     "name": "#%%\n"
    }
   }
  }
 ],
 "metadata": {
  "kernelspec": {
   "display_name": "Python 3",
   "language": "python",
   "name": "python3"
  },
  "language_info": {
   "codemirror_mode": {
    "name": "ipython",
    "version": 2
   },
   "file_extension": ".py",
   "mimetype": "text/x-python",
   "name": "python",
   "nbconvert_exporter": "python",
   "pygments_lexer": "ipython2",
   "version": "3.8.3-final"
  }
 },
 "nbformat": 4,
 "nbformat_minor": 0
}