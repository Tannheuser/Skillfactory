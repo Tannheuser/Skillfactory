{
 "cells": [
  {
   "cell_type": "markdown",
   "metadata": {},
   "source": [
    "# Загрузка данных и библиотек"
   ]
  },
  {
   "cell_type": "code",
   "execution_count": 3824,
   "metadata": {},
   "outputs": [],
   "source": [
    "import pandas as pd\n",
    "import numpy as np\n",
    "import matplotlib.pyplot as plt\n",
    "import seaborn as sns\n",
    "import ast\n",
    "import re\n",
    "\n",
    "from sklearn.model_selection import train_test_split\n",
    "from sklearn.ensemble import RandomForestRegressor # инструмент для создания и обучения модели\n",
    "from sklearn import metrics\n",
    "\n",
    "%matplotlib inline"
   ]
  },
  {
   "cell_type": "code",
   "execution_count": 3825,
   "metadata": {},
   "outputs": [],
   "source": [
    "df = pd.read_csv('main_task.csv')"
   ]
  },
  {
   "cell_type": "markdown",
   "source": [
    "# Анализ источника данных"
   ],
   "metadata": {
    "collapsed": false
   }
  },
  {
   "cell_type": "code",
   "execution_count": 3826,
   "metadata": {},
   "outputs": [
    {
     "name": "stdout",
     "output_type": "stream",
     "text": [
      "<class 'pandas.core.frame.DataFrame'>\n",
      "RangeIndex: 40000 entries, 0 to 39999\n",
      "Data columns (total 10 columns):\n",
      " #   Column             Non-Null Count  Dtype  \n",
      "---  ------             --------------  -----  \n",
      " 0   Restaurant_id      40000 non-null  object \n",
      " 1   City               40000 non-null  object \n",
      " 2   Cuisine Style      30717 non-null  object \n",
      " 3   Ranking            40000 non-null  float64\n",
      " 4   Rating             40000 non-null  float64\n",
      " 5   Price Range        26114 non-null  object \n",
      " 6   Number of Reviews  37457 non-null  float64\n",
      " 7   Reviews            40000 non-null  object \n",
      " 8   URL_TA             40000 non-null  object \n",
      " 9   ID_TA              40000 non-null  object \n",
      "dtypes: float64(3), object(7)\n",
      "memory usage: 3.1+ MB\n"
     ]
    }
   ],
   "source": [
    "df.info()"
   ]
  },
  {
   "cell_type": "markdown",
   "source": [
    "# Предобработка"
   ],
   "metadata": {
    "collapsed": false,
    "pycharm": {
     "name": "#%% md\n"
    }
   }
  },
  {
   "cell_type": "markdown",
   "source": [
    "#### Вспомогательные функции и переменные"
   ],
   "metadata": {
    "collapsed": false
   }
  },
  {
   "cell_type": "code",
   "execution_count": 3827,
   "outputs": [],
   "source": [
    "RANDOM_STATE = 42\n",
    "\n",
    "date_pattern = re.compile('\\d+/\\d+/\\d+')\n",
    "today = pd.to_datetime('today').date()\n",
    "min_date = pd.to_datetime('1900-01-01').date()\n",
    "\n",
    "def describe_numerical(col, bins=100):\n",
    "    \"\"\" Построение гистограммы и вывод основных статистических данных цифровых признаков\"\"\"\n",
    "\n",
    "    df[col].hist(bins=bins)\n",
    "    df[col].describe()\n",
    "\n",
    "\n",
    "def describe_categorical(col):\n",
    "    \"\"\" Вывод основных статистических данных категориальных признаков\"\"\"\n",
    "\n",
    "    display(df[col].value_counts())\n",
    "    display(df[col].describe())\n",
    "\n",
    "\n",
    "def days_since_last_review(reviews):\n",
    "    \"\"\"Считает количество дней, прошедших со времени последнего отзыва\"\"\"\n",
    "\n",
    "    review_dates = date_pattern.findall(reviews)\n",
    "    last_review_date = min_date\n",
    "\n",
    "    for review_date in review_dates:\n",
    "        date = pd.to_datetime(review_date).date()\n",
    "\n",
    "        if date > last_review_date:\n",
    "            last_review_date = date\n",
    "\n",
    "    return (today - last_review_date).days\n",
    "\n",
    "\n",
    "def days_between_reviews(reviews):\n",
    "    \"\"\"Считает количество дней, прошедших между отзывами\"\"\"\n",
    "\n",
    "    review_dates = date_pattern.findall(reviews)\n",
    "\n",
    "    if len(review_dates) == 2:\n",
    "        date1 = pd.to_datetime(review_dates[0]).date()\n",
    "        date2 = pd.to_datetime(review_dates[1]).date()\n",
    "\n",
    "        return abs((date1 - date2).days)\n",
    "\n",
    "    return 0\n",
    "\n",
    "\n",
    "def fill_cuisines(cuisines):\n",
    "    \"\"\"Преобразует строку, содержащую список в объект списка\"\"\"\n",
    "\n",
    "    return ['Unknown'] if pd.isna(cuisines) else ast.literal_eval(cuisines)\n",
    "\n",
    "\n",
    "def convert_price(price):\n",
    "    \"\"\"Преобразует строковое значение цены в числовое\"\"\"\n",
    "\n",
    "    if price == '$':\n",
    "        return 1\n",
    "    elif price == '$$ - $$$':\n",
    "        return 2\n",
    "    elif price == '$$$$':\n",
    "        return 3"
   ],
   "metadata": {
    "collapsed": false,
    "pycharm": {
     "name": "#%%\n"
    }
   }
  },
  {
   "cell_type": "markdown",
   "source": [
    "# Анализ данных и создание признаков"
   ],
   "metadata": {
    "collapsed": false,
    "pycharm": {
     "name": "#%% md\n"
    }
   }
  },
  {
   "cell_type": "markdown",
   "source": [
    "## Аттрибут Restaurant_id"
   ],
   "metadata": {
    "collapsed": false,
    "pycharm": {
     "name": "#%% md\n"
    }
   }
  },
  {
   "cell_type": "markdown",
   "source": [
    "#### Анализ данных"
   ],
   "metadata": {
    "collapsed": false,
    "pycharm": {
     "name": "#%% md\n"
    }
   }
  },
  {
   "cell_type": "code",
   "execution_count": 3828,
   "outputs": [
    {
     "data": {
      "text/plain": "id_436      18\nid_227      18\nid_871      18\nid_633      18\nid_534      17\n            ..\nid_8021      1\nid_8834      1\nid_15338     1\nid_9626      1\nid_11315     1\nName: Restaurant_id, Length: 11909, dtype: int64"
     },
     "metadata": {},
     "output_type": "display_data"
    },
    {
     "data": {
      "text/plain": "count      40000\nunique     11909\ntop       id_436\nfreq          18\nName: Restaurant_id, dtype: object"
     },
     "metadata": {},
     "output_type": "display_data"
    }
   ],
   "source": [
    "describe_categorical('Restaurant_id')"
   ],
   "metadata": {
    "collapsed": false,
    "pycharm": {
     "name": "#%%\n"
    }
   }
  },
  {
   "cell_type": "markdown",
   "source": [
    "#### Создание новых признаков"
   ],
   "metadata": {
    "collapsed": false,
    "pycharm": {
     "name": "#%% md\n"
    }
   }
  },
  {
   "cell_type": "code",
   "execution_count": 3829,
   "outputs": [],
   "source": [
    "# На основе данных анализа данных о Restaurant_id можем сделать вывод о наличии сетевых ресторанов\n",
    "# и создать новый признак - является ли ресторан сетевым.\n",
    "\n",
    "chain_restaurant = df['Restaurant_id'].value_counts().loc[lambda count: count > 1].index\n",
    "\n",
    "df['Chain Restaurant'] = df['Restaurant_id'].apply(lambda r_id: 1 if r_id in chain_restaurant else 0)\n"
   ],
   "metadata": {
    "collapsed": false,
    "pycharm": {
     "name": "#%%\n"
    }
   }
  },
  {
   "cell_type": "markdown",
   "source": [
    "## Аттрибут City"
   ],
   "metadata": {
    "collapsed": false
   }
  },
  {
   "cell_type": "markdown",
   "source": [
    "#### Анализ данных"
   ],
   "metadata": {
    "collapsed": false
   }
  },
  {
   "cell_type": "code",
   "execution_count": 3830,
   "outputs": [
    {
     "data": {
      "text/plain": "London        5757\nParis         4897\nMadrid        3108\nBarcelona     2734\nBerlin        2155\nMilan         2133\nRome          2078\nPrague        1443\nLisbon        1300\nVienna        1166\nAmsterdam     1086\nBrussels      1060\nHamburg        949\nMunich         893\nLyon           892\nStockholm      820\nBudapest       816\nWarsaw         727\nDublin         673\nCopenhagen     659\nAthens         628\nEdinburgh      596\nZurich         538\nOporto         513\nGeneva         481\nKrakow         443\nOslo           385\nHelsinki       376\nBratislava     301\nLuxembourg     210\nLjubljana      183\nName: City, dtype: int64"
     },
     "metadata": {},
     "output_type": "display_data"
    },
    {
     "data": {
      "text/plain": "count      40000\nunique        31\ntop       London\nfreq        5757\nName: City, dtype: object"
     },
     "metadata": {},
     "output_type": "display_data"
    }
   ],
   "source": [
    "describe_categorical('City')"
   ],
   "metadata": {
    "collapsed": false,
    "pycharm": {
     "name": "#%%\n"
    }
   }
  },
  {
   "cell_type": "markdown",
   "source": [
    "#### Создание новых признаков"
   ],
   "metadata": {
    "collapsed": false
   }
  },
  {
   "cell_type": "markdown",
   "source": [
    "###### Является ли город столицей"
   ],
   "metadata": {
    "collapsed": false,
    "pycharm": {
     "name": "#%% md\n"
    }
   }
  },
  {
   "cell_type": "code",
   "execution_count": 3831,
   "outputs": [],
   "source": [
    "capitals = ['Paris','Stockholm','London','Berlin','Bratislava', 'Vienna','Rome',\n",
    "            'Barcelona','Madrid','Dublin', 'Brussels','Warsaw','Budapest',\n",
    "            'Copenhagen','Amsterdam','Hamburg','Lisbon','Prague','Oslo','Helsinki',\n",
    "            'Ljubljana','Athens','Luxembourg']\n",
    "\n",
    "df['Capital City'] = df['City'].apply(lambda city: 1 if city in capitals else 0)"
   ],
   "metadata": {
    "collapsed": false,
    "pycharm": {
     "name": "#%%\n"
    }
   }
  },
  {
   "cell_type": "markdown",
   "source": [
    "###### Dummy-variables для городов"
   ],
   "metadata": {
    "collapsed": false,
    "pycharm": {
     "name": "#%% md\n"
    }
   }
  },
  {
   "cell_type": "code",
   "execution_count": 3832,
   "outputs": [],
   "source": [
    "city_ranges = pd.get_dummies(df['City'])\n",
    "\n",
    "for c in city_ranges.columns:\n",
    "    df[c] = city_ranges[c].values"
   ],
   "metadata": {
    "collapsed": false,
    "pycharm": {
     "name": "#%%\n"
    }
   }
  },
  {
   "cell_type": "markdown",
   "source": [
    "## Аттрибут Cuisine Style"
   ],
   "metadata": {
    "collapsed": false
   }
  },
  {
   "cell_type": "markdown",
   "source": [
    "#### Анализ данных"
   ],
   "metadata": {
    "collapsed": false
   }
  },
  {
   "cell_type": "code",
   "execution_count": 3833,
   "outputs": [
    {
     "data": {
      "text/plain": "['Italian']                                                                                          1032\n['French']                                                                                            805\n['Spanish']                                                                                           695\n['French', 'European']                                                                                405\n['Cafe']                                                                                              403\n                                                                                                     ... \n['Spanish', 'Seafood', 'Mediterranean', 'European', 'Vegetarian Friendly']                              1\n['Asian', 'Thai', 'Pub']                                                                                1\n['Lebanese', 'Fast Food', 'Mediterranean', 'Grill', 'Diner']                                            1\n['Chinese', 'Asian', 'Delicatessen']                                                                    1\n['Brew Pub', 'Grill', 'Mediterranean', 'European', 'Pub', 'Vegetarian Friendly', 'Vegan Options']       1\nName: Cuisine Style, Length: 9007, dtype: int64"
     },
     "metadata": {},
     "output_type": "display_data"
    },
    {
     "data": {
      "text/plain": "count           30717\nunique           9007\ntop       ['Italian']\nfreq             1032\nName: Cuisine Style, dtype: object"
     },
     "metadata": {},
     "output_type": "display_data"
    }
   ],
   "source": [
    "describe_categorical('Cuisine Style')"
   ],
   "metadata": {
    "collapsed": false,
    "pycharm": {
     "name": "#%%\n"
    }
   }
  },
  {
   "cell_type": "markdown",
   "source": [
    "#### Очистка и преобразование данных, заполнение пропусков"
   ],
   "metadata": {
    "collapsed": false,
    "pycharm": {
     "name": "#%% md\n"
    }
   }
  },
  {
   "cell_type": "code",
   "execution_count": 3834,
   "outputs": [],
   "source": [
    "df['Cuisine Style'] = df['Cuisine Style'].apply(fill_cuisines)\n"
   ],
   "metadata": {
    "collapsed": false,
    "pycharm": {
     "name": "#%%\n"
    }
   }
  },
  {
   "cell_type": "markdown",
   "source": [
    "#### Создание новых признаков"
   ],
   "metadata": {
    "collapsed": false
   }
  },
  {
   "cell_type": "code",
   "execution_count": 3835,
   "outputs": [],
   "source": [
    "df['Number of Cuisines'] = df['Cuisine Style'].apply(len)"
   ],
   "metadata": {
    "collapsed": false,
    "pycharm": {
     "name": "#%%\n"
    }
   }
  },
  {
   "cell_type": "code",
   "execution_count": 3835,
   "outputs": [],
   "source": [],
   "metadata": {
    "collapsed": false,
    "pycharm": {
     "name": "#%%\n"
    }
   }
  },
  {
   "cell_type": "markdown",
   "source": [
    "## Аттрибут Ranking"
   ],
   "metadata": {
    "collapsed": false
   }
  },
  {
   "cell_type": "markdown",
   "source": [
    "#### Анализ данных"
   ],
   "metadata": {
    "collapsed": false
   }
  },
  {
   "cell_type": "code",
   "execution_count": 3836,
   "outputs": [
    {
     "data": {
      "text/plain": "<Figure size 432x288 with 1 Axes>",
      "image/png": "[encoded data removed]"
     },
     "metadata": {
      "needs_background": "light"
     },
     "output_type": "display_data"
    }
   ],
   "source": [
    "describe_numerical('Ranking')\n"
   ],
   "metadata": {
    "collapsed": false,
    "pycharm": {
     "name": "#%%\n"
    }
   }
  },
  {
   "cell_type": "code",
   "execution_count": 3837,
   "outputs": [
    {
     "data": {
      "text/plain": "<AxesSubplot:>"
     },
     "execution_count": 3837,
     "metadata": {},
     "output_type": "execute_result"
    },
    {
     "data": {
      "text/plain": "<Figure size 432x288 with 1 Axes>",
      "image/png": "[encoded data removed]"
     },
     "metadata": {
      "needs_background": "light"
     },
     "output_type": "display_data"
    }
   ],
   "source": [
    "# опытным путем выясняем, что взятие квадратного корня приводит данные к более нормальному виду, чем логарифм\n",
    "\n",
    "np.sqrt(df['Ranking']).hist(bins=100)"
   ],
   "metadata": {
    "collapsed": false,
    "pycharm": {
     "name": "#%%\n"
    }
   }
  },
  {
   "cell_type": "markdown",
   "source": [
    "#### Очистка и преобразование данных, заполнение пропусков\n"
   ],
   "metadata": {
    "collapsed": false
   }
  },
  {
   "cell_type": "code",
   "execution_count": 3838,
   "outputs": [],
   "source": [
    "# будем использовать в модели нормализованные данные\n",
    "\n",
    "df['Ranking'] = df['Ranking'].apply(np.sqrt)\n"
   ],
   "metadata": {
    "collapsed": false,
    "pycharm": {
     "name": "#%%\n"
    }
   }
  },
  {
   "cell_type": "markdown",
   "source": [
    "## Аттрибут Rating"
   ],
   "metadata": {
    "collapsed": false
   }
  },
  {
   "cell_type": "markdown",
   "source": [
    "#### Анализ данных"
   ],
   "metadata": {
    "collapsed": false
   }
  },
  {
   "cell_type": "code",
   "execution_count": 3839,
   "outputs": [
    {
     "data": {
      "text/plain": "<Figure size 432x288 with 1 Axes>",
      "image/png": "[encoded data removed]"
     },
     "metadata": {
      "needs_background": "light"
     },
     "output_type": "display_data"
    }
   ],
   "source": [
    "describe_numerical('Rating', 10)\n"
   ],
   "metadata": {
    "collapsed": false,
    "pycharm": {
     "name": "#%%\n"
    }
   }
  },
  {
   "cell_type": "code",
   "execution_count": 3839,
   "outputs": [],
   "source": [],
   "metadata": {
    "collapsed": false,
    "pycharm": {
     "name": "#%%\n"
    }
   }
  },
  {
   "cell_type": "markdown",
   "source": [
    "## Аттрибут Price Range"
   ],
   "metadata": {
    "collapsed": false
   }
  },
  {
   "cell_type": "markdown",
   "source": [
    "#### Анализ данных"
   ],
   "metadata": {
    "collapsed": false
   }
  },
  {
   "cell_type": "code",
   "execution_count": 3840,
   "outputs": [
    {
     "data": {
      "text/plain": "$$ - $$$    18412\n$            6279\n$$$$         1423\nName: Price Range, dtype: int64"
     },
     "metadata": {},
     "output_type": "display_data"
    },
    {
     "data": {
      "text/plain": "count        26114\nunique           3\ntop       $$ - $$$\nfreq         18412\nName: Price Range, dtype: object"
     },
     "metadata": {},
     "output_type": "display_data"
    }
   ],
   "source": [
    "describe_categorical('Price Range')"
   ],
   "metadata": {
    "collapsed": false,
    "pycharm": {
     "name": "#%%\n"
    }
   }
  },
  {
   "cell_type": "markdown",
   "source": [
    "#### Очистка и преобразование данных, заполнение пропусков"
   ],
   "metadata": {
    "collapsed": false
   }
  },
  {
   "cell_type": "code",
   "execution_count": 3841,
   "outputs": [],
   "source": [
    "# Заполним пропуски самым популярным значением\n",
    "\n",
    "df['Price Range'] = df['Price Range'].fillna(df['Price Range'].value_counts().index[0])\n",
    "\n",
    "# Попробуем преобразовать строковые значения.\n",
    "# Это можно сделать двумя способами:\n",
    "\n",
    "# Способ 1. Присвоение числового рангового значения, например $ - 1, $$-$$$ - 2, $$$$ - 3\n",
    "\n",
    "# df['Price Range'] = df['Price Range'].apply(convert_price)"
   ],
   "metadata": {
    "collapsed": false,
    "pycharm": {
     "name": "#%%\n"
    }
   }
  },
  {
   "cell_type": "markdown",
   "source": [
    "#### Создание новых признаков\n",
    "###### Другой способ преобразования строковых значений цены"
   ],
   "metadata": {
    "collapsed": false
   }
  },
  {
   "cell_type": "code",
   "execution_count": 3842,
   "outputs": [],
   "source": [
    "price_ranges = pd.get_dummies(df['Price Range'])\n",
    "price_ranges.columns = ['Inexpensive', 'Middle Price', 'Expensive']\n",
    "\n",
    "for c in price_ranges.columns:\n",
    "    df[c] = price_ranges[c].values"
   ],
   "metadata": {
    "collapsed": false,
    "pycharm": {
     "name": "#%%\n"
    }
   }
  },
  {
   "cell_type": "markdown",
   "source": [
    "## Аттрибут Number of Reviews"
   ],
   "metadata": {
    "collapsed": false,
    "pycharm": {
     "name": "#%% md\n"
    }
   }
  },
  {
   "cell_type": "markdown",
   "source": [
    "#### Анализ данных"
   ],
   "metadata": {
    "collapsed": false
   }
  },
  {
   "cell_type": "code",
   "execution_count": 3843,
   "outputs": [
    {
     "data": {
      "text/plain": "<Figure size 432x288 with 1 Axes>",
      "image/png": "[encoded data removed]"
     },
     "metadata": {
      "needs_background": "light"
     },
     "output_type": "display_data"
    }
   ],
   "source": [
    "describe_numerical('Number of Reviews', bins=10)\n"
   ],
   "metadata": {
    "collapsed": false,
    "pycharm": {
     "name": "#%%\n"
    }
   }
  },
  {
   "cell_type": "markdown",
   "source": [
    "#### Очистка и преобразование данных, заполнение пропусков"
   ],
   "metadata": {
    "collapsed": false,
    "pycharm": {
     "name": "#%% md\n"
    }
   }
  },
  {
   "cell_type": "code",
   "execution_count": 3844,
   "outputs": [
    {
     "data": {
      "text/plain": "<AxesSubplot:>"
     },
     "execution_count": 3844,
     "metadata": {},
     "output_type": "execute_result"
    },
    {
     "data": {
      "text/plain": "<Figure size 432x288 with 1 Axes>",
      "image/png": "[encoded data removed]"
     },
     "metadata": {
      "needs_background": "light"
     },
     "output_type": "display_data"
    }
   ],
   "source": [
    "# Заполним пропуски средним значением\n",
    "\n",
    "df['Number of Reviews'] = df['Number of Reviews'].fillna(df['Number of Reviews'].mean())\n",
    "\n",
    "# опытным путем выясняем, что взятие логарифма приводит данные к более нормальному виду\n",
    "\n",
    "np.log(df['Number of Reviews']).hist(bins=10)"
   ],
   "metadata": {
    "collapsed": false,
    "pycharm": {
     "name": "#%%\n"
    }
   }
  },
  {
   "cell_type": "code",
   "execution_count": 3845,
   "outputs": [],
   "source": [
    "# будем использовать в модели нормализованные данные\n",
    "df['Number of Reviews'] = df['Number of Reviews'].apply(np.log)"
   ],
   "metadata": {
    "collapsed": false,
    "pycharm": {
     "name": "#%%\n"
    }
   }
  },
  {
   "cell_type": "markdown",
   "source": [
    "## Аттрибут Reviews"
   ],
   "metadata": {
    "collapsed": false
   }
  },
  {
   "cell_type": "markdown",
   "source": [
    "#### Анализ данных"
   ],
   "metadata": {
    "collapsed": false
   }
  },
  {
   "cell_type": "code",
   "execution_count": 3846,
   "outputs": [
    {
     "data": {
      "text/plain": "[[], []]                                                                                                                              6471\n[['The real codido madrileño'], ['03/31/2017']]                                                                                          2\n[['Healthy vegan doughnuts are posible', 'Best Vegan Donut in the world !!!'], ['11/17/2017', '11/16/2017']]                             2\n[['Thursday snack', 'Good value for money & good food!'], ['03/13/2017', '06/20/2016']]                                                  2\n[['Whenever in Madrid, we never miss this gem...', 'Underrated sushi restaurant with very good...'], ['04/11/2017', '12/02/2016']]       2\n                                                                                                                                      ... \n[['Delicious cheesecake', \"This year's most misleading description\"], ['02/11/2016', '01/23/2016']]                                      1\n[['Tasty fresh made ice cream', 'My favourite ice cream bar'], ['03/07/2017', '10/12/2016']]                                             1\n[['Eh oui, we will return', 'Excellent place for lunch (and cakes)'], ['01/16/2017', '04/27/2015']]                                      1\n[['Great sushi for a great price', 'Great price quality menu especially for ma...'], ['09/21/2016', '05/17/2016']]                       1\n[['We enjoyed it!', 'Great Hidden Lunch Spot!'], ['06/02/2017', '04/16/2017']]                                                           1\nName: Reviews, Length: 33516, dtype: int64"
     },
     "metadata": {},
     "output_type": "display_data"
    },
    {
     "data": {
      "text/plain": "count        40000\nunique       33516\ntop       [[], []]\nfreq          6471\nName: Reviews, dtype: object"
     },
     "metadata": {},
     "output_type": "display_data"
    }
   ],
   "source": [
    "describe_categorical('Reviews')\n"
   ],
   "metadata": {
    "collapsed": false,
    "pycharm": {
     "name": "#%%\n"
    }
   }
  },
  {
   "cell_type": "markdown",
   "source": [
    "#### Создание новых признаков"
   ],
   "metadata": {
    "collapsed": false
   }
  },
  {
   "cell_type": "markdown",
   "source": [
    "###### Количество дней между отзывами"
   ],
   "metadata": {
    "collapsed": false,
    "pycharm": {
     "name": "#%% md\n"
    }
   }
  },
  {
   "cell_type": "code",
   "execution_count": 3847,
   "outputs": [],
   "source": [
    "# df['Days Between Reviews'] = df['Reviews'].apply(days_between_reviews) # похоже, что признак немного ухудшает точность модели"
   ],
   "metadata": {
    "collapsed": false,
    "pycharm": {
     "name": "#%%\n"
    }
   }
  },
  {
   "cell_type": "markdown",
   "source": [
    "###### Количество дней, прошедших с даты последнего отзыва"
   ],
   "metadata": {
    "collapsed": false,
    "pycharm": {
     "name": "#%% md\n"
    }
   }
  },
  {
   "cell_type": "code",
   "execution_count": 3848,
   "outputs": [],
   "source": [
    "df['Last Review Days'] = df['Reviews'].apply(days_since_last_review)"
   ],
   "metadata": {
    "collapsed": false,
    "pycharm": {
     "name": "#%%\n"
    }
   }
  },
  {
   "cell_type": "markdown",
   "source": [
    "# Корреляция между признаками"
   ],
   "metadata": {
    "collapsed": false,
    "pycharm": {
     "name": "#%% md\n"
    }
   }
  },
  {
   "cell_type": "code",
   "execution_count": 3849,
   "outputs": [
    {
     "data": {
      "text/plain": "<AxesSubplot:>"
     },
     "execution_count": 3849,
     "metadata": {},
     "output_type": "execute_result"
    },
    {
     "data": {
      "text/plain": "<Figure size 1152x720 with 2 Axes>",
      "image/png": "[encoded data removed]"
     },
     "metadata": {
      "needs_background": "light"
     },
     "output_type": "display_data"
    }
   ],
   "source": [
    "plt.rcParams['figure.figsize'] = (16,10)\n",
    "data_corr = df[['Cuisine Style', 'Ranking', 'Price Range', 'Number of Reviews',\n",
    "                  'Reviews', 'Rating', 'Number of Cuisines', 'Capital City', 'Last Review Days']]\n",
    "sns.heatmap(data_corr.corr(), annot=True, cmap='coolwarm')\n",
    "\n",
    "# По графику можно сделать выовод о том, что сильной корреляции между целевой переменной и остальными признаками нет\n",
    "# Однако можно наблюдать небольшую корреляцию между количеством кухонь и количеством отзывов"
   ],
   "metadata": {
    "collapsed": false,
    "pycharm": {
     "name": "#%%\n"
    }
   }
  },
  {
   "cell_type": "markdown",
   "source": [
    "# Удаляем столбцы с dtype Object"
   ],
   "metadata": {
    "collapsed": false
   }
  },
  {
   "cell_type": "code",
   "execution_count": 3850,
   "outputs": [],
   "source": [
    "object_columns = []\n",
    "\n",
    "for c in df.columns:\n",
    "    if(df[c].dtype == 'object' and c != 'Restaurant_id'):\n",
    "        object_columns.append(c)\n",
    "\n",
    "df.drop(object_columns, axis=1, inplace=True)"
   ],
   "metadata": {
    "collapsed": false,
    "pycharm": {
     "name": "#%%\n"
    }
   }
  },
  {
   "cell_type": "markdown",
   "source": [
    "# Разбиваем датафрейм на части, необходимые для обучения и тестирования модели"
   ],
   "metadata": {
    "collapsed": false
   }
  },
  {
   "cell_type": "code",
   "execution_count": 3851,
   "metadata": {},
   "outputs": [],
   "source": [
    "# Х - данные с информацией о ресторанах, у - целевая переменная (рейтинги ресторанов)\n",
    "X = df.drop(['Restaurant_id', 'Rating'], axis = 1)\n",
    "y = df['Rating']"
   ]
  },
  {
   "cell_type": "code",
   "execution_count": 3852,
   "metadata": {},
   "outputs": [],
   "source": [
    "# Наборы данных с меткой \"train\" будут использоваться для обучения модели, \"test\" - для тестирования.\n",
    "# Для тестирования мы будем использовать 25% от исходного датасета.\n",
    "X_train, X_test, y_train, y_test = train_test_split(X, y, test_size=0.25, random_state=RANDOM_STATE)"
   ]
  },
  {
   "cell_type": "markdown",
   "metadata": {},
   "source": [
    "# Создаём, обучаем и тестируем модель"
   ]
  },
  {
   "cell_type": "code",
   "execution_count": 3853,
   "metadata": {},
   "outputs": [],
   "source": [
    "# Создаём модель\n",
    "regr = RandomForestRegressor(n_estimators=100)\n",
    "\n",
    "# Обучаем модель на тестовом наборе данных\n",
    "regr.fit(X_train, y_train)\n",
    "\n",
    "# Используем обученную модель для предсказания рейтинга ресторанов в тестовой выборке.\n",
    "# Предсказанные значения записываем в переменную y_pred\n",
    "y_pred = regr.predict(X_test)"
   ]
  },
  {
   "cell_type": "code",
   "execution_count": 3854,
   "metadata": {},
   "outputs": [
    {
     "name": "stdout",
     "output_type": "stream",
     "text": [
      "MAE: 0.21290899999999996\n"
     ]
    }
   ],
   "source": [
    "# Сравниваем предсказанные значения (y_pred) с реальными (y_test), и смотрим насколько они в среднем отличаются\n",
    "# Метрика называется Mean Absolute Error (MAE) и показывает среднее отклонение предсказанных значений от фактических.\n",
    "print('MAE:', metrics.mean_absolute_error(y_test, y_pred))"
   ]
  }
 ],
 "metadata": {
  "kernelspec": {
   "display_name": "Python 3",
   "language": "python",
   "name": "python3"
  },
  "language_info": {
   "codemirror_mode": {
    "name": "ipython",
    "version": 3
   },
   "file_extension": ".py",
   "mimetype": "text/x-python",
   "name": "python",
   "nbconvert_exporter": "python",
   "pygments_lexer": "ipython3",
   "version": "3.7.1"
  }
 },
 "nbformat": 4,
 "nbformat_minor": 2
}