{
 "cells": [
  {
   "cell_type": "markdown",
   "metadata": {},
   "source": [
    "# Загрузка Pandas и очистка данных"
   ]
  },
  {
   "cell_type": "code",
   "execution_count": 1483,
   "metadata": {},
   "outputs": [],
   "source": [
    "import pandas as pd\n",
    "import ast\n",
    "import re"
   ]
  },
  {
   "cell_type": "code",
   "execution_count": 1484,
   "metadata": {},
   "outputs": [],
   "source": [
    "df = pd.read_csv('main_task.csv')"
   ]
  },
  {
   "cell_type": "markdown",
   "source": [
    "## Анализ источника данных"
   ],
   "metadata": {
    "collapsed": false
   }
  },
  {
   "cell_type": "code",
   "execution_count": 1485,
   "metadata": {},
   "outputs": [
    {
     "name": "stdout",
     "output_type": "stream",
     "text": [
      "<class 'pandas.core.frame.DataFrame'>\n",
      "RangeIndex: 40000 entries, 0 to 39999\n",
      "Data columns (total 10 columns):\n",
      " #   Column             Non-Null Count  Dtype  \n",
      "---  ------             --------------  -----  \n",
      " 0   Restaurant_id      40000 non-null  object \n",
      " 1   City               40000 non-null  object \n",
      " 2   Cuisine Style      30717 non-null  object \n",
      " 3   Ranking            40000 non-null  float64\n",
      " 4   Rating             40000 non-null  float64\n",
      " 5   Price Range        26114 non-null  object \n",
      " 6   Number of Reviews  37457 non-null  float64\n",
      " 7   Reviews            40000 non-null  object \n",
      " 8   URL_TA             40000 non-null  object \n",
      " 9   ID_TA              40000 non-null  object \n",
      "dtypes: float64(3), object(7)\n",
      "memory usage: 3.1+ MB\n"
     ]
    }
   ],
   "source": [
    "df.info()"
   ]
  },
  {
   "cell_type": "markdown",
   "source": [
    "## Предобработка"
   ],
   "metadata": {
    "collapsed": false,
    "pycharm": {
     "name": "#%% md\n"
    }
   }
  },
  {
   "cell_type": "markdown",
   "source": [
    "#### Вспомогательные функции"
   ],
   "metadata": {
    "collapsed": false
   }
  },
  {
   "cell_type": "code",
   "execution_count": 1486,
   "outputs": [],
   "source": [
    "col_city = 'City'\n",
    "col_cuisines = 'Cuisine Style'\n",
    "col_rest_id = 'Restaurant_id'\n",
    "col_price = 'Price Range'\n",
    "col_rating = 'Rating'\n",
    "col_reviews_len = 'Number of Reviews'\n",
    "col_reviews = 'Reviews'\n",
    "col_city_reviews = 'Mean City Reviews'\n",
    "col_review_days = 'Days Between Reviews'\n",
    "col_last_review = 'Last Review Days'\n",
    "col_positive = 'Positive Reviews'\n",
    "\n",
    "date_pattern = re.compile('\\d+/\\d+/\\d+')\n",
    "\n",
    "review_keywords = ['good', 'delicious', 'best', 'gem', 'excellent', 'amazing', 'great', 'awesome', 'terrible', 'bad', 'worst']\n",
    "\n",
    "today = pd.to_datetime('today').date()\n",
    "min_date = pd.to_datetime('1900-01-01').date()\n",
    "\n",
    "cities = df[col_city].value_counts().index.values\n",
    "mean_city_reviews = {}\n",
    "\n",
    "for city in cities:\n",
    "    mean_city_reviews[city] = round(df.query('City == @city')['Number of Reviews'].mean())\n",
    "\n",
    "\n",
    "def days_since_last_review(reviews):\n",
    "    \"\"\"Считает количество дней, прошедших со времени последнего отзыва\"\"\"\n",
    "\n",
    "    review_dates = date_pattern.findall(reviews)\n",
    "    last_review_date = min_date\n",
    "\n",
    "    for review_date in review_dates:\n",
    "        date = pd.to_datetime(review_date).date()\n",
    "\n",
    "        if date > last_review_date:\n",
    "            last_review_date = date\n",
    "\n",
    "    return (today - last_review_date).days\n",
    "\n",
    "\n",
    "def days_between_reviews(reviews):\n",
    "    \"\"\"Считает количество дней между отзывами\"\"\"\n",
    "\n",
    "    review_dates = date_pattern.findall(reviews)\n",
    "\n",
    "    if len(review_dates) == 2:\n",
    "        date1 = pd.to_datetime(review_dates[0]).date()\n",
    "        date2 = pd.to_datetime(review_dates[1]).date()\n",
    "\n",
    "        return abs((date1 - date2).days)\n",
    "\n",
    "    return 0\n",
    "\n",
    "\n",
    "def fill_cuisines(cuisines):\n",
    "    \"\"\"Преобразует строку, содержащую список в объект списка\"\"\"\n",
    "\n",
    "    return ['Unknown'] if pd.isna(cuisines) else ast.literal_eval(cuisines)\n",
    "\n",
    "\n",
    "def parse_review(review, keyword):\n",
    "    \"\"\"Проверяет есть ли в отзыве слова, имеющие положительное значение\"\"\"\n",
    "\n",
    "    # for keyword in positive_words:\n",
    "    return 1 if keyword in review else 0"
   ],
   "metadata": {
    "collapsed": false,
    "pycharm": {
     "name": "#%%\n"
    }
   }
  },
  {
   "cell_type": "markdown",
   "source": [
    "#### Преобразуем формат данных в Series и создаем дополнительные характеристики"
   ],
   "metadata": {
    "collapsed": false,
    "pycharm": {
     "name": "#%% md\n"
    }
   }
  },
  {
   "cell_type": "code",
   "execution_count": 1487,
   "outputs": [],
   "source": [
    "df[col_cuisines] = df.apply(lambda row: fill_cuisines(row[col_cuisines]), axis=1)\n",
    "df[col_review_days] = df.apply(lambda row: days_between_reviews(row[col_reviews]), axis=1)\n",
    "df[col_last_review] = df.apply(lambda row: days_since_last_review(row[col_reviews]), axis=1)\n",
    "df[col_city_reviews] = df.apply(lambda row: mean_city_reviews[row[col_city]], axis=1)\n",
    "\n",
    "# df[col_positive] = df.apply(lambda row: parse_review(row[col_reviews]), axis=1)"
   ],
   "metadata": {
    "collapsed": false,
    "pycharm": {
     "name": "#%%\n"
    }
   }
  },
  {
   "cell_type": "markdown",
   "source": [
    "## Очистка данных"
   ],
   "metadata": {
    "collapsed": false
   }
  },
  {
   "cell_type": "markdown",
   "source": [
    "#### Заполняем пропуски"
   ],
   "metadata": {
    "collapsed": false
   }
  },
  {
   "cell_type": "code",
   "execution_count": 1488,
   "outputs": [],
   "source": [
    "df[col_reviews_len] = df[col_reviews_len].fillna(df[col_reviews_len].mean())\n",
    "df[col_price] = df[col_price].fillna(df[col_price].value_counts().index[0])"
   ],
   "metadata": {
    "collapsed": false,
    "pycharm": {
     "name": "#%%\n"
    }
   }
  },
  {
   "cell_type": "markdown",
   "metadata": {
    "pycharm": {
     "name": "#%% md\n"
    }
   },
   "source": [
    "## Feature Engineering"
   ]
  },
  {
   "cell_type": "markdown",
   "source": [
    "#### Создаем dummy-признаки для ценовой категории"
   ],
   "metadata": {
    "collapsed": false,
    "pycharm": {
     "name": "#%% md\n"
    }
   }
  },
  {
   "cell_type": "code",
   "execution_count": 1489,
   "outputs": [],
   "source": [
    "price_ranges = pd.get_dummies(df[col_price])\n",
    "price_ranges.columns = ['Inexpensive', 'Middle Price', 'Expensive']\n",
    "\n",
    "for c in price_ranges.columns:\n",
    "    df[c] = price_ranges[c].values\n"
   ],
   "metadata": {
    "collapsed": false,
    "pycharm": {
     "name": "#%%\n"
    }
   }
  },
  {
   "cell_type": "markdown",
   "source": [
    "#### Создаем dummy-признак количества кухонь"
   ],
   "metadata": {
    "collapsed": false,
    "pycharm": {
     "name": "#%% md\n"
    }
   }
  },
  {
   "cell_type": "code",
   "execution_count": 1490,
   "outputs": [],
   "source": [
    "df[col_cuisines] = df.apply(lambda row: len(row[col_cuisines]), axis=1)"
   ],
   "metadata": {
    "collapsed": false,
    "pycharm": {
     "name": "#%%\n"
    }
   }
  },
  {
   "cell_type": "markdown",
   "source": [
    "#### Создаем dummy-признаки по городам"
   ],
   "metadata": {
    "collapsed": false,
    "pycharm": {
     "name": "#%% md\n"
    }
   }
  },
  {
   "cell_type": "code",
   "execution_count": 1491,
   "outputs": [],
   "source": [
    "city_ranges = pd.get_dummies(df[col_city])\n",
    "\n",
    "for c in city_ranges.columns:\n",
    "    df[c] = city_ranges[c].values"
   ],
   "metadata": {
    "collapsed": false,
    "pycharm": {
     "name": "#%%\n"
    }
   }
  },
  {
   "cell_type": "markdown",
   "source": [
    "#### Создаем dummy-признаки по ключевым словам в отзывах"
   ],
   "metadata": {
    "collapsed": false
   }
  },
  {
   "cell_type": "code",
   "execution_count": 1492,
   "outputs": [],
   "source": [
    "for keyword in review_keywords:\n",
    "    df[keyword] = df.apply(lambda row: parse_review(row[col_reviews], keyword), axis=1)"
   ],
   "metadata": {
    "collapsed": false,
    "pycharm": {
     "name": "#%%\n"
    }
   }
  },
  {
   "cell_type": "markdown",
   "source": [
    "#### Удаляем столбцы с dtype Object"
   ],
   "metadata": {
    "collapsed": false
   }
  },
  {
   "cell_type": "code",
   "execution_count": 1493,
   "outputs": [],
   "source": [
    "object_columns = []\n",
    "\n",
    "for c in df.columns:\n",
    "    if(df[c].dtype == 'object' and c != col_rest_id):\n",
    "        object_columns.append(c)\n",
    "\n",
    "df.drop(object_columns, axis=1, inplace=True)"
   ],
   "metadata": {
    "collapsed": false,
    "pycharm": {
     "name": "#%%\n"
    }
   }
  },
  {
   "cell_type": "markdown",
   "source": [
    "# Разбиваем датафрейм на части, необходимые для обучения и тестирования модели"
   ],
   "metadata": {
    "collapsed": false
   }
  },
  {
   "cell_type": "code",
   "execution_count": 1494,
   "metadata": {},
   "outputs": [],
   "source": [
    "# Х - данные с информацией о ресторанах, у - целевая переменная (рейтинги ресторанов)\n",
    "X = df.drop([col_rest_id, col_rating], axis = 1)\n",
    "y = df[col_rating]"
   ]
  },
  {
   "cell_type": "code",
   "execution_count": 1495,
   "metadata": {},
   "outputs": [],
   "source": [
    "# Загружаем специальный инструмент для разбивки:\n",
    "from sklearn.model_selection import train_test_split"
   ]
  },
  {
   "cell_type": "code",
   "execution_count": 1496,
   "metadata": {},
   "outputs": [],
   "source": [
    "# Наборы данных с меткой \"train\" будут использоваться для обучения модели, \"test\" - для тестирования.\n",
    "# Для тестирования мы будем использовать 25% от исходного датасета.\n",
    "X_train, X_test, y_train, y_test = train_test_split(X, y, test_size=0.25)"
   ]
  },
  {
   "cell_type": "markdown",
   "metadata": {},
   "source": [
    "# Создаём, обучаем и тестируем модель"
   ]
  },
  {
   "cell_type": "code",
   "execution_count": 1497,
   "metadata": {},
   "outputs": [],
   "source": [
    "# Импортируем необходимые библиотеки:\n",
    "from sklearn.ensemble import RandomForestRegressor # инструмент для создания и обучения модели\n",
    "from sklearn import metrics # инструменты для оценки точности модели"
   ]
  },
  {
   "cell_type": "code",
   "execution_count": 1498,
   "metadata": {},
   "outputs": [],
   "source": [
    "# Создаём модель\n",
    "regr = RandomForestRegressor(n_estimators=100)\n",
    "\n",
    "# Обучаем модель на тестовом наборе данных\n",
    "regr.fit(X_train, y_train)\n",
    "\n",
    "# Используем обученную модель для предсказания рейтинга ресторанов в тестовой выборке.\n",
    "# Предсказанные значения записываем в переменную y_pred\n",
    "y_pred = regr.predict(X_test)"
   ]
  },
  {
   "cell_type": "code",
   "execution_count": 1499,
   "metadata": {},
   "outputs": [
    {
     "name": "stdout",
     "output_type": "stream",
     "text": [
      "MAE: 0.21238199999999996\n"
     ]
    }
   ],
   "source": [
    "# Сравниваем предсказанные значения (y_pred) с реальными (y_test), и смотрим насколько они в среднем отличаются\n",
    "# Метрика называется Mean Absolute Error (MAE) и показывает среднее отклонение предсказанных значений от фактических.\n",
    "print('MAE:', metrics.mean_absolute_error(y_test, y_pred))"
   ]
  }
 ],
 "metadata": {
  "kernelspec": {
   "display_name": "Python 3",
   "language": "python",
   "name": "python3"
  },
  "language_info": {
   "codemirror_mode": {
    "name": "ipython",
    "version": 3
   },
   "file_extension": ".py",
   "mimetype": "text/x-python",
   "name": "python",
   "nbconvert_exporter": "python",
   "pygments_lexer": "ipython3",
   "version": "3.7.1"
  }
 },
 "nbformat": 4,
 "nbformat_minor": 2
}