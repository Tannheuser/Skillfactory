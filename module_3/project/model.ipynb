{
 "cells": [
  {
   "cell_type": "markdown",
   "metadata": {},
   "source": [
    "# Загрузка данных и библиотек"
   ]
  },
  {
   "cell_type": "code",
   "execution_count": 4515,
   "metadata": {},
   "outputs": [],
   "source": [
    "import pandas as pd\n",
    "import numpy as np\n",
    "import matplotlib.pyplot as plt\n",
    "import seaborn as sns\n",
    "import ast\n",
    "import re\n",
    "\n",
    "from sklearn.model_selection import train_test_split\n",
    "from sklearn.ensemble import RandomForestRegressor # инструмент для создания и обучения модели\n",
    "from sklearn import metrics\n",
    "\n",
    "%matplotlib inline"
   ]
  },
  {
   "cell_type": "code",
   "execution_count": 4516,
   "metadata": {},
   "outputs": [],
   "source": [
    "df_train = pd.read_csv('main_task.csv')\n",
    "df_test = pd.read_csv('kaggle_task.csv')\n",
    "sample_submission = pd.read_csv('sample_submission.csv')\n",
    "\n",
    "df_train['sample'] = 1 # помечаем где у нас трейн\n",
    "df_test['sample'] = 0 # помечаем где у нас тест\n",
    "df_test['Rating'] = 0 # в тесте у нас нет значения Rating, мы его должны предсказать, по этому пока просто заполняем нулями\n",
    "\n",
    "df = df_test.append(df_train, sort=False).reset_index(drop=True) # объединяе"
   ]
  },
  {
   "cell_type": "markdown",
   "source": [
    "# Анализ источника данных"
   ],
   "metadata": {
    "collapsed": false
   }
  },
  {
   "cell_type": "code",
   "execution_count": 4517,
   "metadata": {},
   "outputs": [
    {
     "name": "stdout",
     "output_type": "stream",
     "text": [
      "<class 'pandas.core.frame.DataFrame'>\n",
      "RangeIndex: 50000 entries, 0 to 49999\n",
      "Data columns (total 11 columns):\n",
      " #   Column             Non-Null Count  Dtype  \n",
      "---  ------             --------------  -----  \n",
      " 0   Restaurant_id      50000 non-null  object \n",
      " 1   City               50000 non-null  object \n",
      " 2   Cuisine Style      38410 non-null  object \n",
      " 3   Ranking            50000 non-null  float64\n",
      " 4   Price Range        32639 non-null  object \n",
      " 5   Number of Reviews  46800 non-null  float64\n",
      " 6   Reviews            49998 non-null  object \n",
      " 7   URL_TA             50000 non-null  object \n",
      " 8   ID_TA              50000 non-null  object \n",
      " 9   sample             50000 non-null  int64  \n",
      " 10  Rating             50000 non-null  float64\n",
      "dtypes: float64(3), int64(1), object(7)\n",
      "memory usage: 4.2+ MB\n"
     ]
    }
   ],
   "source": [
    "df.info()"
   ]
  },
  {
   "cell_type": "markdown",
   "source": [
    "# Предобработка"
   ],
   "metadata": {
    "collapsed": false,
    "pycharm": {
     "name": "#%% md\n"
    }
   }
  },
  {
   "cell_type": "markdown",
   "source": [
    "#### Вспомогательные функции и переменные"
   ],
   "metadata": {
    "collapsed": false
   }
  },
  {
   "cell_type": "code",
   "execution_count": 4518,
   "outputs": [],
   "source": [
    "RANDOM_STATE = 42\n",
    "\n",
    "date_pattern = re.compile('\\d+/\\d+/\\d+')\n",
    "today = pd.to_datetime('today').date()\n",
    "min_date = pd.to_datetime('1900-01-01').date()\n",
    "\n",
    "good_words = ['good', 'delicious', 'best', 'gem', 'quick', 'top', 'great',\n",
    "              'nice', 'lovely', 'cozy', 'cute', 'amazing', 'loved', 'friendly',\n",
    "              'tasty', 'like', 'pleasant', 'fantastic', 'recommended', 'perfect',\n",
    "              'outstanding', 'excellent', 'favourite', 'awesome', 'well',\n",
    "              'wonderful', 'beautiful', 'enjoyable', 'super', 'reasonable',\n",
    "              'affordable', 'welcoming', 'fine', 'fast', 'fabulous', 'favorite',\n",
    "              'love', 'brilliant', 'pretty', 'interesting', 'charming', 'happy']\n",
    "\n",
    "bad_words = ['pricey', 'slow', 'disappointing', 'expensive', 'worst', 'awful',\n",
    "             'bad', 'terrible', 'rude', 'overpriced', 'avoid', 'horrible']\n",
    "\n",
    "def describe_numerical(col, bins=100):\n",
    "    \"\"\" Построение гистограммы и вывод основных статистических данных цифровых признаков\"\"\"\n",
    "\n",
    "    df[col].hist(bins=bins)\n",
    "    df[col].describe()\n",
    "\n",
    "\n",
    "def describe_categorical(col):\n",
    "    \"\"\" Вывод основных статистических данных категориальных признаков\"\"\"\n",
    "\n",
    "    display(df[col].value_counts())\n",
    "    display(df[col].describe())\n",
    "\n",
    "\n",
    "def days_since_last_review(reviews):\n",
    "    \"\"\"Считает количество дней, прошедших со времени последнего отзыва\"\"\"\n",
    "\n",
    "    review_dates = date_pattern.findall(reviews)\n",
    "    last_review_date = min_date\n",
    "\n",
    "    for review_date in review_dates:\n",
    "        date = pd.to_datetime(review_date).date()\n",
    "\n",
    "        if date > last_review_date:\n",
    "            last_review_date = date\n",
    "\n",
    "    return (today - last_review_date).days\n",
    "\n",
    "\n",
    "def days_between_reviews(reviews):\n",
    "    \"\"\"Считает количество дней, прошедших между отзывами\"\"\"\n",
    "\n",
    "    review_dates = date_pattern.findall(reviews)\n",
    "\n",
    "    if len(review_dates) == 2:\n",
    "        date1 = pd.to_datetime(review_dates[0]).date()\n",
    "        date2 = pd.to_datetime(review_dates[1]).date()\n",
    "\n",
    "        return abs((date1 - date2).days)\n",
    "\n",
    "    return 0\n",
    "\n",
    "\n",
    "def fill_cuisines(cuisines):\n",
    "    \"\"\"Преобразует строку, содержащую список в объект списка\"\"\"\n",
    "\n",
    "    return ['Unknown'] if pd.isna(cuisines) else ast.literal_eval(cuisines)\n",
    "\n",
    "\n",
    "def convert_price(price):\n",
    "    \"\"\"Преобразует строковое значение цены в числовое\"\"\"\n",
    "\n",
    "    if price == '$':\n",
    "        return 1\n",
    "    elif price == '$$ - $$$':\n",
    "        return 2\n",
    "    elif price == '$$$$':\n",
    "        return 3\n",
    "\n",
    "\n",
    "def get_review_words(review):\n",
    "    \"\"\"Разбивает отзывы на отдельные слова\"\"\"\n",
    "\n",
    "    review_words = set()\n",
    "    word_pattern = re.compile('[A-Za-z]+')\n",
    "    words = word_pattern.findall(review)\n",
    "\n",
    "    for word in words:\n",
    "        if word in good_words or word in bad_words:\n",
    "            review_words.add(word)\n",
    "\n",
    "    return list(review_words)\n",
    "\n",
    "\n",
    "def rate_review(review):\n",
    "    \"\"\"Выставляет рейтинг по ключевым словам в отзывах\"\"\"\n",
    "\n",
    "    rating = 0\n",
    "\n",
    "    for word in review:\n",
    "        if word in good_words:\n",
    "            rating += 1\n",
    "        if word in bad_words:\n",
    "            rating -= 1\n",
    "\n",
    "    return rating\n"
   ],
   "metadata": {
    "collapsed": false,
    "pycharm": {
     "name": "#%%\n"
    }
   }
  },
  {
   "cell_type": "markdown",
   "source": [
    "# Анализ данных и создание признаков"
   ],
   "metadata": {
    "collapsed": false,
    "pycharm": {
     "name": "#%% md\n"
    }
   }
  },
  {
   "cell_type": "markdown",
   "source": [
    "## Аттрибут Restaurant_id"
   ],
   "metadata": {
    "collapsed": false,
    "pycharm": {
     "name": "#%% md\n"
    }
   }
  },
  {
   "cell_type": "markdown",
   "source": [
    "#### Анализ данных"
   ],
   "metadata": {
    "collapsed": false,
    "pycharm": {
     "name": "#%% md\n"
    }
   }
  },
  {
   "cell_type": "code",
   "execution_count": 4519,
   "outputs": [
    {
     "data": {
      "text/plain": "id_436      19\nid_227      19\nid_633      19\nid_871      19\nid_71       18\n            ..\nid_11079     1\nid_10561     1\nid_9360      1\nid_9392      1\nid_11315     1\nName: Restaurant_id, Length: 13094, dtype: int64"
     },
     "metadata": {},
     "output_type": "display_data"
    },
    {
     "data": {
      "text/plain": "count      50000\nunique     13094\ntop       id_436\nfreq          19\nName: Restaurant_id, dtype: object"
     },
     "metadata": {},
     "output_type": "display_data"
    }
   ],
   "source": [
    "describe_categorical('Restaurant_id')"
   ],
   "metadata": {
    "collapsed": false,
    "pycharm": {
     "name": "#%%\n"
    }
   }
  },
  {
   "cell_type": "markdown",
   "source": [
    "#### Создание новых признаков"
   ],
   "metadata": {
    "collapsed": false,
    "pycharm": {
     "name": "#%% md\n"
    }
   }
  },
  {
   "cell_type": "code",
   "execution_count": 4520,
   "outputs": [],
   "source": [
    "# На основе данных анализа данных о Restaurant_id можем сделать вывод о наличии сетевых ресторанов\n",
    "# и создать новый признак - является ли ресторан сетевым.\n",
    "chain_restaurant = df['Restaurant_id'].value_counts().loc[lambda count: count > 1].index\n",
    "\n",
    "df['Chain Restaurant'] = df['Restaurant_id'].apply(lambda r_id: 1 if r_id in chain_restaurant else 0)\n"
   ],
   "metadata": {
    "collapsed": false,
    "pycharm": {
     "name": "#%%\n"
    }
   }
  },
  {
   "cell_type": "markdown",
   "source": [
    "## Аттрибут City"
   ],
   "metadata": {
    "collapsed": false
   }
  },
  {
   "cell_type": "markdown",
   "source": [
    "#### Анализ данных"
   ],
   "metadata": {
    "collapsed": false
   }
  },
  {
   "cell_type": "code",
   "execution_count": 4521,
   "outputs": [
    {
     "data": {
      "text/plain": "London        7193\nParis         6108\nMadrid        3813\nBarcelona     3395\nBerlin        2705\nMilan         2694\nRome          2589\nPrague        1816\nLisbon        1647\nVienna        1443\nAmsterdam     1372\nBrussels      1314\nHamburg       1186\nMunich        1145\nLyon          1126\nStockholm     1033\nBudapest      1021\nWarsaw         925\nDublin         836\nCopenhagen     819\nAthens         776\nEdinburgh      745\nZurich         685\nOporto         642\nGeneva         590\nKrakow         554\nOslo           488\nHelsinki       475\nBratislava     380\nLuxembourg     263\nLjubljana      222\nName: City, dtype: int64"
     },
     "metadata": {},
     "output_type": "display_data"
    },
    {
     "data": {
      "text/plain": "count      50000\nunique        31\ntop       London\nfreq        7193\nName: City, dtype: object"
     },
     "metadata": {},
     "output_type": "display_data"
    },
    {
     "data": {
      "text/plain": "<AxesSubplot:>"
     },
     "execution_count": 4521,
     "metadata": {},
     "output_type": "execute_result"
    },
    {
     "data": {
      "text/plain": "<Figure size 432x288 with 1 Axes>",
      "image/png": "[encoded data removed]"
     },
     "metadata": {
      "needs_background": "light"
     },
     "output_type": "display_data"
    }
   ],
   "source": [
    "describe_categorical('City')\n",
    "df['City'].value_counts(ascending=True).plot(kind='barh')"
   ],
   "metadata": {
    "collapsed": false,
    "pycharm": {
     "name": "#%%\n"
    }
   }
  },
  {
   "cell_type": "markdown",
   "source": [
    "#### Создание новых признаков"
   ],
   "metadata": {
    "collapsed": false
   }
  },
  {
   "cell_type": "markdown",
   "source": [
    "###### Является ли город столицей"
   ],
   "metadata": {
    "collapsed": false,
    "pycharm": {
     "name": "#%% md\n"
    }
   }
  },
  {
   "cell_type": "code",
   "execution_count": 4522,
   "outputs": [],
   "source": [
    "capitals = ['Paris','Stockholm','London','Berlin','Bratislava', 'Vienna','Rome',\n",
    "            'Barcelona','Madrid','Dublin', 'Brussels','Warsaw','Budapest',\n",
    "            'Copenhagen','Amsterdam','Hamburg','Lisbon','Prague','Oslo','Helsinki',\n",
    "            'Ljubljana','Athens','Luxembourg']\n",
    "\n",
    "df['Capital City'] = df['City'].apply(lambda city: 1 if city in capitals else 0)"
   ],
   "metadata": {
    "collapsed": false,
    "pycharm": {
     "name": "#%%\n"
    }
   }
  },
  {
   "cell_type": "markdown",
   "source": [
    "###### Dummy-variables для городов"
   ],
   "metadata": {
    "collapsed": false,
    "pycharm": {
     "name": "#%% md\n"
    }
   }
  },
  {
   "cell_type": "code",
   "execution_count": 4523,
   "outputs": [],
   "source": [
    "city_ranges = pd.get_dummies(df['City'])\n",
    "\n",
    "for c in city_ranges.columns:\n",
    "    df[c] = city_ranges[c].values"
   ],
   "metadata": {
    "collapsed": false,
    "pycharm": {
     "name": "#%%\n"
    }
   }
  },
  {
   "cell_type": "markdown",
   "source": [
    "## Аттрибут Cuisine Style"
   ],
   "metadata": {
    "collapsed": false
   }
  },
  {
   "cell_type": "markdown",
   "source": [
    "#### Анализ данных"
   ],
   "metadata": {
    "collapsed": false
   }
  },
  {
   "cell_type": "code",
   "execution_count": 4524,
   "outputs": [
    {
     "data": {
      "text/plain": "['Italian']                                                                                          1332\n['French']                                                                                           1019\n['Spanish']                                                                                           860\n['French', 'European']                                                                                503\n['Cafe']                                                                                              500\n                                                                                                     ... \n['Italian', 'Mediterranean', 'Pizza', 'Argentinean', 'Vegetarian Friendly']                             1\n['Japanese', 'Sushi', 'Asian', 'Seafood', 'Gluten Free Options', 'Vegetarian Friendly']                 1\n['French', 'Wine Bar', 'European', 'Spanish', 'Vegetarian Friendly']                                    1\n['Delicatessen', 'French']                                                                              1\n['Brew Pub', 'Grill', 'Mediterranean', 'European', 'Pub', 'Vegetarian Friendly', 'Vegan Options']       1\nName: Cuisine Style, Length: 10731, dtype: int64"
     },
     "metadata": {},
     "output_type": "display_data"
    },
    {
     "data": {
      "text/plain": "count           38410\nunique          10731\ntop       ['Italian']\nfreq             1332\nName: Cuisine Style, dtype: object"
     },
     "metadata": {},
     "output_type": "display_data"
    }
   ],
   "source": [
    "describe_categorical('Cuisine Style')"
   ],
   "metadata": {
    "collapsed": false,
    "pycharm": {
     "name": "#%%\n"
    }
   }
  },
  {
   "cell_type": "markdown",
   "source": [
    "#### Очистка и преобразование данных, заполнение пропусков"
   ],
   "metadata": {
    "collapsed": false,
    "pycharm": {
     "name": "#%% md\n"
    }
   }
  },
  {
   "cell_type": "code",
   "execution_count": 4525,
   "outputs": [],
   "source": [
    "df['Cuisine Style'] = df['Cuisine Style'].apply(fill_cuisines)\n"
   ],
   "metadata": {
    "collapsed": false,
    "pycharm": {
     "name": "#%%\n"
    }
   }
  },
  {
   "cell_type": "markdown",
   "source": [
    "#### Создание новых признаков"
   ],
   "metadata": {
    "collapsed": false
   }
  },
  {
   "cell_type": "code",
   "execution_count": 4526,
   "outputs": [],
   "source": [
    "df['Number of Cuisines'] = df['Cuisine Style'].apply(len)"
   ],
   "metadata": {
    "collapsed": false,
    "pycharm": {
     "name": "#%%\n"
    }
   }
  },
  {
   "cell_type": "code",
   "execution_count": 4526,
   "outputs": [],
   "source": [],
   "metadata": {
    "collapsed": false,
    "pycharm": {
     "name": "#%%\n"
    }
   }
  },
  {
   "cell_type": "markdown",
   "source": [
    "## Аттрибут Ranking"
   ],
   "metadata": {
    "collapsed": false
   }
  },
  {
   "cell_type": "markdown",
   "source": [
    "#### Анализ данных"
   ],
   "metadata": {
    "collapsed": false
   }
  },
  {
   "cell_type": "code",
   "execution_count": 4527,
   "outputs": [
    {
     "data": {
      "text/plain": "<Figure size 432x288 with 1 Axes>",
      "image/png": "[encoded data removed]"
     },
     "metadata": {
      "needs_background": "light"
     },
     "output_type": "display_data"
    }
   ],
   "source": [
    "describe_numerical('Ranking')\n"
   ],
   "metadata": {
    "collapsed": false,
    "pycharm": {
     "name": "#%%\n"
    }
   }
  },
  {
   "cell_type": "code",
   "execution_count": 4528,
   "outputs": [
    {
     "data": {
      "text/plain": "<AxesSubplot:>"
     },
     "execution_count": 4528,
     "metadata": {},
     "output_type": "execute_result"
    },
    {
     "data": {
      "text/plain": "<Figure size 432x288 with 1 Axes>",
      "image/png": "[encoded data removed]"
     },
     "metadata": {
      "needs_background": "light"
     },
     "output_type": "display_data"
    }
   ],
   "source": [
    "# опытным путем выясняем, что взятие квадратного корня приводит данные к более нормальному виду, чем логарифм\n",
    "\n",
    "np.sqrt(df['Ranking']).hist(bins=100)"
   ],
   "metadata": {
    "collapsed": false,
    "pycharm": {
     "name": "#%%\n"
    }
   }
  },
  {
   "cell_type": "markdown",
   "source": [
    "#### Очистка и преобразование данных, заполнение пропусков\n"
   ],
   "metadata": {
    "collapsed": false
   }
  },
  {
   "cell_type": "code",
   "execution_count": 4529,
   "outputs": [],
   "source": [
    "# Будем использовать в модели нормализованные данные\n",
    "df['Ranking'] = df['Ranking'].apply(np.sqrt)\n"
   ],
   "metadata": {
    "collapsed": false,
    "pycharm": {
     "name": "#%%\n"
    }
   }
  },
  {
   "cell_type": "markdown",
   "source": [
    "## Аттрибут Rating"
   ],
   "metadata": {
    "collapsed": false
   }
  },
  {
   "cell_type": "markdown",
   "source": [
    "#### Анализ данных"
   ],
   "metadata": {
    "collapsed": false
   }
  },
  {
   "cell_type": "code",
   "execution_count": 4530,
   "outputs": [
    {
     "data": {
      "text/plain": "<Figure size 432x288 with 1 Axes>",
      "image/png": "[encoded data removed]"
     },
     "metadata": {
      "needs_background": "light"
     },
     "output_type": "display_data"
    }
   ],
   "source": [
    "describe_numerical('Rating', 10)\n"
   ],
   "metadata": {
    "collapsed": false,
    "pycharm": {
     "name": "#%%\n"
    }
   }
  },
  {
   "cell_type": "code",
   "execution_count": 4530,
   "outputs": [],
   "source": [],
   "metadata": {
    "collapsed": false,
    "pycharm": {
     "name": "#%%\n"
    }
   }
  },
  {
   "cell_type": "markdown",
   "source": [
    "## Аттрибут Price Range"
   ],
   "metadata": {
    "collapsed": false
   }
  },
  {
   "cell_type": "markdown",
   "source": [
    "#### Анализ данных"
   ],
   "metadata": {
    "collapsed": false
   }
  },
  {
   "cell_type": "code",
   "execution_count": 4531,
   "outputs": [
    {
     "data": {
      "text/plain": "$$ - $$$    23041\n$            7816\n$$$$         1782\nName: Price Range, dtype: int64"
     },
     "metadata": {},
     "output_type": "display_data"
    },
    {
     "data": {
      "text/plain": "count        32639\nunique           3\ntop       $$ - $$$\nfreq         23041\nName: Price Range, dtype: object"
     },
     "metadata": {},
     "output_type": "display_data"
    }
   ],
   "source": [
    "describe_categorical('Price Range')"
   ],
   "metadata": {
    "collapsed": false,
    "pycharm": {
     "name": "#%%\n"
    }
   }
  },
  {
   "cell_type": "markdown",
   "source": [
    "#### Очистка и преобразование данных, заполнение пропусков"
   ],
   "metadata": {
    "collapsed": false
   }
  },
  {
   "cell_type": "code",
   "execution_count": 4532,
   "outputs": [],
   "source": [
    "# Заполним пропуски самым популярным значением\n",
    "df['Price Range'] = df['Price Range'].fillna(df['Price Range'].value_counts().index[0])\n",
    "\n",
    "# Попробуем преобразовать строковые значения.\n",
    "# Это можно сделать двумя способами:\n",
    "\n",
    "# Способ 1. Присвоение числового рангового значения, например $ - 1, $$-$$$ - 2, $$$$ - 3\n",
    "\n",
    "# df['Price Range'] = df['Price Range'].apply(convert_price)"
   ],
   "metadata": {
    "collapsed": false,
    "pycharm": {
     "name": "#%%\n"
    }
   }
  },
  {
   "cell_type": "markdown",
   "source": [
    "#### Создание новых признаков\n",
    "###### Другой способ преобразования строковых значений цены"
   ],
   "metadata": {
    "collapsed": false
   }
  },
  {
   "cell_type": "code",
   "execution_count": 4533,
   "outputs": [],
   "source": [
    "price_ranges = pd.get_dummies(df['Price Range'])\n",
    "price_ranges.columns = ['Inexpensive', 'Middle Price', 'Expensive']\n",
    "\n",
    "for c in price_ranges.columns:\n",
    "    df[c] = price_ranges[c].values"
   ],
   "metadata": {
    "collapsed": false,
    "pycharm": {
     "name": "#%%\n"
    }
   }
  },
  {
   "cell_type": "markdown",
   "source": [
    "## Аттрибут Number of Reviews"
   ],
   "metadata": {
    "collapsed": false,
    "pycharm": {
     "name": "#%% md\n"
    }
   }
  },
  {
   "cell_type": "markdown",
   "source": [
    "#### Анализ данных"
   ],
   "metadata": {
    "collapsed": false
   }
  },
  {
   "cell_type": "code",
   "execution_count": 4534,
   "outputs": [
    {
     "data": {
      "text/plain": "<Figure size 432x288 with 1 Axes>",
      "image/png": "[encoded data removed]"
     },
     "metadata": {
      "needs_background": "light"
     },
     "output_type": "display_data"
    }
   ],
   "source": [
    "describe_numerical('Number of Reviews', bins=10)\n"
   ],
   "metadata": {
    "collapsed": false,
    "pycharm": {
     "name": "#%%\n"
    }
   }
  },
  {
   "cell_type": "markdown",
   "source": [
    "#### Очистка и преобразование данных, заполнение пропусков"
   ],
   "metadata": {
    "collapsed": false,
    "pycharm": {
     "name": "#%% md\n"
    }
   }
  },
  {
   "cell_type": "code",
   "execution_count": 4535,
   "outputs": [
    {
     "data": {
      "text/plain": "<AxesSubplot:>"
     },
     "execution_count": 4535,
     "metadata": {},
     "output_type": "execute_result"
    },
    {
     "data": {
      "text/plain": "<Figure size 432x288 with 1 Axes>",
      "image/png": "[encoded data removed]"
     },
     "metadata": {
      "needs_background": "light"
     },
     "output_type": "display_data"
    }
   ],
   "source": [
    "# Заполним пропуски средним значением\n",
    "\n",
    "df['Number of Reviews'] = df['Number of Reviews'].fillna(df['Number of Reviews'].mean())\n",
    "\n",
    "# Опытным путем выясняем, что взятие логарифма приводит данные к более нормальному виду\n",
    "np.log(df['Number of Reviews']).hist(bins=10)"
   ],
   "metadata": {
    "collapsed": false,
    "pycharm": {
     "name": "#%%\n"
    }
   }
  },
  {
   "cell_type": "code",
   "execution_count": 4536,
   "outputs": [],
   "source": [
    "# Будем использовать в модели нормализованные данные\n",
    "df['Number of Reviews'] = df['Number of Reviews'].apply(np.log)"
   ],
   "metadata": {
    "collapsed": false,
    "pycharm": {
     "name": "#%%\n"
    }
   }
  },
  {
   "cell_type": "markdown",
   "source": [
    "## Аттрибут Reviews"
   ],
   "metadata": {
    "collapsed": false
   }
  },
  {
   "cell_type": "markdown",
   "source": [
    "#### Анализ данных"
   ],
   "metadata": {
    "collapsed": false
   }
  },
  {
   "cell_type": "code",
   "execution_count": 4537,
   "outputs": [
    {
     "data": {
      "text/plain": "[[], []]                                                                                                              8112\n[['Excellent food food', 'Fantastic sushi served tapas style'], ['09/07/2016', '02/21/2016']]                            2\n[['Very cozy!', 'Service rate: 1'], ['01/17/2016', '11/18/2015']]                                                        2\n[['Good Paella', 'Good enough. Nothing more'], ['09/20/2017', '05/29/2017']]                                             2\n[['Absolutely authentic and delicious!', 'Wonderful discovery'], ['09/30/2017', '08/04/2016']]                           2\n                                                                                                                      ... \n[['Nice place for a larger group', 'Nice outdoor setting, good food and tonigh...'], ['04/23/2017', '06/21/2016']]       1\n[['Amazing', 'Excellent tea with a great atmosphere'], ['01/20/2018', '11/27/2017']]                                     1\n[['Perfect evening', 'Lovely setting!'], ['08/24/2017', '08/15/2017']]                                                   1\n[['Very good honest asian food! A must go in...', 'A Good Choice'], ['10/11/2017', '06/07/2017']]                        1\n[['Amazing !', 'Service is too long... employees are too s...'], ['11/05/2017', '10/12/2017']]                           1\nName: Reviews, Length: 41857, dtype: int64"
     },
     "metadata": {},
     "output_type": "display_data"
    },
    {
     "data": {
      "text/plain": "count        49998\nunique       41857\ntop       [[], []]\nfreq          8112\nName: Reviews, dtype: object"
     },
     "metadata": {},
     "output_type": "display_data"
    }
   ],
   "source": [
    "describe_categorical('Reviews')"
   ],
   "metadata": {
    "collapsed": false,
    "pycharm": {
     "name": "#%%\n"
    }
   }
  },
  {
   "cell_type": "markdown",
   "source": [
    "#### Очистка и преобразование данных, заполнение пропусков"
   ],
   "metadata": {
    "collapsed": false
   }
  },
  {
   "cell_type": "code",
   "execution_count": 4538,
   "outputs": [],
   "source": [
    "df['Reviews'] = df['Reviews'].fillna('')"
   ],
   "metadata": {
    "collapsed": false,
    "pycharm": {
     "name": "#%%\n"
    }
   }
  },
  {
   "cell_type": "markdown",
   "source": [
    "#### Создание новых признаков"
   ],
   "metadata": {
    "collapsed": false
   }
  },
  {
   "cell_type": "markdown",
   "source": [
    "###### Количество дней между отзывами"
   ],
   "metadata": {
    "collapsed": false,
    "pycharm": {
     "name": "#%% md\n"
    }
   }
  },
  {
   "cell_type": "code",
   "execution_count": 4539,
   "outputs": [],
   "source": [
    "# df['Days Between Reviews'] = df['Reviews'].apply(days_between_reviews) # похоже, что признак немного ухудшает точность модели"
   ],
   "metadata": {
    "collapsed": false,
    "pycharm": {
     "name": "#%%\n"
    }
   }
  },
  {
   "cell_type": "markdown",
   "source": [
    "###### Количество дней, прошедших с даты последнего отзыва"
   ],
   "metadata": {
    "collapsed": false,
    "pycharm": {
     "name": "#%% md\n"
    }
   }
  },
  {
   "cell_type": "code",
   "execution_count": 4540,
   "outputs": [],
   "source": [
    "df['Last Review Days'] = df['Reviews'].apply(days_since_last_review)"
   ],
   "metadata": {
    "collapsed": false,
    "pycharm": {
     "name": "#%%\n"
    }
   }
  },
  {
   "cell_type": "markdown",
   "source": [
    "###### Рейтинг, основанный на положительных/отрицательных словах в отзывах"
   ],
   "metadata": {
    "collapsed": false,
    "pycharm": {
     "name": "#%% md\n"
    }
   }
  },
  {
   "cell_type": "code",
   "execution_count": 4541,
   "outputs": [],
   "source": [
    "# Если не использовать dummy-переменные Cities, то данные признаки незначительно увеличивают точность модели.\n",
    "# При использовании Cities, точность модели наоборот уменьшается.\n",
    "# df['Review Words'] = df['Reviews'].apply(get_review_words)\n",
    "# df['Review Rating'] = df['Review Words'].apply(rate_review)\n",
    "# #\n",
    "# keywords = good_words + bad_words\n",
    "# for word in keywords:\n",
    "#     df[word] = df['Review Words'].apply(lambda w: 1 if word in w else 0)"
   ],
   "metadata": {
    "collapsed": false,
    "pycharm": {
     "name": "#%%\n"
    }
   }
  },
  {
   "cell_type": "markdown",
   "source": [
    "# Корреляция между признаками"
   ],
   "metadata": {
    "collapsed": false,
    "pycharm": {
     "name": "#%% md\n"
    }
   }
  },
  {
   "cell_type": "code",
   "execution_count": 4542,
   "outputs": [
    {
     "data": {
      "text/plain": "<AxesSubplot:>"
     },
     "execution_count": 4542,
     "metadata": {},
     "output_type": "execute_result"
    },
    {
     "data": {
      "text/plain": "<Figure size 1152x720 with 2 Axes>",
      "image/png": "[encoded data removed]"
     },
     "metadata": {
      "needs_background": "light"
     },
     "output_type": "display_data"
    }
   ],
   "source": [
    "plt.rcParams['figure.figsize'] = (16,10)\n",
    "data_corr = df[['Cuisine Style', 'Ranking', 'Price Range', 'Number of Reviews',\n",
    "                   'Rating', 'Number of Cuisines', 'Capital City', 'Last Review Days']]\n",
    "sns.heatmap(data_corr.corr(), annot=True, cmap='coolwarm')\n",
    "\n",
    "# По графику можно сделать выовод о том, что сильной корреляции между целевой переменной и остальными признаками нет\n",
    "# Однако можно наблюдать небольшую корреляцию между количеством кухонь и количеством отзывов"
   ],
   "metadata": {
    "collapsed": false,
    "pycharm": {
     "name": "#%%\n"
    }
   }
  },
  {
   "cell_type": "markdown",
   "source": [
    "# Удаляем столбцы с dtype Object"
   ],
   "metadata": {
    "collapsed": false
   }
  },
  {
   "cell_type": "code",
   "execution_count": 4543,
   "outputs": [],
   "source": [
    "object_columns = [s for s in df.columns if df[s].dtypes == 'object']\n",
    "df.drop(object_columns, axis=1, inplace=True)"
   ],
   "metadata": {
    "collapsed": false,
    "pycharm": {
     "name": "#%%\n"
    }
   }
  },
  {
   "cell_type": "markdown",
   "source": [
    "# Разбиваем датафрейм на части, необходимые для обучения и тестирования модели"
   ],
   "metadata": {
    "collapsed": false
   }
  },
  {
   "cell_type": "code",
   "execution_count": 4544,
   "outputs": [],
   "source": [
    "train_data = df.query('sample == 1').drop(['sample'], axis=1)\n",
    "test_data = df.query('sample == 0').drop(['sample'], axis=1)\n",
    "\n",
    "y = train_data.Rating.values            # наш таргет\n",
    "X = train_data.drop(['Rating'], axis=1)"
   ],
   "metadata": {
    "collapsed": false,
    "pycharm": {
     "name": "#%%\n"
    }
   }
  },
  {
   "cell_type": "code",
   "execution_count": 4545,
   "metadata": {},
   "outputs": [],
   "source": [
    "# Наборы данных с меткой \"train\" будут использоваться для обучения модели, \"test\" - для тестирования.\n",
    "# Для тестирования мы будем использовать 25% от исходного датасета.\n",
    "X_train, X_test, y_train, y_test = train_test_split(X, y, test_size=0.2, random_state=RANDOM_STATE)\n"
   ]
  },
  {
   "cell_type": "code",
   "execution_count": 4546,
   "outputs": [
    {
     "data": {
      "text/plain": "((10000, 41), (40000, 41), (40000, 40), (32000, 40), (8000, 40))"
     },
     "execution_count": 4546,
     "metadata": {},
     "output_type": "execute_result"
    }
   ],
   "source": [
    "# проверяем\n",
    "test_data.shape, train_data.shape, X.shape, X_train.shape, X_test.shape"
   ],
   "metadata": {
    "collapsed": false,
    "pycharm": {
     "name": "#%%\n"
    }
   }
  },
  {
   "cell_type": "markdown",
   "metadata": {},
   "source": [
    "# Создаём, обучаем и тестируем модель"
   ]
  },
  {
   "cell_type": "code",
   "execution_count": 4547,
   "metadata": {},
   "outputs": [],
   "source": [
    "# Создаём модель\n",
    "regr = RandomForestRegressor(n_estimators=100)\n",
    "\n",
    "# Обучаем модель на тестовом наборе данных\n",
    "regr.fit(X_train, y_train)\n",
    "\n",
    "# Используем обученную модель для предсказания рейтинга ресторанов в тестовой выборке.\n",
    "# Предсказанные значения записываем в переменную y_pred\n",
    "y_pred = regr.predict(X_test)"
   ]
  },
  {
   "cell_type": "code",
   "execution_count": 4548,
   "metadata": {},
   "outputs": [
    {
     "name": "stdout",
     "output_type": "stream",
     "text": [
      "MAE: 0.20981624999999998\n"
     ]
    }
   ],
   "source": [
    "# Сравниваем предсказанные значения (y_pred) с реальными (y_test), и смотрим насколько они в среднем отличаются\n",
    "# Метрика называется Mean Absolute Error (MAE) и показывает среднее отклонение предсказанных значений от фактических.\n",
    "print('MAE:', metrics.mean_absolute_error(y_test, y_pred))"
   ]
  },
  {
   "cell_type": "markdown",
   "source": [
    "# Исследуем ключевые признаки модели"
   ],
   "metadata": {
    "collapsed": false,
    "pycharm": {
     "name": "#%% md\n"
    }
   }
  },
  {
   "cell_type": "code",
   "execution_count": 4549,
   "outputs": [
    {
     "data": {
      "text/plain": "<AxesSubplot:>"
     },
     "execution_count": 4549,
     "metadata": {},
     "output_type": "execute_result"
    },
    {
     "data": {
      "text/plain": "<Figure size 720x720 with 1 Axes>",
      "image/png": "[encoded data removed]"
     },
     "metadata": {
      "needs_background": "light"
     },
     "output_type": "display_data"
    }
   ],
   "source": [
    "plt.rcParams['figure.figsize'] = (10,10)\n",
    "features = pd.Series(regr.feature_importances_, index=X.columns)\n",
    "features.nlargest(20).plot(kind='barh')"
   ],
   "metadata": {
    "collapsed": false,
    "pycharm": {
     "name": "#%%\n"
    }
   }
  },
  {
   "cell_type": "markdown",
   "source": [
    "# Готовим Kaggle Submission\n"
   ],
   "metadata": {
    "collapsed": false,
    "pycharm": {
     "name": "#%% md\n"
    }
   }
  },
  {
   "cell_type": "code",
   "execution_count": 4550,
   "outputs": [],
   "source": [
    "test_data = test_data.drop(['Rating'], axis=1)\n",
    "predict_submission = regr.predict(test_data)"
   ],
   "metadata": {
    "collapsed": false,
    "pycharm": {
     "name": "#%%\n"
    }
   }
  },
  {
   "cell_type": "code",
   "execution_count": 4551,
   "outputs": [
    {
     "data": {
      "text/plain": "array([3.085, 4.185, 4.48 , ..., 3.04 , 4.475, 4.405])"
     },
     "execution_count": 4551,
     "metadata": {},
     "output_type": "execute_result"
    }
   ],
   "source": [
    "predict_submission"
   ],
   "metadata": {
    "collapsed": false,
    "pycharm": {
     "name": "#%%\n"
    }
   }
  },
  {
   "cell_type": "code",
   "execution_count": 4552,
   "outputs": [
    {
     "data": {
      "text/plain": "  Restaurant_id  Rating\n0          id_0   3.085\n1          id_1   4.185\n2          id_2   4.480\n3          id_3   4.300\n4          id_4   4.435\n5          id_5   4.470\n6          id_6   1.920\n7          id_7   2.735\n8          id_8   3.945\n9          id_9   4.635",
      "text/html": "<div>\n<style scoped>\n    .dataframe tbody tr th:only-of-type {\n        vertical-align: middle;\n    }\n\n    .dataframe tbody tr th {\n        vertical-align: top;\n    }\n\n    .dataframe thead th {\n        text-align: right;\n    }\n</style>\n<table border=\"1\" class=\"dataframe\">\n  <thead>\n    <tr style=\"text-align: right;\">\n      <th></th>\n      <th>Restaurant_id</th>\n      <th>Rating</th>\n    </tr>\n  </thead>\n  <tbody>\n    <tr>\n      <th>0</th>\n      <td>id_0</td>\n      <td>3.085</td>\n    </tr>\n    <tr>\n      <th>1</th>\n      <td>id_1</td>\n      <td>4.185</td>\n    </tr>\n    <tr>\n      <th>2</th>\n      <td>id_2</td>\n      <td>4.480</td>\n    </tr>\n    <tr>\n      <th>3</th>\n      <td>id_3</td>\n      <td>4.300</td>\n    </tr>\n    <tr>\n      <th>4</th>\n      <td>id_4</td>\n      <td>4.435</td>\n    </tr>\n    <tr>\n      <th>5</th>\n      <td>id_5</td>\n      <td>4.470</td>\n    </tr>\n    <tr>\n      <th>6</th>\n      <td>id_6</td>\n      <td>1.920</td>\n    </tr>\n    <tr>\n      <th>7</th>\n      <td>id_7</td>\n      <td>2.735</td>\n    </tr>\n    <tr>\n      <th>8</th>\n      <td>id_8</td>\n      <td>3.945</td>\n    </tr>\n    <tr>\n      <th>9</th>\n      <td>id_9</td>\n      <td>4.635</td>\n    </tr>\n  </tbody>\n</table>\n</div>"
     },
     "execution_count": 4552,
     "metadata": {},
     "output_type": "execute_result"
    }
   ],
   "source": [
    "sample_submission['Rating'] = predict_submission\n",
    "sample_submission.to_csv('submission_1.csv', index=False)\n",
    "sample_submission.head(10)"
   ],
   "metadata": {
    "collapsed": false,
    "pycharm": {
     "name": "#%%\n"
    }
   }
  }
 ],
 "metadata": {
  "kernelspec": {
   "display_name": "Python 3",
   "language": "python",
   "name": "python3"
  },
  "language_info": {
   "codemirror_mode": {
    "name": "ipython",
    "version": 3
   },
   "file_extension": ".py",
   "mimetype": "text/x-python",
   "name": "python",
   "nbconvert_exporter": "python",
   "pygments_lexer": "ipython3",
   "version": "3.7.1"
  }
 },
 "nbformat": 4,
 "nbformat_minor": 2
}