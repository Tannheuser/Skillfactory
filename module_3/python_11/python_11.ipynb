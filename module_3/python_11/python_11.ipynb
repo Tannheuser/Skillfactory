{
 "metadata": {
  "language_info": {
   "codemirror_mode": {
    "name": "ipython",
    "version": 3
   },
   "file_extension": ".py",
   "mimetype": "text/x-python",
   "name": "python",
   "nbconvert_exporter": "python",
   "pygments_lexer": "ipython3",
   "version": "3.8.5-final"
  },
  "orig_nbformat": 2,
  "kernelspec": {
   "name": "python3",
   "display_name": "Python 3",
   "language": "python"
  }
 },
 "nbformat": 4,
 "nbformat_minor": 2,
 "cells": [
  {
   "cell_type": "code",
   "execution_count": 22,
   "metadata": {},
   "outputs": [],
   "source": [
    "import pandas as pd\n",
    "\n",
    "log = pd.read_csv('log.csv')\n",
    "users = pd.read_csv('users.csv', sep='\\t', encoding='KOI8-R')\n",
    "log.columns = ['user_id', 'time', 'bet', 'win']\n",
    "users.columns = ['user_id', 'email', 'geo']"
   ]
  },
  {
   "cell_type": "code",
   "execution_count": 46,
   "metadata": {},
   "outputs": [
    {
     "output_type": "execute_result",
     "data": {
      "text/plain": [
       "False    984\n",
       "True      15\n",
       "Name: time, dtype: int64"
      ]
     },
     "metadata": {},
     "execution_count": 46
    }
   ],
   "source": [
    "# 11.1 1\n",
    "\n",
    "log.time.isna().value_counts()"
   ]
  },
  {
   "cell_type": "code",
   "execution_count": 14,
   "metadata": {},
   "outputs": [
    {
     "output_type": "execute_result",
     "data": {
      "text/plain": [
       "user_id  time   bet    win  \n",
       "False    False  True   True     512\n",
       "                False  True     339\n",
       "                       False    133\n",
       "         True   False  True       8\n",
       "                       False      5\n",
       "                True   True       2\n",
       "dtype: int64"
      ]
     },
     "metadata": {},
     "execution_count": 14
    }
   ],
   "source": [
    "# 11.1 2\n",
    "\n",
    "log.isna().value_counts()"
   ]
  },
  {
   "cell_type": "code",
   "execution_count": 51,
   "metadata": {},
   "outputs": [
    {
     "output_type": "execute_result",
     "data": {
      "text/plain": [
       "user_id    133\n",
       "time       133\n",
       "bet        133\n",
       "win        133\n",
       "dtype: int64"
      ]
     },
     "metadata": {},
     "execution_count": 51
    }
   ],
   "source": [
    "# 11.1 3\n",
    "\n",
    "log = log.dropna()\n",
    "log.count()"
   ]
  },
  {
   "cell_type": "code",
   "execution_count": 48,
   "metadata": {},
   "outputs": [
    {
     "output_type": "execute_result",
     "data": {
      "text/plain": [
       "user_id    999\n",
       "time       984\n",
       "bet        485\n",
       "win        138\n",
       "dtype: int64"
      ]
     },
     "metadata": {},
     "execution_count": 48
    }
   ],
   "source": [
    "# 11.2 1\n",
    "\n",
    "log.drop_duplicates(subset=['user_id', 'time'])\n",
    "log.count()"
   ]
  },
  {
   "cell_type": "code",
   "execution_count": 52,
   "metadata": {},
   "outputs": [
    {
     "output_type": "execute_result",
     "data": {
      "text/plain": [
       "13    2019-01-02 08:57:36\n",
       "28    2019-01-04 13:59:42\n",
       "150   2019-01-16 21:54:22\n",
       "188   2019-01-21 18:34:44\n",
       "204   2019-01-22 05:26:59\n",
       "              ...        \n",
       "966   2019-04-19 22:25:15\n",
       "970   2019-04-20 10:35:49\n",
       "971   2019-04-20 10:35:50\n",
       "975   2019-04-20 10:35:54\n",
       "990   2019-04-20 12:55:41\n",
       "Name: time, Length: 133, dtype: datetime64[ns]"
      ]
     },
     "metadata": {},
     "execution_count": 52
    }
   ],
   "source": [
    "# 11.3 1\n",
    "\n",
    "log.time = log.time.apply(lambda x: pd.to_datetime(x[1:]))\n"
   ]
  },
  {
   "cell_type": "code",
   "execution_count": 57,
   "metadata": {},
   "outputs": [
    {
     "output_type": "execute_result",
     "data": {
      "text/plain": [
       "36    7\n",
       "57    5\n",
       "44    5\n",
       "18    5\n",
       "35    4\n",
       "40    4\n",
       "25    4\n",
       "2     4\n",
       "48    4\n",
       "8     4\n",
       "1     4\n",
       "55    4\n",
       "34    4\n",
       "16    3\n",
       "6     3\n",
       "23    3\n",
       "15    3\n",
       "31    3\n",
       "0     3\n",
       "11    3\n",
       "38    3\n",
       "43    3\n",
       "46    2\n",
       "10    2\n",
       "54    2\n",
       "52    2\n",
       "17    2\n",
       "50    2\n",
       "9     2\n",
       "20    2\n",
       "49    2\n",
       "45    2\n",
       "12    2\n",
       "5     2\n",
       "26    2\n",
       "58    2\n",
       "29    2\n",
       "42    2\n",
       "33    2\n",
       "3     1\n",
       "4     1\n",
       "59    1\n",
       "13    1\n",
       "14    1\n",
       "19    1\n",
       "21    1\n",
       "22    1\n",
       "24    1\n",
       "37    1\n",
       "39    1\n",
       "47    1\n",
       "53    1\n",
       "27    1\n",
       "Name: time, dtype: int64"
      ]
     },
     "metadata": {},
     "execution_count": 57
    }
   ],
   "source": [
    "# 11.4 1\n",
    "\n",
    "minutes = log.time.dt.minute\n",
    "minutes.value_counts()"
   ]
  },
  {
   "cell_type": "code",
   "execution_count": 64,
   "metadata": {},
   "outputs": [
    {
     "output_type": "execute_result",
     "data": {
      "text/plain": [
       "1    291\n",
       "3    264\n",
       "2    259\n",
       "4    170\n",
       "Name: time, dtype: int64"
      ]
     },
     "metadata": {},
     "execution_count": 64
    }
   ],
   "source": [
    "# 11.4 2\n",
    "\n",
    "log=log.dropna(subset=['time'], axis=0)\n",
    "log.time = log.time.apply(lambda x: pd.to_datetime(x[1:]))\n",
    "# log.time = log.time.apply(lambda x: x.month)\n",
    "log.time.dt.month.value_counts()\n",
    "# months = log.time.dt.month\n",
    "# months.value_counts(ascending=True)"
   ]
  },
  {
   "cell_type": "code",
   "execution_count": 72,
   "metadata": {},
   "outputs": [
    {
     "output_type": "execute_result",
     "data": {
      "text/plain": [
       "5    152\n",
       "2    150\n",
       "1    149\n",
       "4    135\n",
       "0    135\n",
       "3    132\n",
       "6    131\n",
       "Name: time, dtype: int64"
      ]
     },
     "metadata": {},
     "execution_count": 72
    }
   ],
   "source": [
    "# 11.4 3\n",
    "\n",
    "dow = log.time.dt.dayofweek\n",
    "dow[dow > 4].count()\n",
    "log.time.dt.dayofweek.value_counts()"
   ]
  },
  {
   "cell_type": "code",
   "execution_count": 77,
   "metadata": {},
   "outputs": [
    {
     "output_type": "execute_result",
     "data": {
      "text/plain": [
       "                              user_id                time       bet     win  \\\n",
       "0    Запись пользователя № - user_973 2019-01-01 14:51:16       NaN     NaN   \n",
       "1    Запись пользователя № - user_903 2019-01-01 16:31:16       NaN     NaN   \n",
       "2    Запись пользователя № - user_954 2019-01-01 17:17:51       NaN     NaN   \n",
       "3    Запись пользователя № - user_954 2019-01-01 21:31:18       NaN     NaN   \n",
       "4    Запись пользователя № - user_917 2019-01-01 23:34:55  156789.0     NaN   \n",
       "..                                ...                 ...       ...     ...   \n",
       "990  Запись пользователя № - user_965 2019-04-20 12:55:41     800.0  6927.0   \n",
       "991  Запись пользователя № - user_967 2019-04-20 14:59:36   10154.0     NaN   \n",
       "992  Запись пользователя № - user_973 2019-04-20 17:09:56   10254.0     NaN   \n",
       "993  Запись пользователя № - user_977 2019-04-20 18:10:07   10354.0     NaN   \n",
       "994  Запись пользователя № - user_984 2019-04-20 09:59:58    9754.0     NaN   \n",
       "\n",
       "     hour  \n",
       "0      14  \n",
       "1      16  \n",
       "2      17  \n",
       "3      21  \n",
       "4      23  \n",
       "..    ...  \n",
       "990    12  \n",
       "991    14  \n",
       "992    17  \n",
       "993    18  \n",
       "994     9  \n",
       "\n",
       "[984 rows x 5 columns]"
      ],
      "text/html": "<div>\n<style scoped>\n    .dataframe tbody tr th:only-of-type {\n        vertical-align: middle;\n    }\n\n    .dataframe tbody tr th {\n        vertical-align: top;\n    }\n\n    .dataframe thead th {\n        text-align: right;\n    }\n</style>\n<table border=\"1\" class=\"dataframe\">\n  <thead>\n    <tr style=\"text-align: right;\">\n      <th></th>\n      <th>user_id</th>\n      <th>time</th>\n      <th>bet</th>\n      <th>win</th>\n      <th>hour</th>\n    </tr>\n  </thead>\n  <tbody>\n    <tr>\n      <th>0</th>\n      <td>Запись пользователя № - user_973</td>\n      <td>2019-01-01 14:51:16</td>\n      <td>NaN</td>\n      <td>NaN</td>\n      <td>14</td>\n    </tr>\n    <tr>\n      <th>1</th>\n      <td>Запись пользователя № - user_903</td>\n      <td>2019-01-01 16:31:16</td>\n      <td>NaN</td>\n      <td>NaN</td>\n      <td>16</td>\n    </tr>\n    <tr>\n      <th>2</th>\n      <td>Запись пользователя № - user_954</td>\n      <td>2019-01-01 17:17:51</td>\n      <td>NaN</td>\n      <td>NaN</td>\n      <td>17</td>\n    </tr>\n    <tr>\n      <th>3</th>\n      <td>Запись пользователя № - user_954</td>\n      <td>2019-01-01 21:31:18</td>\n      <td>NaN</td>\n      <td>NaN</td>\n      <td>21</td>\n    </tr>\n    <tr>\n      <th>4</th>\n      <td>Запись пользователя № - user_917</td>\n      <td>2019-01-01 23:34:55</td>\n      <td>156789.0</td>\n      <td>NaN</td>\n      <td>23</td>\n    </tr>\n    <tr>\n      <th>...</th>\n      <td>...</td>\n      <td>...</td>\n      <td>...</td>\n      <td>...</td>\n      <td>...</td>\n    </tr>\n    <tr>\n      <th>990</th>\n      <td>Запись пользователя № - user_965</td>\n      <td>2019-04-20 12:55:41</td>\n      <td>800.0</td>\n      <td>6927.0</td>\n      <td>12</td>\n    </tr>\n    <tr>\n      <th>991</th>\n      <td>Запись пользователя № - user_967</td>\n      <td>2019-04-20 14:59:36</td>\n      <td>10154.0</td>\n      <td>NaN</td>\n      <td>14</td>\n    </tr>\n    <tr>\n      <th>992</th>\n      <td>Запись пользователя № - user_973</td>\n      <td>2019-04-20 17:09:56</td>\n      <td>10254.0</td>\n      <td>NaN</td>\n      <td>17</td>\n    </tr>\n    <tr>\n      <th>993</th>\n      <td>Запись пользователя № - user_977</td>\n      <td>2019-04-20 18:10:07</td>\n      <td>10354.0</td>\n      <td>NaN</td>\n      <td>18</td>\n    </tr>\n    <tr>\n      <th>994</th>\n      <td>Запись пользователя № - user_984</td>\n      <td>2019-04-20 09:59:58</td>\n      <td>9754.0</td>\n      <td>NaN</td>\n      <td>9</td>\n    </tr>\n  </tbody>\n</table>\n<p>984 rows × 5 columns</p>\n</div>"
     },
     "metadata": {},
     "execution_count": 77
    }
   ],
   "source": [
    "# 11.4 5\n",
    "\n",
    "import pandas as pd\n",
    "\n",
    "log = pd.read_csv('log.csv')\n",
    "log.columns = ['user_id', 'time', 'bet', 'win']\n",
    "log = log.dropna(subset=['time'], axis=0)\n",
    "log.time = log.time.apply(lambda x: pd.to_datetime(x[1:]))\n",
    "log['hour'] = log.time.dt.hour\n",
    "\n",
    "log"
   ]
  },
  {
   "cell_type": "code",
   "execution_count": 3,
   "metadata": {},
   "outputs": [
    {
     "output_type": "execute_result",
     "data": {
      "text/plain": [
       "514"
      ]
     },
     "metadata": {},
     "execution_count": 3
    }
   ],
   "source": [
    "# 11.5 1\n",
    "\n",
    "# log.bet.fillna(0)\n",
    "# len(log.query('bet == 0'))\n",
    "log.bet = log.bet.fillna(0)\n",
    "len(log.query('bet == 0'))\n"
   ]
  },
  {
   "cell_type": "code",
   "execution_count": 23,
   "metadata": {},
   "outputs": [
    {
     "output_type": "execute_result",
     "data": {
      "text/plain": [
       "347"
      ]
     },
     "metadata": {},
     "execution_count": 23
    }
   ],
   "source": [
    "# 11.5 2\n",
    "\n",
    "import pandas as pd\n",
    "\n",
    "log = pd.read_csv('log.csv')\n",
    "log.columns = ['user_id', 'time', 'bet', 'win']\n",
    "log.bet = log.bet.fillna(0)\n",
    "\n",
    "def fillna_win(row):  \n",
    "    if (row.win >= 0):\n",
    "        return row.win\n",
    "    elif (row.bet >= 0):\n",
    "        return -row.bet\n",
    "    else:\n",
    "        return 0\n",
    "\n",
    "  \n",
    "# Применяем функцию  \n",
    "log.win = log.apply(lambda row: fillna_win(row), axis=1)  \n",
    "\n",
    "# log\n",
    "len(log.query('win < 0'))"
   ]
  },
  {
   "cell_type": "code",
   "execution_count": 24,
   "metadata": {},
   "outputs": [
    {
     "output_type": "execute_result",
     "data": {
      "text/plain": [
       "138"
      ]
     },
     "metadata": {},
     "execution_count": 24
    }
   ],
   "source": [
    "# 11.6 1\n",
    "\n",
    "def fill_net(row):\n",
    "    if (row.win < 0):\n",
    "        return row.win\n",
    "    else:\n",
    "        return row.win - row.bet\n",
    "\n",
    "log['net'] = log.apply(lambda row: fill_net(row), axis=1)\n",
    "len(log.query('net > 0'))"
   ]
  },
  {
   "cell_type": "code",
   "execution_count": 20,
   "metadata": {},
   "outputs": [
    {
     "output_type": "execute_result",
     "data": {
      "text/plain": [
       "80253"
      ]
     },
     "metadata": {},
     "execution_count": 20
    }
   ],
   "source": [
    "# 11.6 2\n",
    "\n",
    "round(log[log.net > 0].net.mean())"
   ]
  },
  {
   "cell_type": "code",
   "execution_count": 21,
   "metadata": {},
   "outputs": [
    {
     "output_type": "execute_result",
     "data": {
      "text/plain": [
       "5347"
      ]
     },
     "metadata": {},
     "execution_count": 21
    }
   ],
   "source": [
    "# 11.6 3\n",
    "\n",
    "round(log[log.net > 0].net.median())"
   ]
  },
  {
   "cell_type": "code",
   "execution_count": 33,
   "metadata": {},
   "outputs": [
    {
     "output_type": "execute_result",
     "data": {
      "text/plain": [
       "48.5"
      ]
     },
     "metadata": {},
     "execution_count": 33
    }
   ],
   "source": [
    "# 11.7 1\n",
    "\n",
    "round(log[log.bet > 0].bet.count() / log.bet.count() * 100, 1)\n"
   ]
  },
  {
   "cell_type": "code",
   "execution_count": 34,
   "metadata": {},
   "outputs": [
    {
     "output_type": "execute_result",
     "data": {
      "text/plain": [
       "6785.738144329897"
      ]
     },
     "metadata": {},
     "execution_count": 34
    }
   ],
   "source": [
    "# 11.7 2\n",
    "\n",
    "log[log.bet > 0].bet.mean()"
   ]
  },
  {
   "cell_type": "code",
   "execution_count": 35,
   "metadata": {},
   "outputs": [
    {
     "output_type": "execute_result",
     "data": {
      "text/plain": [
       "20421.892783505155"
      ]
     },
     "metadata": {},
     "execution_count": 35
    }
   ],
   "source": [
    "# 11.7.3\n",
    "\n",
    "log[log.bet > 0].net.mean()"
   ]
  },
  {
   "cell_type": "code",
   "execution_count": 36,
   "metadata": {},
   "outputs": [
    {
     "output_type": "execute_result",
     "data": {
      "text/plain": [
       "-3372.743515850144"
      ]
     },
     "metadata": {},
     "execution_count": 36
    }
   ],
   "source": [
    "# 11.7 4\n",
    "\n",
    "log[log.net < 0].net.mean()"
   ]
  },
  {
   "cell_type": "code",
   "execution_count": 45,
   "metadata": {},
   "outputs": [
    {
     "output_type": "execute_result",
     "data": {
      "text/plain": [
       "0.7154639175257732"
      ]
     },
     "metadata": {},
     "execution_count": 45
    }
   ],
   "source": [
    "# 11.7 5\n",
    "\n",
    "bets_nets = log[log.bet > 0][['bet', 'net']]\n",
    "win_bets = bets_nets[bets_nets.net > 0].bet.count() / bets_nets.bet.count()\n",
    "lose_bets = bets_nets[bets_nets.net < 0].bet.count() / bets_nets.bet.count()\n",
    "\n",
    "win_bets\n",
    "lose_bets"
   ]
  },
  {
   "cell_type": "code",
   "execution_count": 9,
   "metadata": {},
   "outputs": [
    {
     "output_type": "execute_result",
     "data": {
      "text/plain": [
       "48"
      ]
     },
     "metadata": {},
     "execution_count": 9
    }
   ],
   "source": [
    "# 11.7 6\n",
    "\n",
    "import pandas as pd\n",
    "\n",
    "log = pd.read_csv('log.csv')\n",
    "log.columns = ['user_id', 'time', 'bet', 'win']\n",
    "log = log.dropna(subset=['bet'], axis=0)\n",
    "\n",
    "min_bet = log.bet.min()\n",
    "min_bet_amount = len(log.query('bet == @min_bet'))\n",
    "min_bet_amount\n"
   ]
  },
  {
   "cell_type": "code",
   "execution_count": 25,
   "metadata": {},
   "outputs": [],
   "source": [
    "users.user_id = users.user_id.apply(lambda x: x.lower())  \n",
    "# Избавимся от ошибок в user_id  \n",
    "log = log[log.user_id != '#error']  \n",
    "log.user_id = log.user_id.str.split(' - ').apply(lambda x: x[1])  "
   ]
  },
  {
   "cell_type": "code",
   "execution_count": 26,
   "metadata": {},
   "outputs": [],
   "source": [
    "merged = pd.merge(users, log, on='user_id') "
   ]
  },
  {
   "cell_type": "code",
   "execution_count": 27,
   "metadata": {},
   "outputs": [
    {
     "output_type": "stream",
     "name": "stdout",
     "text": [
      "<class 'pandas.core.frame.DataFrame'>\nInt64Index: 974 entries, 0 to 973\nData columns (total 7 columns):\n #   Column   Non-Null Count  Dtype  \n---  ------   --------------  -----  \n 0   user_id  974 non-null    object \n 1   email    966 non-null    object \n 2   geo      949 non-null    object \n 3   time     974 non-null    object \n 4   bet      974 non-null    float64\n 5   win      974 non-null    float64\n 6   net      974 non-null    float64\ndtypes: float64(3), object(4)\nmemory usage: 60.9+ KB\n"
     ]
    }
   ],
   "source": [
    "# 11.8 1\n",
    " \n",
    "merged.info()\n"
   ]
  },
  {
   "cell_type": "code",
   "execution_count": 45,
   "metadata": {},
   "outputs": [
    {
     "output_type": "execute_result",
     "data": {
      "text/plain": [
       "-0.0"
      ]
     },
     "metadata": {},
     "execution_count": 45
    }
   ],
   "source": [
    "# 11.9 1\n",
    "\n",
    "merged.groupby(\"user_id\").net.median().median()"
   ]
  },
  {
   "cell_type": "code",
   "execution_count": 52,
   "metadata": {},
   "outputs": [
    {
     "output_type": "execute_result",
     "data": {
      "text/plain": [
       "geo\n",
       "Тюмень                 -499.0\n",
       "Ставрополь              487.0\n",
       "Краснодар              3248.0\n",
       "Пермь                 19518.0\n",
       "Арзангелтск           25813.0\n",
       "Красноярск            27397.0\n",
       "Екатеринбург          28582.0\n",
       "Хабаровск             33451.0\n",
       "Ижевск                34479.0\n",
       "Ярославль             46845.0\n",
       "Казань                75352.0\n",
       "Санкт-Петербург      105345.0\n",
       "Воронеж              107514.0\n",
       "Москва             11379755.0\n",
       "Name: win, dtype: float64"
      ]
     },
     "metadata": {},
     "execution_count": 52
    }
   ],
   "source": [
    "# 11.10 1\n",
    "\n",
    "by_city = merged.groupby(\"geo\")\n",
    "by_city.win.sum().sort_values()"
   ]
  },
  {
   "cell_type": "code",
   "execution_count": 65,
   "metadata": {},
   "outputs": [
    {
     "output_type": "execute_result",
     "data": {
      "text/plain": [
       "127.81602335164835"
      ]
     },
     "metadata": {},
     "execution_count": 65
    }
   ],
   "source": [
    "# 11.10 2\n",
    "\n",
    "mean_city_bet = merged.query('bet > 0').groupby(\"geo\").bet.mean()\n",
    "mean_city_bet.max() / mean_city_bet.min()"
   ]
  },
  {
   "cell_type": "code",
   "execution_count": null,
   "metadata": {},
   "outputs": [],
   "source": []
  }
 ]
}