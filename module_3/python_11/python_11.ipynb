{
 "metadata": {
  "language_info": {
   "codemirror_mode": {
    "name": "ipython",
    "version": 3
   },
   "file_extension": ".py",
   "mimetype": "text/x-python",
   "name": "python",
   "nbconvert_exporter": "python",
   "pygments_lexer": "ipython3",
   "version": "3.8.5-final"
  },
  "orig_nbformat": 2,
  "kernelspec": {
   "name": "python3",
   "display_name": "Python 3.8.5 64-bit ('base': conda)",
   "metadata": {
    "interpreter": {
     "hash": "e134e05457d34029b6460cd73bbf1ed73f339b5b6d98c95be70b69eba114fe95"
    }
   }
  }
 },
 "nbformat": 4,
 "nbformat_minor": 2,
 "cells": [
  {
   "cell_type": "code",
   "execution_count": 87,
   "metadata": {},
   "outputs": [],
   "source": [
    "import pandas as pd\n",
    "\n",
    "log = pd.read_csv('log.csv')\n",
    "users = pd.read_csv('users.csv', sep='\\t', encoding='KOI8-R')\n",
    "log.columns = ['user_id', 'time', 'bet', 'win']\n",
    "users.columns = ['user_id', 'email', 'geo']"
   ]
  },
  {
   "cell_type": "code",
   "execution_count": 46,
   "metadata": {},
   "outputs": [
    {
     "output_type": "execute_result",
     "data": {
      "text/plain": [
       "False    984\n",
       "True      15\n",
       "Name: time, dtype: int64"
      ]
     },
     "metadata": {},
     "execution_count": 46
    }
   ],
   "source": [
    "# 11.1 1\n",
    "\n",
    "log.time.isna().value_counts()"
   ]
  },
  {
   "cell_type": "code",
   "execution_count": 14,
   "metadata": {},
   "outputs": [
    {
     "output_type": "execute_result",
     "data": {
      "text/plain": [
       "user_id  time   bet    win  \n",
       "False    False  True   True     512\n",
       "                False  True     339\n",
       "                       False    133\n",
       "         True   False  True       8\n",
       "                       False      5\n",
       "                True   True       2\n",
       "dtype: int64"
      ]
     },
     "metadata": {},
     "execution_count": 14
    }
   ],
   "source": [
    "# 11.1 2\n",
    "\n",
    "log.isna().value_counts()"
   ]
  },
  {
   "cell_type": "code",
   "execution_count": 51,
   "metadata": {},
   "outputs": [
    {
     "output_type": "execute_result",
     "data": {
      "text/plain": [
       "user_id    133\n",
       "time       133\n",
       "bet        133\n",
       "win        133\n",
       "dtype: int64"
      ]
     },
     "metadata": {},
     "execution_count": 51
    }
   ],
   "source": [
    "# 11.1 3\n",
    "\n",
    "log = log.dropna()\n",
    "log.count()"
   ]
  },
  {
   "cell_type": "code",
   "execution_count": 48,
   "metadata": {},
   "outputs": [
    {
     "output_type": "execute_result",
     "data": {
      "text/plain": [
       "user_id    999\n",
       "time       984\n",
       "bet        485\n",
       "win        138\n",
       "dtype: int64"
      ]
     },
     "metadata": {},
     "execution_count": 48
    }
   ],
   "source": [
    "# 11.2 1\n",
    "\n",
    "log.drop_duplicates(subset=['user_id', 'time'])\n",
    "log.count()"
   ]
  },
  {
   "cell_type": "code",
   "execution_count": 52,
   "metadata": {},
   "outputs": [
    {
     "output_type": "execute_result",
     "data": {
      "text/plain": [
       "13    2019-01-02 08:57:36\n",
       "28    2019-01-04 13:59:42\n",
       "150   2019-01-16 21:54:22\n",
       "188   2019-01-21 18:34:44\n",
       "204   2019-01-22 05:26:59\n",
       "              ...        \n",
       "966   2019-04-19 22:25:15\n",
       "970   2019-04-20 10:35:49\n",
       "971   2019-04-20 10:35:50\n",
       "975   2019-04-20 10:35:54\n",
       "990   2019-04-20 12:55:41\n",
       "Name: time, Length: 133, dtype: datetime64[ns]"
      ]
     },
     "metadata": {},
     "execution_count": 52
    }
   ],
   "source": [
    "# 11.3 1\n",
    "\n",
    "log.time = log.time.apply(lambda x: pd.to_datetime(x[1:]))\n"
   ]
  },
  {
   "cell_type": "code",
   "execution_count": 57,
   "metadata": {},
   "outputs": [
    {
     "output_type": "execute_result",
     "data": {
      "text/plain": [
       "36    7\n",
       "57    5\n",
       "44    5\n",
       "18    5\n",
       "35    4\n",
       "40    4\n",
       "25    4\n",
       "2     4\n",
       "48    4\n",
       "8     4\n",
       "1     4\n",
       "55    4\n",
       "34    4\n",
       "16    3\n",
       "6     3\n",
       "23    3\n",
       "15    3\n",
       "31    3\n",
       "0     3\n",
       "11    3\n",
       "38    3\n",
       "43    3\n",
       "46    2\n",
       "10    2\n",
       "54    2\n",
       "52    2\n",
       "17    2\n",
       "50    2\n",
       "9     2\n",
       "20    2\n",
       "49    2\n",
       "45    2\n",
       "12    2\n",
       "5     2\n",
       "26    2\n",
       "58    2\n",
       "29    2\n",
       "42    2\n",
       "33    2\n",
       "3     1\n",
       "4     1\n",
       "59    1\n",
       "13    1\n",
       "14    1\n",
       "19    1\n",
       "21    1\n",
       "22    1\n",
       "24    1\n",
       "37    1\n",
       "39    1\n",
       "47    1\n",
       "53    1\n",
       "27    1\n",
       "Name: time, dtype: int64"
      ]
     },
     "metadata": {},
     "execution_count": 57
    }
   ],
   "source": [
    "# 11.4 1\n",
    "\n",
    "minutes = log.time.dt.minute\n",
    "minutes.value_counts()"
   ]
  },
  {
   "cell_type": "code",
   "execution_count": 64,
   "metadata": {},
   "outputs": [
    {
     "output_type": "execute_result",
     "data": {
      "text/plain": [
       "1    291\n",
       "3    264\n",
       "2    259\n",
       "4    170\n",
       "Name: time, dtype: int64"
      ]
     },
     "metadata": {},
     "execution_count": 64
    }
   ],
   "source": [
    "# 11.4 2\n",
    "\n",
    "log=log.dropna(subset=['time'], axis=0)\n",
    "log.time = log.time.apply(lambda x: pd.to_datetime(x[1:]))\n",
    "# log.time = log.time.apply(lambda x: x.month)\n",
    "log.time.dt.month.value_counts()\n",
    "# months = log.time.dt.month\n",
    "# months.value_counts(ascending=True)"
   ]
  },
  {
   "cell_type": "code",
   "execution_count": 72,
   "metadata": {},
   "outputs": [
    {
     "output_type": "execute_result",
     "data": {
      "text/plain": [
       "5    152\n",
       "2    150\n",
       "1    149\n",
       "4    135\n",
       "0    135\n",
       "3    132\n",
       "6    131\n",
       "Name: time, dtype: int64"
      ]
     },
     "metadata": {},
     "execution_count": 72
    }
   ],
   "source": [
    "# 11.4 3\n",
    "\n",
    "dow = log.time.dt.dayofweek\n",
    "dow[dow > 4].count()\n",
    "log.time.dt.dayofweek.value_counts()"
   ]
  },
  {
   "cell_type": "code",
   "execution_count": 77,
   "metadata": {},
   "outputs": [
    {
     "output_type": "execute_result",
     "data": {
      "text/plain": [
       "                              user_id                time       bet     win  \\\n",
       "0    Запись пользователя № - user_973 2019-01-01 14:51:16       NaN     NaN   \n",
       "1    Запись пользователя № - user_903 2019-01-01 16:31:16       NaN     NaN   \n",
       "2    Запись пользователя № - user_954 2019-01-01 17:17:51       NaN     NaN   \n",
       "3    Запись пользователя № - user_954 2019-01-01 21:31:18       NaN     NaN   \n",
       "4    Запись пользователя № - user_917 2019-01-01 23:34:55  156789.0     NaN   \n",
       "..                                ...                 ...       ...     ...   \n",
       "990  Запись пользователя № - user_965 2019-04-20 12:55:41     800.0  6927.0   \n",
       "991  Запись пользователя № - user_967 2019-04-20 14:59:36   10154.0     NaN   \n",
       "992  Запись пользователя № - user_973 2019-04-20 17:09:56   10254.0     NaN   \n",
       "993  Запись пользователя № - user_977 2019-04-20 18:10:07   10354.0     NaN   \n",
       "994  Запись пользователя № - user_984 2019-04-20 09:59:58    9754.0     NaN   \n",
       "\n",
       "     hour  \n",
       "0      14  \n",
       "1      16  \n",
       "2      17  \n",
       "3      21  \n",
       "4      23  \n",
       "..    ...  \n",
       "990    12  \n",
       "991    14  \n",
       "992    17  \n",
       "993    18  \n",
       "994     9  \n",
       "\n",
       "[984 rows x 5 columns]"
      ],
      "text/html": "<div>\n<style scoped>\n    .dataframe tbody tr th:only-of-type {\n        vertical-align: middle;\n    }\n\n    .dataframe tbody tr th {\n        vertical-align: top;\n    }\n\n    .dataframe thead th {\n        text-align: right;\n    }\n</style>\n<table border=\"1\" class=\"dataframe\">\n  <thead>\n    <tr style=\"text-align: right;\">\n      <th></th>\n      <th>user_id</th>\n      <th>time</th>\n      <th>bet</th>\n      <th>win</th>\n      <th>hour</th>\n    </tr>\n  </thead>\n  <tbody>\n    <tr>\n      <th>0</th>\n      <td>Запись пользователя № - user_973</td>\n      <td>2019-01-01 14:51:16</td>\n      <td>NaN</td>\n      <td>NaN</td>\n      <td>14</td>\n    </tr>\n    <tr>\n      <th>1</th>\n      <td>Запись пользователя № - user_903</td>\n      <td>2019-01-01 16:31:16</td>\n      <td>NaN</td>\n      <td>NaN</td>\n      <td>16</td>\n    </tr>\n    <tr>\n      <th>2</th>\n      <td>Запись пользователя № - user_954</td>\n      <td>2019-01-01 17:17:51</td>\n      <td>NaN</td>\n      <td>NaN</td>\n      <td>17</td>\n    </tr>\n    <tr>\n      <th>3</th>\n      <td>Запись пользователя № - user_954</td>\n      <td>2019-01-01 21:31:18</td>\n      <td>NaN</td>\n      <td>NaN</td>\n      <td>21</td>\n    </tr>\n    <tr>\n      <th>4</th>\n      <td>Запись пользователя № - user_917</td>\n      <td>2019-01-01 23:34:55</td>\n      <td>156789.0</td>\n      <td>NaN</td>\n      <td>23</td>\n    </tr>\n    <tr>\n      <th>...</th>\n      <td>...</td>\n      <td>...</td>\n      <td>...</td>\n      <td>...</td>\n      <td>...</td>\n    </tr>\n    <tr>\n      <th>990</th>\n      <td>Запись пользователя № - user_965</td>\n      <td>2019-04-20 12:55:41</td>\n      <td>800.0</td>\n      <td>6927.0</td>\n      <td>12</td>\n    </tr>\n    <tr>\n      <th>991</th>\n      <td>Запись пользователя № - user_967</td>\n      <td>2019-04-20 14:59:36</td>\n      <td>10154.0</td>\n      <td>NaN</td>\n      <td>14</td>\n    </tr>\n    <tr>\n      <th>992</th>\n      <td>Запись пользователя № - user_973</td>\n      <td>2019-04-20 17:09:56</td>\n      <td>10254.0</td>\n      <td>NaN</td>\n      <td>17</td>\n    </tr>\n    <tr>\n      <th>993</th>\n      <td>Запись пользователя № - user_977</td>\n      <td>2019-04-20 18:10:07</td>\n      <td>10354.0</td>\n      <td>NaN</td>\n      <td>18</td>\n    </tr>\n    <tr>\n      <th>994</th>\n      <td>Запись пользователя № - user_984</td>\n      <td>2019-04-20 09:59:58</td>\n      <td>9754.0</td>\n      <td>NaN</td>\n      <td>9</td>\n    </tr>\n  </tbody>\n</table>\n<p>984 rows × 5 columns</p>\n</div>"
     },
     "metadata": {},
     "execution_count": 77
    }
   ],
   "source": [
    "# 11.4 5\n",
    "\n",
    "import pandas as pd\n",
    "\n",
    "log = pd.read_csv('log.csv')\n",
    "log.columns = ['user_id', 'time', 'bet', 'win']\n",
    "log = log.dropna(subset=['time'], axis=0)\n",
    "log.time = log.time.apply(lambda x: pd.to_datetime(x[1:]))\n",
    "log['hour'] = log.time.dt.hour\n",
    "\n",
    "log"
   ]
  },
  {
   "cell_type": "code",
   "execution_count": 92,
   "metadata": {},
   "outputs": [
    {
     "output_type": "execute_result",
     "data": {
      "text/plain": [
       "0           0.0\n",
       "1           0.0\n",
       "2           0.0\n",
       "3           0.0\n",
       "4      156789.0\n",
       "         ...   \n",
       "994      9754.0\n",
       "995     10054.0\n",
       "996     10454.0\n",
       "997      1000.0\n",
       "998     10754.0\n",
       "Name: bet, Length: 999, dtype: float64"
      ]
     },
     "metadata": {},
     "execution_count": 92
    }
   ],
   "source": [
    "# 11.5 1\n",
    "\n",
    "# log.bet.fillna(0)\n",
    "# len(log.query('bet == 0'))\n",
    "log.bet = log.bet.fillna(0)\n",
    "log.bet"
   ]
  },
  {
   "cell_type": "code",
   "execution_count": null,
   "metadata": {},
   "outputs": [],
   "source": []
  }
 ]
}