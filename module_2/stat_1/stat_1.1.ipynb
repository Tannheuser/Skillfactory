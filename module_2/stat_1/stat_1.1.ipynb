{
 "metadata": {
  "language_info": {
   "codemirror_mode": {
    "name": "ipython",
    "version": 3
   },
   "file_extension": ".py",
   "mimetype": "text/x-python",
   "name": "python",
   "nbconvert_exporter": "python",
   "pygments_lexer": "ipython3",
   "version": "3.8.3-final"
  },
  "orig_nbformat": 2,
  "kernelspec": {
   "name": "python3",
   "display_name": "Python 3",
   "language": "python"
  }
 },
 "nbformat": 4,
 "nbformat_minor": 2,
 "cells": [
  {
   "cell_type": "code",
   "execution_count": 1,
   "metadata": {},
   "outputs": [],
   "source": [
    "import pandas as pd\n",
    "\n",
    "df = pd.DataFrame({\n",
    "    'men': [80.2, 80.8, 57.5, 98, 50.5, 73.8, 77.4, 59.7, 77.9, 52.6],\n",
    "    'women': [57.9, 57.3, 72.8, 48.2, 59.5, 48.3, 61.2, 53.9, 53.9, 70.7]\n",
    "})"
   ]
  },
  {
   "cell_type": "code",
   "execution_count": 3,
   "metadata": {},
   "outputs": [
    {
     "output_type": "execute_result",
     "data": {
      "text/plain": [
       "12.5"
      ]
     },
     "metadata": {},
     "execution_count": 3
    }
   ],
   "source": [
    "# 1.5.1\n",
    "\n",
    "men_mean = df.men.mean()\n",
    "women_mean = df.women.mean()\n",
    "round(men_mean - women_mean, 1)"
   ]
  },
  {
   "cell_type": "code",
   "execution_count": 17,
   "metadata": {},
   "outputs": [
    {
     "output_type": "execute_result",
     "data": {
      "text/plain": [
       "0    1.5\n",
       "dtype: float64"
      ]
     },
     "metadata": {},
     "execution_count": 17
    }
   ],
   "source": [
    "# 1.5.2\n",
    "\n",
    "arr_1 = [2, 7, 4, 3, 6, 4, 1, 2]\n",
    "arr_2 = [5, 2, 4, 8, 1, 6, 7]\n",
    "df_1 = pd.DataFrame(arr_1)\n",
    "df_2 = pd.DataFrame(arr_2)\n",
    "\n",
    "abs(df_1.median() - df_2.median())\n"
   ]
  },
  {
   "cell_type": "code",
   "execution_count": 16,
   "metadata": {},
   "outputs": [
    {
     "output_type": "execute_result",
     "data": {
      "text/plain": [
       "59.6"
      ]
     },
     "metadata": {},
     "execution_count": 16
    }
   ],
   "source": [
    "# 1.5.3\n",
    "\n",
    "patients = pd.concat([df.men, df.women])\n",
    "patients.median()"
   ]
  },
  {
   "cell_type": "code",
   "execution_count": 22,
   "metadata": {},
   "outputs": [
    {
     "output_type": "execute_result",
     "data": {
      "text/plain": [
       "[1, 2, 2, 3, 4, 4, 6, 7]"
      ]
     },
     "metadata": {},
     "execution_count": 22
    }
   ],
   "source": [
    "# 1.6.1\n",
    "\n",
    "arr_1.sort()\n",
    "arr_2.sort()\n",
    "arr_1\n",
    "\n"
   ]
  },
  {
   "cell_type": "code",
   "execution_count": 30,
   "metadata": {},
   "outputs": [
    {
     "output_type": "execute_result",
     "data": {
      "text/plain": [
       "79.0"
      ]
     },
     "metadata": {},
     "execution_count": 30
    }
   ],
   "source": [
    "# 1.7.1\n",
    "\n",
    "df = pd.DataFrame({\n",
    "    'men': [80, 80.8, 57.5, 98, 50.5, 73.8, 77.4, 59.7, 77.9, 52.6],\n",
    "    'women': [57.9, 57.3, 72.8, 48.2, 59.5, 48.3, 61.2, 53.9, 53.9, 70.7]\n",
    "})\n",
    "df.men.quantile(0.25, interpolation='midpoint')\n",
    "round(df.men.quantile(0.75, interpolation='midpoint'), 1)\n",
    "round(df.women.quantile(0.25, interpolation='midpoint'), 1)\n",
    "round(df.women.quantile(0.75, interpolation='midpoint'), 1)\n",
    "round(df.men.quantile(0.75, interpolation='midpoint'), 1)"
   ]
  },
  {
   "cell_type": "code",
   "execution_count": 12,
   "metadata": {},
   "outputs": [
    {
     "output_type": "execute_result",
     "data": {
      "text/plain": [
       "{'men_range': 47.5, 'men_iqr': 20.5, 'women_range': 24.6, 'women_iqr': 6.5}"
      ]
     },
     "metadata": {},
     "execution_count": 12
    }
   ],
   "source": [
    "# 1.9.1\n",
    "\n",
    "df = pd.DataFrame({\n",
    "    'men': [80.2, 80.8, 57.5, 98, 50.5, 73.8, 77.4, 59.7, 77.9, 52.6],\n",
    "    'women': [57.9, 57.3, 72.8, 48.2, 59.5, 48.3, 61.2, 53.9, 53.9, 70.7]\n",
    "})\n",
    "result = {'men_range': 0, 'men_iqr': 0, 'women_range': 0, 'women_iqr': 0}\n",
    "men_min = df.men.min()\n",
    "men_max = df.men.max()\n",
    "men_quartile_1 = df.men.quantile(0.25, interpolation='midpoint')\n",
    "men_quartile_3 = df.men.quantile(0.75, interpolation='midpoint')\n",
    "women_quartile_1 = df.women.quantile(0.25, interpolation='midpoint')\n",
    "women_quartile_3 = df.women.quantile(0.75, interpolation='midpoint')\n",
    "women_min = df.women.min()\n",
    "women_max = df.women.max()\n",
    "result['men_range'] = round(men_max - men_min, 1)\n",
    "result['women_range'] = round(women_max - women_min, 1)\n",
    "result['men_iqr'] = round(men_quartile_3 - men_quartile_1, 1)\n",
    "result['women_iqr'] = round(women_quartile_3 - women_quartile_1, 1)\n",
    "result"
   ]
  },
  {
   "cell_type": "code",
   "execution_count": 17,
   "metadata": {},
   "outputs": [
    {
     "output_type": "execute_result",
     "data": {
      "text/plain": [
       "68.4"
      ]
     },
     "metadata": {},
     "execution_count": 17
    }
   ],
   "source": [
    "# 1.9.2\n",
    "\n",
    "men_std = round(df.men.std() ,1)\n",
    "men_var = round(df.men.var(), 1)\n",
    "women_std = round(df.women.std(), 1)\n",
    "women_var = round(df.women.var(), 1)\n",
    "\n"
   ]
  }
 ]
}