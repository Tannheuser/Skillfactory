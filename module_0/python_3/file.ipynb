{
 "metadata": {
  "language_info": {
   "codemirror_mode": {
    "name": "ipython",
    "version": 3
   },
   "file_extension": ".py",
   "mimetype": "text/x-python",
   "name": "python",
   "nbconvert_exporter": "python",
   "pygments_lexer": "ipython3",
   "version": "3.8.3-final"
  },
  "orig_nbformat": 2,
  "kernelspec": {
   "name": "python3",
   "display_name": "Python 3",
   "language": "python"
  }
 },
 "nbformat": 4,
 "nbformat_minor": 2,
 "cells": [
  {
   "cell_type": "code",
   "execution_count": 7,
   "metadata": {},
   "outputs": [
    {
     "output_type": "execute_result",
     "data": {
      "text/plain": [
       "'\"female\"'"
      ]
     },
     "metadata": {},
     "execution_count": 7
    }
   ],
   "source": [
    "csv = open('StudentsPerformance.csv') "
   ]
  },
  {
   "cell_type": "code",
   "execution_count": 13,
   "metadata": {},
   "outputs": [
    {
     "output_type": "stream",
     "name": "stdout",
     "text": [
      "118\n"
     ]
    }
   ],
   "source": [
    "# 3.7 2 (Parent bachelor's degree)\n",
    "csv = open('StudentsPerformance.csv') \n",
    "bachelors = 0\n",
    "\n",
    "for line in csv:\n",
    "    data = line.split(',')\n",
    "    education = data[2][1:-1]\n",
    "\n",
    "    if (education == 'bachelor\\'s degree'):\n",
    "        bachelors += 1\n",
    "\n",
    "print(bachelors)\n",
    "\n"
   ]
  },
  {
   "cell_type": "code",
   "execution_count": 18,
   "metadata": {},
   "outputs": [
    {
     "output_type": "stream",
     "name": "stdout",
     "text": [
      "0.645\n"
     ]
    }
   ],
   "source": [
    "# 3.7 2 (Unique educational levels)\n",
    "\n",
    "csv = open('StudentsPerformance.csv') \n",
    "levels = {}\n",
    "\n",
    "for line in csv:\n",
    "    data = line.split(',')\n",
    "    education = data[2][1:-1]\n",
    "\n",
    "    if (education != 'parental level of education'):\n",
    "       levels.setdefault(education, 0)\n",
    "\n",
    "len(levels.keys())\n",
    "        \n"
   ]
  },
  {
   "cell_type": "code",
   "execution_count": 22,
   "metadata": {},
   "outputs": [
    {
     "output_type": "stream",
     "name": "stdout",
     "text": [
      "64.5 %\n"
     ]
    }
   ],
   "source": [
    "# 3.7 3 (Lunch)\n",
    "\n",
    "csv = open('StudentsPerformance.csv') \n",
    "with_lunch = 0\n",
    "students = 0\n",
    "\n",
    "for line in csv:\n",
    "    students += 1\n",
    "    data = line.split(',')\n",
    "    lunch = data[3][1:-1]\n",
    "\n",
    "    if (lunch == 'standard'):\n",
    "       with_lunch += 1\n",
    "\n",
    "print(with_lunch / (students - 1) * 100, '%')"
   ]
  },
  {
   "cell_type": "code",
   "execution_count": 23,
   "metadata": {},
   "outputs": [
    {
     "output_type": "stream",
     "name": "stdout",
     "text": [
      "319\n"
     ]
    }
   ],
   "source": [
    "# 3.7 4 (group C)\n",
    "\n",
    "csv = open('StudentsPerformance.csv') \n",
    "group_c = 0\n",
    "\n",
    "for line in csv:\n",
    "    data = line.split(',')\n",
    "    race = data[1][1:-1]\n",
    "\n",
    "    if (race == 'group C'):\n",
    "       group_c += 1\n",
    "\n",
    "print(group_c)"
   ]
  },
  {
   "cell_type": "code",
   "execution_count": 24,
   "metadata": {},
   "outputs": [
    {
     "output_type": "execute_result",
     "data": {
      "text/plain": [
       "5"
      ]
     },
     "metadata": {},
     "execution_count": 24
    }
   ],
   "source": [
    "# 3.7 2 (Unique races)\n",
    "\n",
    "csv = open('StudentsPerformance.csv') \n",
    "races = {}\n",
    "\n",
    "for line in csv:\n",
    "    data = line.split(',')\n",
    "    race = data[1][1:-1]\n",
    "\n",
    "    if (race != 'race/ethnicity'):\n",
    "       races.setdefault(race, 0)\n",
    "\n",
    "len(races.keys())"
   ]
  },
  {
   "cell_type": "code",
   "execution_count": 1,
   "metadata": {},
   "outputs": [
    {
     "output_type": "stream",
     "name": "stdout",
     "text": [
      "['female', 'group B', \"bachelor's degree\", 'standard', 'none', 72, 72, 74]\n"
     ]
    }
   ],
   "source": [
    "# 3.8\n",
    "import re\n",
    "pattern = re.compile('\\d+')\n",
    "\n",
    "exams = []\n",
    "\n",
    "f = open('StudentsPerformance.csv')\n",
    "\n",
    "for line in f:\n",
    "    info = line.split(',')\n",
    "    if info[0] == '\"gender\"':\n",
    "        continue\n",
    "    else:\n",
    "        new_line = []\n",
    "        for item in info:\n",
    "            if pattern.search(item) != None:\n",
    "                new_line.append(int(pattern.search(item)[0]))\n",
    "            else:\n",
    "                new_line.append(item[1:-1])\n",
    "        exams.append(new_line)"
   ]
  },
  {
   "cell_type": "code",
   "execution_count": 10,
   "metadata": {},
   "outputs": [
    {
     "output_type": "stream",
     "name": "stdout",
     "text": [
      "69.169\n"
     ]
    }
   ],
   "source": [
    "# 3.8 1\n",
    "# Calculate reading score mean value\n",
    "read_results = list(map(lambda list: list[-2], exams))\n",
    "read_mean = sum(read_results) / len(exams)\n",
    "\n",
    "print(read_mean)"
   ]
  },
  {
   "cell_type": "code",
   "execution_count": 14,
   "metadata": {},
   "outputs": [
    {
     "output_type": "stream",
     "name": "stdout",
     "text": [
      "487\n"
     ]
    }
   ],
   "source": [
    "# 3.8 2\n",
    "# Calculate number of students with reading score lower than mean value\n",
    "less_mean_results = [result for result in read_results if result < read_mean]\n",
    "\n",
    "print(len(less_mean_results))"
   ]
  },
  {
   "cell_type": "code",
   "execution_count": 16,
   "metadata": {},
   "outputs": [
    {
     "output_type": "stream",
     "name": "stdout",
     "text": [
      "72.608\n"
     ]
    }
   ],
   "source": [
    "# 3.8 3\n",
    "# Calculate average reading score for females\n",
    "female_read_results = [result[-2] for result in exams if result[0] == 'female']\n",
    "female_average_result = sum(female_read_results) / len(female_read_results)\n",
    "\n",
    "print(round(female_average_result, 3))\n"
   ]
  },
  {
   "cell_type": "code",
   "execution_count": 19,
   "metadata": {},
   "outputs": [
    {
     "output_type": "stream",
     "name": "stdout",
     "text": [
      "68\n"
     ]
    }
   ],
   "source": [
    "# 3.8 3\n",
    "# Calculate count of writing score results more than 90\n",
    "write_high_results = [result for result in exams if result[-1] > 90]\n",
    "\n",
    "print(len(write_high_results))"
   ]
  },
  {
   "cell_type": "code",
   "execution_count": 27,
   "metadata": {},
   "outputs": [
    {
     "output_type": "stream",
     "name": "stdout",
     "text": [
      "86.8 %\n"
     ]
    }
   ],
   "source": [
    "# 3.8 3\n",
    "# Calculate % of students with writing score results more than 90 and standard lunch\n",
    "write_standard_lunch = [result for result in write_high_results if result[3] == 'standard']\n",
    "\n",
    "print(round(len(write_standard_lunch) / len(write_high_results) * 100, 1), '%')"
   ]
  },
  {
   "cell_type": "code",
   "execution_count": null,
   "metadata": {},
   "outputs": [],
   "source": []
  }
 ]
}