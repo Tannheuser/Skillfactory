{
 "metadata": {
  "language_info": {
   "codemirror_mode": {
    "name": "ipython",
    "version": 3
   },
   "file_extension": ".py",
   "mimetype": "text/x-python",
   "name": "python",
   "nbconvert_exporter": "python",
   "pygments_lexer": "ipython3",
   "version": "3.8.3-final"
  },
  "orig_nbformat": 2,
  "kernelspec": {
   "name": "python3",
   "display_name": "Python 3",
   "language": "python"
  }
 },
 "nbformat": 4,
 "nbformat_minor": 2,
 "cells": [
  {
   "cell_type": "code",
   "execution_count": 7,
   "metadata": {},
   "outputs": [
    {
     "output_type": "execute_result",
     "data": {
      "text/plain": [
       "'\"female\"'"
      ]
     },
     "metadata": {},
     "execution_count": 7
    }
   ],
   "source": [
    "csv = open('StudentsPerformance.csv') "
   ]
  },
  {
   "cell_type": "code",
   "execution_count": 13,
   "metadata": {},
   "outputs": [
    {
     "output_type": "stream",
     "name": "stdout",
     "text": [
      "118\n"
     ]
    }
   ],
   "source": [
    "# 3.7 2 (Parent bachelor's degree)\n",
    "csv = open('StudentsPerformance.csv') \n",
    "bachelors = 0\n",
    "\n",
    "for line in csv:\n",
    "    data = line.split(',')\n",
    "    education = data[2][1:-1]\n",
    "\n",
    "    if (education == 'bachelor\\'s degree'):\n",
    "        bachelors += 1\n",
    "\n",
    "print(bachelors)\n",
    "\n"
   ]
  },
  {
   "cell_type": "code",
   "execution_count": 18,
   "metadata": {},
   "outputs": [
    {
     "output_type": "stream",
     "name": "stdout",
     "text": [
      "0.645\n"
     ]
    }
   ],
   "source": [
    "# 3.7 2 (Unique educational levels)\n",
    "\n",
    "csv = open('StudentsPerformance.csv') \n",
    "levels = {}\n",
    "\n",
    "for line in csv:\n",
    "    data = line.split(',')\n",
    "    education = data[2][1:-1]\n",
    "\n",
    "    if (education != 'parental level of education'):\n",
    "       levels.setdefault(education, 0)\n",
    "\n",
    "len(levels.keys())\n",
    "        \n"
   ]
  },
  {
   "cell_type": "code",
   "execution_count": 22,
   "metadata": {},
   "outputs": [
    {
     "output_type": "stream",
     "name": "stdout",
     "text": [
      "64.5 %\n"
     ]
    }
   ],
   "source": [
    "# 3.7 3 (Lunch)\n",
    "\n",
    "csv = open('StudentsPerformance.csv') \n",
    "with_lunch = 0\n",
    "students = 0\n",
    "\n",
    "for line in csv:\n",
    "    students += 1\n",
    "    data = line.split(',')\n",
    "    lunch = data[3][1:-1]\n",
    "\n",
    "    if (lunch == 'standard'):\n",
    "       with_lunch += 1\n",
    "\n",
    "print(with_lunch / (students - 1) * 100, '%')"
   ]
  },
  {
   "cell_type": "code",
   "execution_count": 23,
   "metadata": {},
   "outputs": [
    {
     "output_type": "stream",
     "name": "stdout",
     "text": [
      "319\n"
     ]
    }
   ],
   "source": [
    "# 3.7 4 (group C)\n",
    "\n",
    "csv = open('StudentsPerformance.csv') \n",
    "group_c = 0\n",
    "\n",
    "for line in csv:\n",
    "    data = line.split(',')\n",
    "    race = data[1][1:-1]\n",
    "\n",
    "    if (race == 'group C'):\n",
    "       group_c += 1\n",
    "\n",
    "print(group_c)"
   ]
  },
  {
   "cell_type": "code",
   "execution_count": 24,
   "metadata": {},
   "outputs": [
    {
     "output_type": "execute_result",
     "data": {
      "text/plain": [
       "5"
      ]
     },
     "metadata": {},
     "execution_count": 24
    }
   ],
   "source": [
    "# 3.7 2 (Unique races)\n",
    "\n",
    "csv = open('StudentsPerformance.csv') \n",
    "races = {}\n",
    "\n",
    "for line in csv:\n",
    "    data = line.split(',')\n",
    "    race = data[1][1:-1]\n",
    "\n",
    "    if (race != 'race/ethnicity'):\n",
    "       races.setdefault(race, 0)\n",
    "\n",
    "len(races.keys())"
   ]
  },
  {
   "cell_type": "code",
   "execution_count": 25,
   "metadata": {},
   "outputs": [
    {
     "output_type": "execute_result",
     "data": {
      "text/plain": [
       "87"
      ]
     },
     "metadata": {},
     "execution_count": 25
    }
   ],
   "source": [
    "175 //2\n"
   ]
  },
  {
   "cell_type": "code",
   "execution_count": null,
   "metadata": {},
   "outputs": [],
   "source": []
  }
 ]
}