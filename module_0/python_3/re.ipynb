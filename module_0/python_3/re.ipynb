{
 "metadata": {
  "language_info": {
   "codemirror_mode": {
    "name": "ipython",
    "version": 3
   },
   "file_extension": ".py",
   "mimetype": "text/x-python",
   "name": "python",
   "nbconvert_exporter": "python",
   "pygments_lexer": "ipython3",
   "version": "3.8.3-final"
  },
  "orig_nbformat": 2,
  "kernelspec": {
   "name": "python3",
   "display_name": "Python 3",
   "language": "python"
  }
 },
 "nbformat": 4,
 "nbformat_minor": 2,
 "cells": [
  {
   "cell_type": "code",
   "execution_count": 2,
   "metadata": {},
   "outputs": [
    {
     "output_type": "execute_result",
     "data": {
      "text/plain": [
       "<re.Match object; span=(44, 48), match='1980'>"
      ]
     },
     "metadata": {},
     "execution_count": 2
    }
   ],
   "source": [
    "import re\n",
    "\n",
    "text = 'Разработка языка Python была начата в конце 1980-х годов сотрудником голландского института CWI Гвидо ван Россумом. Для распределённой ОС Amoeba требовался расширяемый скриптовый язык, и Гвидо начал писать Python на досуге, позаимствовав некоторые наработки для языка ABC (Гвидо участвовал в разработке этого языка, ориентированного на обучение программированию). В феврале 1991 года Гвидо опубликовал исходный текст в группе новостей alt.sources. Название языка произошло вовсе не от вида пресмыкающихся. Автор назвал язык в честь популярного британского комедийного телешоу 1970-х \"Летающий цирк Монти Пайтона\".'\n",
    "\n",
    "pattern = re.compile('\\d+')\n",
    "pattern.search(text)"
   ]
  },
  {
   "cell_type": "code",
   "execution_count": 3,
   "metadata": {},
   "outputs": [
    {
     "output_type": "execute_result",
     "data": {
      "text/plain": [
       "['Python', 'CWI', 'Amoeba', 'Python', 'ABC', 'alt', 'sources']"
      ]
     },
     "metadata": {},
     "execution_count": 3
    }
   ],
   "source": [
    "pattern2 = re.compile('[A-Za-z]+')\n",
    "pattern2.findall(text)"
   ]
  },
  {
   "cell_type": "code",
   "execution_count": 5,
   "metadata": {},
   "outputs": [
    {
     "output_type": "execute_result",
     "data": {
      "text/plain": [
       "['Разработка', 'языка', 'языка', 'языка', 'языка', 'пресмыка']"
      ]
     },
     "metadata": {},
     "execution_count": 5
    }
   ],
   "source": [
    "pattern3 = re.compile('[А-Яа-я]+ка')\n",
    "pattern3.findall(text)"
   ]
  },
  {
   "cell_type": "code",
   "execution_count": 8,
   "metadata": {},
   "outputs": [
    {
     "output_type": "execute_result",
     "data": {
      "text/plain": [
       "['асши', 'амми', 'ающи', 'ающи']"
      ]
     },
     "metadata": {},
     "execution_count": 8
    }
   ],
   "source": [
    "pattern4 = re.compile('а[а-я][а-я]и')\n",
    "pattern4.findall(text)"
   ]
  },
  {
   "cell_type": "code",
   "execution_count": 12,
   "metadata": {},
   "outputs": [
    {
     "output_type": "execute_result",
     "data": {
      "text/plain": [
       "22"
      ]
     },
     "metadata": {},
     "execution_count": 12
    }
   ],
   "source": [
    "pattern5 = re.compile('[аеёиоуыэюя]\\s[йЙцЦкКнНгГшШщЩзЗхХфФвВпПрРлЛдДжЖбБтТмМсСчЧ]')\n",
    "len(pattern5.findall(text))"
   ]
  },
  {
   "cell_type": "code",
   "execution_count": null,
   "metadata": {},
   "outputs": [],
   "source": []
  }
 ]
}