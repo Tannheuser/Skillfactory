{
 "metadata": {
  "language_info": {
   "codemirror_mode": {
    "name": "ipython",
    "version": 3
   },
   "file_extension": ".py",
   "mimetype": "text/x-python",
   "name": "python",
   "nbconvert_exporter": "python",
   "pygments_lexer": "ipython3",
   "version": "3.8.3-final"
  },
  "orig_nbformat": 2,
  "kernelspec": {
   "name": "python3",
   "display_name": "Python 3",
   "language": "python"
  }
 },
 "nbformat": 4,
 "nbformat_minor": 2,
 "cells": [
  {
   "cell_type": "code",
   "execution_count": 4,
   "metadata": {},
   "outputs": [],
   "source": [
    "# 4.3\n",
    "def power(x, y):\n",
    "    return x**y\n",
    "\n",
    "power(2,3)"
   ]
  },
  {
   "cell_type": "code",
   "execution_count": 22,
   "metadata": {},
   "outputs": [
    {
     "output_type": "execute_result",
     "data": {
      "text/plain": [
       "5.0"
      ]
     },
     "metadata": {},
     "execution_count": 22
    }
   ],
   "source": [
    "# 4.4\n",
    "def get_median(numbers):\n",
    "    numbers.sort()\n",
    "    length = len(numbers)\n",
    "    median = 0\n",
    "    median_index = length // 2\n",
    "    if (length % 2 == 0):\n",
    "        median = (numbers[median_index] + numbers[median_index - 1]) / 2\n",
    "    else:\n",
    "        median = numbers[median_index]\n",
    "\n",
    "    return median\n",
    "\n",
    "get_median([3,3,7,9])\n"
   ]
  },
  {
   "cell_type": "code",
   "execution_count": 26,
   "metadata": {},
   "outputs": [
    {
     "output_type": "stream",
     "name": "stdout",
     "text": [
      "29.0\n"
     ]
    }
   ],
   "source": [
    "# 4.5\n",
    "user_db = [{'orders': 12}, {'orders': 30}, {'orders': 45}]\n",
    "\n",
    "def avg_orders(users):\n",
    "    order_sum = sum([user['orders'] for user in users])\n",
    "    return order_sum/len(users)\n",
    "\n",
    "print(avg_orders(user_db))"
   ]
  },
  {
   "cell_type": "code",
   "execution_count": 30,
   "metadata": {},
   "outputs": [
    {
     "output_type": "execute_result",
     "data": {
      "text/plain": [
       "0.37740990515326955"
      ]
     },
     "metadata": {},
     "execution_count": 30
    }
   ],
   "source": [
    "# 4.5 2\n",
    "# добавьте функцию get_euro_rate\n",
    "from random import randint\n",
    "\n",
    "def get_euro_rate():\n",
    "    return randint(65, 85)\n",
    "\n",
    "# используйте get_euro_rate в следующей функции\n",
    "def to_euro(price):  \n",
    "    exchange_rate = get_euro_rate()  \n",
    "    rounded = round(price/exchange_rate, 2)  \n",
    "    return '€' + str(rounded)\n",
    "\n",
    "get_euro_rate()"
   ]
  },
  {
   "cell_type": "code",
   "execution_count": 5,
   "metadata": {},
   "outputs": [
    {
     "output_type": "stream",
     "name": "stdout",
     "text": [
      "[-14, -10, -3, -2, 5, 24]\n"
     ]
    }
   ],
   "source": [
    "\n",
    "# 4.10\n",
    "values = [4, 8, 15, 16, 23, 42]\n",
    "mean = 18\n",
    "\n",
    "result = list(map(lambda x: x - mean ,values))\n",
    "\n",
    "print(result)\n"
   ]
  },
  {
   "cell_type": "code",
   "execution_count": 6,
   "metadata": {},
   "outputs": [
    {
     "output_type": "stream",
     "name": "stdout",
     "text": [
      "0.5\n"
     ]
    }
   ],
   "source": [
    "values = [-7, -7, 7, 7]\n",
    "std = 42\n",
    "\n",
    "def count_std():\n",
    "    mean = sum(values)/len(values)\n",
    "    std = (sum([(value-mean)**2 for value in values])/len(values))**0.5\n",
    "    return std\n",
    "\n",
    "def normalize(value):\n",
    "    result = value/std\n",
    "    return result \n",
    "\n",
    "print(normalize(21))"
   ]
  },
  {
   "cell_type": "code",
   "execution_count": null,
   "metadata": {},
   "outputs": [],
   "source": []
  }
 ]
}